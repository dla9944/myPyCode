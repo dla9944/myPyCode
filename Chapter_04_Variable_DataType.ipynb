{
 "cells": [
  {
   "cell_type": "markdown",
   "id": "6fb063c7",
   "metadata": {},
   "source": [
    "# 4장 변수와 자료형"
   ]
  },
  {
   "cell_type": "markdown",
   "id": "8059b9b1",
   "metadata": {},
   "source": [
    "# 4.1 변수"
   ]
  },
  {
   "cell_type": "code",
   "execution_count": 1,
   "id": "5641120b",
   "metadata": {},
   "outputs": [
    {
     "data": {
      "text/plain": [
       "6170.0"
      ]
     },
     "execution_count": 1,
     "metadata": {},
     "output_type": "execute_result"
    }
   ],
   "source": [
    "12340 * 1/2"
   ]
  },
  {
   "cell_type": "code",
   "execution_count": 2,
   "id": "ed2e5306",
   "metadata": {},
   "outputs": [
    {
     "data": {
      "text/plain": [
       "3085.0"
      ]
     },
     "execution_count": 2,
     "metadata": {},
     "output_type": "execute_result"
    }
   ],
   "source": [
    "12340 * 1/4"
   ]
  },
  {
   "cell_type": "code",
   "execution_count": 3,
   "id": "9c881ad9",
   "metadata": {},
   "outputs": [
    {
     "data": {
      "text/plain": [
       "2468.0"
      ]
     },
     "execution_count": 3,
     "metadata": {},
     "output_type": "execute_result"
    }
   ],
   "source": [
    "12340 * 1/5"
   ]
  },
  {
   "cell_type": "markdown",
   "id": "da146df4",
   "metadata": {},
   "source": [
    "## 데이터를 변수에 할당 "
   ]
  },
  {
   "cell_type": "markdown",
   "id": "4c208944",
   "metadata": {},
   "source": [
    "### 변수에 자료를 할당하고, 변수를 불러 값을 출력합니다. (반대는 상수 = 변하지 않습니다.)"
   ]
  },
  {
   "cell_type": "markdown",
   "id": "20286ad2",
   "metadata": {},
   "source": [
    "### 규칙\n",
    "1. 변수명은 문자, 숫자, 밑줄 기호를 이용하여 만들 수 있다.\n",
    "ex) a, book, my_student2, MyDog, _my_number\n",
    "2. 숫자로 시작할 수 없다. 5징어(x)\n",
    "3. 대소문자를 구별함 Money != money\n",
    "4. 공백은 불가함 world cup (x)\n",
    "5. 밑줄 이외의 기호는 불가 (%, & 등)\n",
    "6. 예약어는 사용 불가 (True, False, and, or 등) (이미 존재하는 함수입니다)"
   ]
  },
  {
   "cell_type": "code",
   "execution_count": 22,
   "id": "394ebf6e",
   "metadata": {},
   "outputs": [
    {
     "name": "stdout",
     "output_type": "stream",
     "text": [
      "12340\n"
     ]
    }
   ],
   "source": [
    "abc = 12340\n",
    "print(abc)"
   ]
  },
  {
   "cell_type": "code",
   "execution_count": 23,
   "id": "0d246e54",
   "metadata": {},
   "outputs": [
    {
     "data": {
      "text/plain": [
       "12340"
      ]
     },
     "execution_count": 23,
     "metadata": {},
     "output_type": "execute_result"
    }
   ],
   "source": [
    "abc"
   ]
  },
  {
   "cell_type": "code",
   "execution_count": 24,
   "id": "3d9c70bc",
   "metadata": {},
   "outputs": [
    {
     "name": "stdout",
     "output_type": "stream",
     "text": [
      "6170.0\n",
      "3085.0\n",
      "2468.0\n"
     ]
    }
   ],
   "source": [
    "print(abc * 1/2)\n",
    "print(abc * 1/4)\n",
    "print(abc * 1/5)"
   ]
  },
  {
   "cell_type": "markdown",
   "id": "0e654037",
   "metadata": {},
   "source": [
    "# 4.2 문자열"
   ]
  },
  {
   "cell_type": "markdown",
   "id": "c3480fa5",
   "metadata": {},
   "source": [
    "### 문자열 만들기"
   ]
  },
  {
   "cell_type": "code",
   "execution_count": 37,
   "id": "76a31fc8",
   "metadata": {},
   "outputs": [],
   "source": [
    "a = 2\n",
    "b = 1\n",
    "ab = a or b"
   ]
  },
  {
   "cell_type": "code",
   "execution_count": 38,
   "id": "4b9ff35f",
   "metadata": {},
   "outputs": [
    {
     "name": "stdout",
     "output_type": "stream",
     "text": [
      "2\n"
     ]
    }
   ],
   "source": [
    "print(ab)"
   ]
  },
  {
   "cell_type": "markdown",
   "id": "4ed04bf8",
   "metadata": {},
   "source": [
    "### 큰 따옴표, 작은 따옴표 둘다 허용됩니다."
   ]
  },
  {
   "cell_type": "code",
   "execution_count": 39,
   "id": "4a066d72",
   "metadata": {},
   "outputs": [
    {
     "name": "stdout",
     "output_type": "stream",
     "text": [
      "String Test\n"
     ]
    }
   ],
   "source": [
    "print(\"String Test\")"
   ]
  },
  {
   "cell_type": "code",
   "execution_count": 40,
   "id": "608dd18b",
   "metadata": {},
   "outputs": [
    {
     "name": "stdout",
     "output_type": "stream",
     "text": [
      "String Test\n"
     ]
    }
   ],
   "source": [
    "print('String Test')"
   ]
  },
  {
   "cell_type": "code",
   "execution_count": 2,
   "id": "53433623",
   "metadata": {},
   "outputs": [
    {
     "name": "stdout",
     "output_type": "stream",
     "text": [
      "String test 1\n",
      "String test 2\n"
     ]
    }
   ],
   "source": [
    "string1 = \"String test 1\"\n",
    "string2 = \"String test 2\"\n",
    "print(string1)\n",
    "print(string2)"
   ]
  },
  {
   "cell_type": "markdown",
   "id": "7eea1256",
   "metadata": {},
   "source": [
    "#### 타입은 str"
   ]
  },
  {
   "cell_type": "code",
   "execution_count": 3,
   "id": "3a8ebb67",
   "metadata": {
    "scrolled": true
   },
   "outputs": [
    {
     "data": {
      "text/plain": [
       "str"
      ]
     },
     "execution_count": 3,
     "metadata": {},
     "output_type": "execute_result"
    }
   ],
   "source": [
    "type(string1)"
   ]
  },
  {
   "cell_type": "markdown",
   "id": "d4012b64",
   "metadata": {},
   "source": [
    "#### 큰따옴표와 작은따옴표 출력하기?"
   ]
  },
  {
   "cell_type": "code",
   "execution_count": 10,
   "id": "5aaa3e70",
   "metadata": {},
   "outputs": [
    {
     "name": "stdout",
     "output_type": "stream",
     "text": [
      "This is a \"double\" quotation test\n",
      "This is a 'single' quotation test\n"
     ]
    }
   ],
   "source": [
    "string3 = 'This is a \"double\" quotation test'\n",
    "string4 = \"This is a 'single' quotation test\"\n",
    "print(string3)\n",
    "print(string4)"
   ]
  },
  {
   "cell_type": "code",
   "execution_count": 12,
   "id": "5aa71419",
   "metadata": {},
   "outputs": [
    {
     "data": {
      "text/plain": [
       "15"
      ]
     },
     "execution_count": 12,
     "metadata": {},
     "output_type": "execute_result"
    }
   ],
   "source": [
    "30 // 2"
   ]
  },
  {
   "cell_type": "markdown",
   "id": "b5ce5d1b",
   "metadata": {},
   "source": [
    "### 삼중따옴표 활용"
   ]
  },
  {
   "cell_type": "code",
   "execution_count": 26,
   "id": "6773c1ee",
   "metadata": {},
   "outputs": [
    {
     "name": "stdout",
     "output_type": "stream",
     "text": [
      "[삼중 작은 따옴표를 사용한 예]\n",
      "파이썬에는 삼중 따옴표로 여러 행의 문자열을 입력할 수 있습니다.\n",
      "큰따옴표(\")와 작은따옴표(')를 입력할 수 있습니다.\n",
      "\n",
      "[삼중 큰따옴표를 사용한 예]\n",
      "파이썬에는 삼중 따옴표로 여러 행의 문자열을 입력할 수 있습니다.\n",
      "큰따옴표(\")와 작은 따옴표(')도 입력할 수 있습니다.\n",
      "\n"
     ]
    }
   ],
   "source": [
    "long_string1 = '''[삼중 작은 따옴표를 사용한 예]\n",
    "파이썬에는 삼중 따옴표로 여러 행의 문자열을 입력할 수 있습니다.\n",
    "큰따옴표(\")와 작은따옴표(')를 입력할 수 있습니다.\n",
    "'''\n",
    "\n",
    "long_string2 = \"\"\"[삼중 큰따옴표를 사용한 예]\n",
    "파이썬에는 삼중 따옴표로 여러 행의 문자열을 입력할 수 있습니다.\n",
    "큰따옴표(\")와 작은 따옴표(')도 입력할 수 있습니다.\n",
    "\"\"\"\n",
    "\n",
    "print(long_string1)\n",
    "print(long_string2)"
   ]
  },
  {
   "cell_type": "markdown",
   "id": "4c4a9216",
   "metadata": {},
   "source": [
    "##### ▲문자를 길게 입력할 수 있습니다."
   ]
  },
  {
   "cell_type": "markdown",
   "id": "2bd09ca2",
   "metadata": {},
   "source": [
    "# 문자열 다루기"
   ]
  },
  {
   "cell_type": "markdown",
   "id": "894a264a",
   "metadata": {},
   "source": [
    "#### 문자열 더하기, 곱셈"
   ]
  },
  {
   "cell_type": "code",
   "execution_count": 36,
   "id": "9d00c4e2",
   "metadata": {},
   "outputs": [
    {
     "name": "stdout",
     "output_type": "stream",
     "text": [
      "Enjoy python!\n"
     ]
    }
   ],
   "source": [
    "a = 'Enjoy '\n",
    "b = \"python!\"\n",
    "c = a+b\n",
    "print(c)"
   ]
  },
  {
   "cell_type": "code",
   "execution_count": 29,
   "id": "1474131f",
   "metadata": {},
   "outputs": [
    {
     "name": "stdout",
     "output_type": "stream",
     "text": [
      "Enjoy Enjoy Enjoy \n"
     ]
    }
   ],
   "source": [
    "print(a*3)"
   ]
  },
  {
   "cell_type": "code",
   "execution_count": 37,
   "id": "e42ff02d",
   "metadata": {},
   "outputs": [
    {
     "name": "stdout",
     "output_type": "stream",
     "text": [
      "Enjoy \n"
     ]
    }
   ],
   "source": [
    "print(a)"
   ]
  },
  {
   "cell_type": "markdown",
   "id": "9fbbfbf0",
   "metadata": {},
   "source": [
    "# 4.3 리스트"
   ]
  },
  {
   "cell_type": "markdown",
   "id": "db07688f",
   "metadata": {},
   "source": [
    "## 리스트 만들기"
   ]
  },
  {
   "cell_type": "markdown",
   "id": "8f55686d",
   "metadata": {},
   "source": [
    "### 데이터를 한꺼번에 처리하기 위해 묶어놓으면 편하다 \n",
    "기호 : []"
   ]
  },
  {
   "cell_type": "code",
   "execution_count": 75,
   "id": "c1696b3b",
   "metadata": {},
   "outputs": [
    {
     "data": {
      "text/plain": [
       "[90, 95, 85, 80, 75]"
      ]
     },
     "execution_count": 75,
     "metadata": {},
     "output_type": "execute_result"
    }
   ],
   "source": [
    "# a 학생의 국어, 영어, 수학, 과학 점수가 각각 90, 95, 85, 80, 75이다.\n",
    "studenta = [90, 95, 85, 80, 75]\n",
    "studenta"
   ]
  },
  {
   "cell_type": "markdown",
   "id": "dba858b1",
   "metadata": {},
   "source": [
    "##### 리스트의 타입 및 출력"
   ]
  },
  {
   "cell_type": "code",
   "execution_count": 77,
   "id": "b279d0ef",
   "metadata": {},
   "outputs": [
    {
     "data": {
      "text/plain": [
       "list"
      ]
     },
     "execution_count": 77,
     "metadata": {},
     "output_type": "execute_result"
    }
   ],
   "source": [
    "type(studenta)"
   ]
  },
  {
   "cell_type": "code",
   "execution_count": 78,
   "id": "60ad5448",
   "metadata": {},
   "outputs": [
    {
     "data": {
      "text/plain": [
       "[90, 95, 85, 80, 75]"
      ]
     },
     "execution_count": 78,
     "metadata": {},
     "output_type": "execute_result"
    }
   ],
   "source": [
    "studenta"
   ]
  },
  {
   "cell_type": "code",
   "execution_count": 80,
   "id": "cd919a46",
   "metadata": {},
   "outputs": [
    {
     "data": {
      "text/plain": [
       "90"
      ]
     },
     "execution_count": 80,
     "metadata": {},
     "output_type": "execute_result"
    }
   ],
   "source": [
    "studenta[0] #1번째 항목 출력 (컴퓨터는 0과 1로 시작했기 때문)"
   ]
  },
  {
   "cell_type": "code",
   "execution_count": 82,
   "id": "1619dc7d",
   "metadata": {},
   "outputs": [
    {
     "data": {
      "text/plain": [
       "95"
      ]
     },
     "execution_count": 82,
     "metadata": {},
     "output_type": "execute_result"
    }
   ],
   "source": [
    "studenta[1] #2번째 항목 출력"
   ]
  },
  {
   "cell_type": "code",
   "execution_count": 83,
   "id": "6b50a2db",
   "metadata": {},
   "outputs": [
    {
     "data": {
      "text/plain": [
       "85"
      ]
     },
     "execution_count": 83,
     "metadata": {},
     "output_type": "execute_result"
    }
   ],
   "source": [
    "studenta[2] #3번째 항목 출력"
   ]
  },
  {
   "cell_type": "code",
   "execution_count": 88,
   "id": "188a870b",
   "metadata": {},
   "outputs": [
    {
     "data": {
      "text/plain": [
       "75"
      ]
     },
     "execution_count": 88,
     "metadata": {},
     "output_type": "execute_result"
    }
   ],
   "source": [
    "studenta[-1] #마지막 항목 출력 (음수는 -1부터 가장 마지막 항목을 시작으로 한개씩 오기 때문)"
   ]
  },
  {
   "cell_type": "code",
   "execution_count": 89,
   "id": "abdbeace",
   "metadata": {},
   "outputs": [
    {
     "data": {
      "text/plain": [
       "80"
      ]
     },
     "execution_count": 89,
     "metadata": {},
     "output_type": "execute_result"
    }
   ],
   "source": [
    "studenta[-2]"
   ]
  },
  {
   "cell_type": "markdown",
   "id": "f69990b1",
   "metadata": {},
   "source": [
    "### 새로운 데이터를 할당"
   ]
  },
  {
   "cell_type": "code",
   "execution_count": 97,
   "id": "67e507a1",
   "metadata": {},
   "outputs": [
    {
     "data": {
      "text/plain": [
       "100"
      ]
     },
     "execution_count": 97,
     "metadata": {},
     "output_type": "execute_result"
    }
   ],
   "source": [
    "studenta[1] = 100 # 2번째 항목에 새로운 데이터를 할당합니다.\n",
    "studenta[1]"
   ]
  },
  {
   "cell_type": "markdown",
   "id": "708b2fc1",
   "metadata": {},
   "source": [
    "### 데이터 문자열"
   ]
  },
  {
   "cell_type": "code",
   "execution_count": 21,
   "id": "ecf06083",
   "metadata": {},
   "outputs": [
    {
     "data": {
      "text/plain": [
       "['James', 'Robert', 'Lisa', 'Mary']"
      ]
     },
     "execution_count": 21,
     "metadata": {},
     "output_type": "execute_result"
    }
   ],
   "source": [
    "myFriends = ['James', 'Robert', 'Lisa', 'Mary']\n",
    "myFriends"
   ]
  },
  {
   "cell_type": "code",
   "execution_count": 106,
   "id": "08100a1d",
   "metadata": {},
   "outputs": [
    {
     "data": {
      "text/plain": [
       "'James'"
      ]
     },
     "execution_count": 106,
     "metadata": {},
     "output_type": "execute_result"
    }
   ],
   "source": [
    "myFriends[0] # 1번째 문자열을 출력"
   ]
  },
  {
   "cell_type": "code",
   "execution_count": 107,
   "id": "4e3fcd42",
   "metadata": {},
   "outputs": [
    {
     "data": {
      "text/plain": [
       "'Mary'"
      ]
     },
     "execution_count": 107,
     "metadata": {},
     "output_type": "execute_result"
    }
   ],
   "source": [
    "myFriends[3] # 4번째 문자열을 출력"
   ]
  },
  {
   "cell_type": "code",
   "execution_count": 108,
   "id": "776382eb",
   "metadata": {},
   "outputs": [
    {
     "data": {
      "text/plain": [
       "'Mary'"
      ]
     },
     "execution_count": 108,
     "metadata": {},
     "output_type": "execute_result"
    }
   ],
   "source": [
    "myFriends[-1] # 마지막 문자열을 출력"
   ]
  },
  {
   "cell_type": "code",
   "execution_count": 27,
   "id": "9067f62e",
   "metadata": {},
   "outputs": [
    {
     "data": {
      "text/plain": [
       "['James', 'Lisa']"
      ]
     },
     "execution_count": 27,
     "metadata": {},
     "output_type": "execute_result"
    }
   ],
   "source": [
    "myFriends[0:3:2]"
   ]
  },
  {
   "cell_type": "markdown",
   "id": "5d7299fb",
   "metadata": {},
   "source": [
    "### 다른 타입끼리도 생성 가능"
   ]
  },
  {
   "cell_type": "code",
   "execution_count": 51,
   "id": "ca70e6b2",
   "metadata": {},
   "outputs": [],
   "source": [
    "mixedList = [0,2,3.14,'python','program',True,myFriends]"
   ]
  },
  {
   "cell_type": "markdown",
   "id": "f660494b",
   "metadata": {},
   "source": [
    "*문자, 숫자(정수,실수), 논리값, 다른 리스트까지 가능합니다"
   ]
  },
  {
   "cell_type": "code",
   "execution_count": 52,
   "id": "e07c5657",
   "metadata": {},
   "outputs": [
    {
     "data": {
      "text/plain": [
       "[0, 2, 3.14, 'python', 'program', True, ['James', 'Robert', 'Lisa', 'Mary']]"
      ]
     },
     "execution_count": 52,
     "metadata": {},
     "output_type": "execute_result"
    }
   ],
   "source": [
    "mixedList"
   ]
  },
  {
   "cell_type": "markdown",
   "id": "03307733",
   "metadata": {},
   "source": [
    "## 리스트 다루기"
   ]
  },
  {
   "cell_type": "markdown",
   "id": "2e024da6",
   "metadata": {},
   "source": [
    "#### 리스트 더하기와 곱하기"
   ]
  },
  {
   "cell_type": "code",
   "execution_count": 114,
   "id": "b9ffa8a9",
   "metadata": {},
   "outputs": [
    {
     "data": {
      "text/plain": [
       "[1, 2, 3, 4, 5, 6, 7, 8]"
      ]
     },
     "execution_count": 114,
     "metadata": {},
     "output_type": "execute_result"
    }
   ],
   "source": [
    "list_con1 = [1,2,3,4]\n",
    "list_con2  = [5,6,7,8]\n",
    "list_con = list_con1 + list_con2 #a리스트와 b리스트를 연결하겠습니다.\n",
    "\n",
    "list_con"
   ]
  },
  {
   "cell_type": "code",
   "execution_count": 113,
   "id": "e9e97c3e",
   "metadata": {},
   "outputs": [
    {
     "name": "stdout",
     "output_type": "stream",
     "text": [
      "[1, 2, 3, 4, 1, 2, 3, 4, 1, 2, 3, 4]\n"
     ]
    }
   ],
   "source": [
    "list_con1 = [1,2,3,4]\n",
    "list_con = list_con1 * 3 #리스트를 n회 반복하겠습니다.\n",
    "\n",
    "print(list_con)"
   ]
  },
  {
   "cell_type": "markdown",
   "id": "5d862413",
   "metadata": {},
   "source": [
    "# 리스트 중 일부 항목 가져오기\n",
    "\n",
    "리스트 [i_start : i_end]\n",
    "\n",
    "리스트 [i_start : i_end : i_step]\n",
    "\n",
    "##각각 인덱스의 시작, 끝, 증가 범위를 지정하면 i_start 부터 i_end \"-1 까지\" 리스트 반환.\n",
    "생략하면 0, 끝, 1로 간주한다.\n",
    "\n",
    "### [시작점 : 도착(-1)점 : 점프하는 단위]"
   ]
  },
  {
   "cell_type": "code",
   "execution_count": 4,
   "id": "894221d3",
   "metadata": {},
   "outputs": [
    {
     "name": "stdout",
     "output_type": "stream",
     "text": [
      "[0, 1, 2, 3, 4, 5, 6, 7, 8, 9]\n",
      "[0, 1, 2]\n",
      "[4, 5, 6, 7]\n",
      "[0, 1, 2]\n",
      "[7, 8, 9]\n",
      "[2, 4, 6, 8]\n"
     ]
    }
   ],
   "source": [
    "list_data = [0,1 , 2 , 3 , 4 , 5 , 6 , 7 , 8 , 9]\n",
    "\n",
    "print(list_data)\n",
    "print(list_data[0:3])\n",
    "print(list_data[4:8])\n",
    "print(list_data[:3])\n",
    "print(list_data[7:])\n",
    "print(list_data[2::2])"
   ]
  },
  {
   "cell_type": "code",
   "execution_count": 45,
   "id": "3ff08a36",
   "metadata": {},
   "outputs": [
    {
     "data": {
      "text/plain": [
       "[1, 3, 5, 7, 9]"
      ]
     },
     "execution_count": 45,
     "metadata": {},
     "output_type": "execute_result"
    }
   ],
   "source": [
    "list_data[1::2]"
   ]
  },
  {
   "cell_type": "code",
   "execution_count": 49,
   "id": "f18dcd6b",
   "metadata": {},
   "outputs": [
    {
     "data": {
      "text/plain": [
       "[1, 3, 5]"
      ]
     },
     "execution_count": 49,
     "metadata": {},
     "output_type": "execute_result"
    }
   ],
   "source": [
    "list_data[1:6:2]"
   ]
  },
  {
   "cell_type": "markdown",
   "id": "433d869b",
   "metadata": {},
   "source": [
    "리스트에서 항목 삭제하기"
   ]
  },
  {
   "cell_type": "code",
   "execution_count": 70,
   "id": "05e55b6b",
   "metadata": {},
   "outputs": [
    {
     "name": "stdout",
     "output_type": "stream",
     "text": [
      "[0, 1, 2, 3, 4, 5, 6, 7, 8, 9]\n"
     ]
    }
   ],
   "source": [
    "print(list_data)\n",
    "del list_data[6]\n"
   ]
  },
  {
   "cell_type": "code",
   "execution_count": 84,
   "id": "b4b9ae76",
   "metadata": {},
   "outputs": [
    {
     "name": "stdout",
     "output_type": "stream",
     "text": [
      "[0, 1, 2, 3, 4, 5, 7, 8, 9]\n"
     ]
    }
   ],
   "source": [
    "print(list_data)"
   ]
  },
  {
   "cell_type": "markdown",
   "id": "0ca3a0e6",
   "metadata": {},
   "source": [
    "### 리스트에서 항목의 존재 여부 확인하기"
   ]
  },
  {
   "cell_type": "markdown",
   "id": "f2e60685",
   "metadata": {},
   "source": [
    "#### Bool로 반환함  - 값이 포함되어있는가"
   ]
  },
  {
   "cell_type": "code",
   "execution_count": 79,
   "id": "e07cba55",
   "metadata": {},
   "outputs": [
    {
     "name": "stdout",
     "output_type": "stream",
     "text": [
      "False\n",
      "True\n",
      "True\n",
      "False\n"
     ]
    }
   ],
   "source": [
    "list_data1 = [1,2,3,4,100]\n",
    "print(5 in list_data1)\n",
    "print(100 in list_data1)\n",
    "print(1 in list_data1)\n",
    "print(0 in list_data1)"
   ]
  },
  {
   "cell_type": "markdown",
   "id": "bb1dc8c1",
   "metadata": {},
   "source": [
    "### 리스트 메서드 활용하기"
   ]
  },
  {
   "cell_type": "markdown",
   "id": "3e4dcebf",
   "metadata": {},
   "source": [
    "#### 자료형 , 메서드이름() 변수형. 메서드이름()"
   ]
  },
  {
   "cell_type": "code",
   "execution_count": 83,
   "id": "e9506fe1",
   "metadata": {},
   "outputs": [
    {
     "name": "stdout",
     "output_type": "stream",
     "text": [
      "['James', 'Robert', 'Lisa', 'Mary']\n",
      "['James', 'Robert', 'Lisa', 'Mary', 'Thomas']\n"
     ]
    }
   ],
   "source": [
    "myFriends = ['James', 'Robert', 'Lisa', 'Mary']\n",
    "print(myFriends)\n",
    "myFriends.append('Thomas') #리스트에서 항목 하나를 마지막에 추가하겠습니다. append ; <미,영> (글에)덧붙이다, 첨부하다\n",
    "print(myFriends)"
   ]
  },
  {
   "cell_type": "code",
   "execution_count": 87,
   "id": "761d8b4f",
   "metadata": {},
   "outputs": [
    {
     "name": "stdout",
     "output_type": "stream",
     "text": [
      "['James', 'Robert', 'Lisa', 'Mary']\n",
      "['James', 'Paul', 'Robert', 'Lisa', 'Mary']\n"
     ]
    }
   ],
   "source": [
    "myFriends = ['James', 'Robert', 'Lisa', 'Mary']\n",
    "print(myFriends)\n",
    "myFriends.insert(1,'Paul') #리스트에서 'n번째' 항목에 삽입합니다. insert ; <미,영> (다른 것 속에, 둘 사이에)끼우다, 넣다\n",
    "print(myFriends)"
   ]
  },
  {
   "cell_type": "code",
   "execution_count": 5,
   "id": "a11ad434",
   "metadata": {},
   "outputs": [],
   "source": [
    "list_data.insert(6,6)"
   ]
  },
  {
   "cell_type": "code",
   "execution_count": 6,
   "id": "76cc9c30",
   "metadata": {},
   "outputs": [
    {
     "data": {
      "text/plain": [
       "[0, 1, 2, 3, 4, 5, 6, 6, 7, 8, 9]"
      ]
     },
     "execution_count": 6,
     "metadata": {},
     "output_type": "execute_result"
    }
   ],
   "source": [
    "list_data"
   ]
  },
  {
   "cell_type": "code",
   "execution_count": 10,
   "id": "143f9fd8",
   "metadata": {},
   "outputs": [
    {
     "name": "stdout",
     "output_type": "stream",
     "text": [
      "['James', 'Robert', 'Lisa', 'Mary']\n",
      "['James', 'Robert', 'Lisa', 'Mary', 'Laura', 'Betty']\n"
     ]
    }
   ],
   "source": [
    "myFriends = ['James','Robert','Lisa','Mary']\n",
    "print(myFriends)\n",
    "myFriends.extend(['Laura','Betty']) # 항목 여러개를 마지막에 추가합니다. extend ; <미,영> 더 길게(크게,넓게) 만든다\n",
    "print(myFriends)"
   ]
  },
  {
   "cell_type": "code",
   "execution_count": 9,
   "id": "c7d6c83c",
   "metadata": {},
   "outputs": [
    {
     "name": "stdout",
     "output_type": "stream",
     "text": [
      "['James', 'Robert', 'Lisa', 'Mary']\n",
      "['Robert', 'Lisa', 'Mary']\n"
     ]
    }
   ],
   "source": [
    "myFriends = ['James','Robert','Lisa','Mary']\n",
    "print(myFriends)\n",
    "myFriends.remove('James') # 첫 번째로 일치하는 항목을 리스트에서 제외하겠습니다. remove ; <미,영> (어떤 곳에서) 치우다[내보내다]\n",
    "print(myFriends)"
   ]
  },
  {
   "cell_type": "code",
   "execution_count": null,
   "id": "d0d98547",
   "metadata": {},
   "outputs": [],
   "source": []
  }
 ],
 "metadata": {
  "kernelspec": {
   "display_name": "Python 3 (ipykernel)",
   "language": "python",
   "name": "python3"
  },
  "language_info": {
   "codemirror_mode": {
    "name": "ipython",
    "version": 3
   },
   "file_extension": ".py",
   "mimetype": "text/x-python",
   "name": "python",
   "nbconvert_exporter": "python",
   "pygments_lexer": "ipython3",
   "version": "3.9.13"
  }
 },
 "nbformat": 4,
 "nbformat_minor": 5
}

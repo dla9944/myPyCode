{
 "cells": [
  {
   "cell_type": "markdown",
   "id": "dbd45cf9",
   "metadata": {},
   "source": [
    "# 7장 함수"
   ]
  },
  {
   "cell_type": "markdown",
   "id": "5a1a9998",
   "metadata": {},
   "source": [
    "## 7.1 함수 정의와 호출"
   ]
  },
  {
   "cell_type": "markdown",
   "id": "18d83e17",
   "metadata": {},
   "source": [
    "### 함수의 기본 구조 \n",
    "\n",
    "def 함수명 ([인자1, 인자2, ....인자n]):\n",
    "\n",
    "     <코드 블록>\n",
    "     \n",
    "     [return <반환 값>]\n"
   ]
  },
  {
   "cell_type": "markdown",
   "id": "172f5389",
   "metadata": {},
   "source": [
    "## 1) 인자도 없고, 반환 값도 없는 함수     "
   ]
  },
  {
   "cell_type": "code",
   "execution_count": 105,
   "id": "7df7b19f",
   "metadata": {},
   "outputs": [],
   "source": [
    "def 함수():\n",
    "    print(\"My First function\")\n",
    "    print(\"This is function dammmmmn cool\")"
   ]
  },
  {
   "cell_type": "code",
   "execution_count": 106,
   "id": "6a300f6b",
   "metadata": {},
   "outputs": [
    {
     "name": "stdout",
     "output_type": "stream",
     "text": [
      "My First function\n",
      "This is function dammmmmn cool\n"
     ]
    }
   ],
   "source": [
    "함수()"
   ]
  },
  {
   "cell_type": "markdown",
   "id": "f2a7fda4",
   "metadata": {},
   "source": [
    "## 2) 인자는 있으나 반환 값이 없는 함수"
   ]
  },
  {
   "cell_type": "code",
   "execution_count": null,
   "id": "d098ff42",
   "metadata": {},
   "outputs": [],
   "source": [
    "def 내_친구(friendName):\n",
    "    print(\"{}는 나의 친구입니다.\".format(friendName))"
   ]
  },
  {
   "cell_type": "code",
   "execution_count": null,
   "id": "56c80c36",
   "metadata": {},
   "outputs": [],
   "source": [
    "내_친구(\"철수\")\n",
    "내_친구(\"영미\")"
   ]
  },
  {
   "cell_type": "code",
   "execution_count": null,
   "id": "425d8060",
   "metadata": {},
   "outputs": [],
   "source": [
    "def 내_친구_정보(name, scool_ID, phoneNumber):\n",
    "    print(\"-----------------------\")\n",
    "    print(\"- 학생이름 : \", name)\n",
    "    print(\"- 학급번호 : \", scool_ID)\n",
    "    print(\"- 전화번호 : \", phoneNumber)"
   ]
  },
  {
   "cell_type": "code",
   "execution_count": null,
   "id": "ef5501c0",
   "metadata": {},
   "outputs": [],
   "source": [
    "내_친구_정보(\"현아\",\"01\",\"01-234-5678\")\n",
    "내_친구_정보(\"진수\",\"02\",'21-435-3465')"
   ]
  },
  {
   "cell_type": "code",
   "execution_count": 1,
   "id": "15e0198b",
   "metadata": {},
   "outputs": [],
   "source": [
    "def 회원_정보를_입력해주세요(name):\n",
    "    print(\"▼▼▼▼▼ 회원님의 새로운 계정을 생성합니다 ▼▼▼▼▼\")\n",
    "    name = input(\"이름을 입력해주세요 \")\n",
    "    print(\"이제 당신의 이름은 {} 입니다.\".format(name))\n",
    "    ID = input(\"아이디를 입력해주세요 \")\n",
    "    print(\"이제 여러분의 아이디는 ' {} ' 입니다.\".format(ID))\n",
    "    Password = input(\"비밀번호를 입력해주세요 \")\n",
    "    print(\"이제 여러분의 비밀번호는 ' {} ' 입니다.\".format(Password))\n",
    "    print(\"\\n     ◈◈ 저희 게임에 가입하신것을 환영합니다! ◈◈\\n    \\n    ▶▶▶▶▶▶이용해주셔서 감사합니다!◀◀◀◀◀◀    \")"
   ]
  },
  {
   "cell_type": "code",
   "execution_count": 2,
   "id": "7c77008d",
   "metadata": {},
   "outputs": [
    {
     "name": "stdout",
     "output_type": "stream",
     "text": [
      "▼▼▼▼▼ 회원님의 새로운 계정을 생성합니다 ▼▼▼▼▼\n",
      "이름을 입력해주세요 ad\n",
      "이제 당신의 이름은 ad 입니다.\n",
      "아이디를 입력해주세요 ii\n",
      "이제 여러분의 아이디는 ' ii ' 입니다.\n",
      "비밀번호를 입력해주세요 oo\n",
      "이제 여러분의 비밀번호는 ' oo ' 입니다.\n",
      "\n",
      "     ◈◈ 저희 게임에 가입하신것을 환영합니다! ◈◈\n",
      "    \n",
      "    ▶▶▶▶▶▶이용해주셔서 감사합니다!◀◀◀◀◀◀    \n"
     ]
    }
   ],
   "source": [
    "회원_정보를_입력해주세요(\"a\")"
   ]
  },
  {
   "cell_type": "markdown",
   "id": "ce734de2",
   "metadata": {},
   "source": [
    "#### 함수를 수정하면 모든 코드에 적용"
   ]
  },
  {
   "cell_type": "code",
   "execution_count": 400,
   "id": "358b20ae",
   "metadata": {},
   "outputs": [],
   "source": [
    "def 회원_정보를_입력해주세요(name, ID, phoneNumber):\n",
    "    print(\"****************\")\n",
    "    print(\"* name : \",name)\n",
    "    print(\"* ID : \",ID)\n",
    "    print(\"* phoneNumber : \",phoneNumber)\n",
    "    "
   ]
  },
  {
   "cell_type": "code",
   "execution_count": 401,
   "id": "4a6564e5",
   "metadata": {},
   "outputs": [
    {
     "name": "stdout",
     "output_type": "stream",
     "text": [
      "****************\n",
      "* name :  ㅇㅇㅇ\n",
      "* ID :  1\n",
      "* phoneNumber :  2\n",
      "****************\n"
     ]
    }
   ],
   "source": [
    "회원_정보를_입력해주세요(\"ㅇㅇㅇ\",\"1\",\"2\")\n",
    "print(\"****************\")"
   ]
  },
  {
   "cell_type": "markdown",
   "id": "eed303e5",
   "metadata": {},
   "source": [
    "# 3) 인자도 있고 반환 값도 있는 함수"
   ]
  },
  {
   "cell_type": "code",
   "execution_count": 103,
   "id": "378139a3",
   "metadata": {},
   "outputs": [],
   "source": [
    "def my_calc(x,y):\n",
    "    p = x*y+x*y\n",
    "    return p"
   ]
  },
  {
   "cell_type": "code",
   "execution_count": 104,
   "id": "1b226ade",
   "metadata": {},
   "outputs": [
    {
     "data": {
      "text/plain": [
       "8"
      ]
     },
     "execution_count": 104,
     "metadata": {},
     "output_type": "execute_result"
    }
   ],
   "source": [
    "my_calc(1,4)"
   ]
  },
  {
   "cell_type": "markdown",
   "id": "73ed7f42",
   "metadata": {},
   "source": [
    "리스트를 인자로 갖는 함수"
   ]
  },
  {
   "cell_type": "code",
   "execution_count": 402,
   "id": "f6c5bab3",
   "metadata": {},
   "outputs": [],
   "source": [
    "def my_student_info_list(info):\n",
    "    print(\"♠♠♠♠♠♠♠♠♠♠♠♠\")\n",
    "    print(\"* 학생이름 : \",info[0])\n",
    "    print(\"* 학급번호 : \",info[1])\n",
    "    print(\"* 전화번호 : \",info[2])\n",
    "    print(\"★★★★★★★★★★★★★\")"
   ]
  },
  {
   "cell_type": "markdown",
   "id": "64c55d8b",
   "metadata": {},
   "source": [
    "인자를 리스트로 입력해서 호출한다."
   ]
  },
  {
   "cell_type": "code",
   "execution_count": 403,
   "id": "2f444927",
   "metadata": {},
   "outputs": [
    {
     "name": "stdout",
     "output_type": "stream",
     "text": [
      "♠♠♠♠♠♠♠♠♠♠♠♠\n",
      "* 학생이름 :  브루스배너\n",
      "* 학급번호 :  11\n",
      "* 전화번호 :  010-2121-1111\n",
      "★★★★★★★★★★★★★\n"
     ]
    }
   ],
   "source": [
    "학생1_info = [\"브루스배너\",\"11\",\"010-2121-1111\"]\n",
    "my_student_info_list(학생1_info)"
   ]
  },
  {
   "cell_type": "code",
   "execution_count": 390,
   "id": "f4f4b501",
   "metadata": {},
   "outputs": [],
   "source": [
    "def 내_학생_정보목록(정보, 정보1, 정보2, 정보3):\n",
    "    print(\"**************************\")\n",
    "    print(\"♬ 학생이름 : \",정보[0])\n",
    "    print(\"♩ 학년 : \",정보[1])\n",
    "    print(\"♪ 전화번호 : \",정보[2])\n",
    "    print(\"**************************\")\n",
    "    print(\"♬ 학생이름 : \",정보1[0])\n",
    "    print(\"♩ 학년 : \",정보1[1])\n",
    "    print(\"♪ 전화번호 : \",정보1[2])\n",
    "    print(\"**************************\")\n",
    "    print(\"♬ 학생이름 : \",정보2[0])\n",
    "    print(\"♩ 학년 : \",정보2[1])\n",
    "    print(\"♪ 전화번호 : \",정보2[2])    \n",
    "    print(\"**************************\")"
   ]
  },
  {
   "cell_type": "code",
   "execution_count": 396,
   "id": "d14f6421",
   "metadata": {},
   "outputs": [
    {
     "name": "stdout",
     "output_type": "stream",
     "text": [
      "**************************\n",
      "♬ 학생이름 :  권지태\n",
      "♩ 학년 :  1\n",
      "♪ 전화번호 :  010-3333-4444\n",
      "**************************\n",
      "♬ 학생이름 :  김기명\n",
      "♩ 학년 :  3\n",
      "♪ 전화번호 :  010-3333-5555\n",
      "**************************\n",
      "♬ 학생이름 :  서성은\n",
      "♩ 학년 :  3\n",
      "♪ 전화번호 :  010-2222-5555\n",
      "**************************\n",
      "**************************\n"
     ]
    }
   ],
   "source": [
    "학생1 = [\"권지태\",\"1\",\"010-3333-4444\"]\n",
    "학생2 = [\"김기명\",\"3\",\"010-3333-5555\"]\n",
    "학생3 = [\"서성은\",\"3\",\"010-2222-5555\"]\n",
    "학생4 = [\"이건우\",\"2\",\"010-3332-5555\"]\n",
    "내_학생_정보목록(학생1,학생2,학생3,학생4)\n",
    "print(\"**************************\")"
   ]
  },
  {
   "cell_type": "markdown",
   "id": "149ec1e7",
   "metadata": {},
   "source": [
    "# 7.2 변수의 유효 범위"
   ]
  },
  {
   "cell_type": "markdown",
   "id": "7b321cb1",
   "metadata": {},
   "source": [
    "### 전역 변수와 지역 변수의 차이"
   ]
  },
  {
   "cell_type": "markdown",
   "id": "a4e72ea1",
   "metadata": {},
   "source": [
    "함수 안에서 정의한 변수는 함수 안에서만 사용할 수 있다."
   ]
  },
  {
   "cell_type": "code",
   "execution_count": 169,
   "id": "e0363206",
   "metadata": {},
   "outputs": [],
   "source": [
    "a = 5   # 전역 변수\n",
    "\n",
    "def func1():\n",
    "    a = 1 # 지역 변수. func1()에서만 사용\n",
    "    print(\"[func1] 지역 변수 a=\",a)\n",
    "\n",
    "def func2():\n",
    "    a = 2 # 지역 변수. func2()에서만 사용\n",
    "    print(\"[func2] 지역 변수 a=\",a)\n",
    "\n",
    "def func3():\n",
    "    print(\"[func3] 전역 변수 a=\",a) \n",
    "    \n",
    "def func4():\n",
    "    global a # 함수 내에서 전역 변수 변경을 위해 선언합니다\n",
    "    a = 4    # 전역 변수의 값 변경\n",
    "    print(\"[func4] 전역 변수 a=\",a)"
   ]
  },
  {
   "cell_type": "code",
   "execution_count": 170,
   "id": "d0d1729d",
   "metadata": {},
   "outputs": [
    {
     "name": "stdout",
     "output_type": "stream",
     "text": [
      "[func1] 지역 변수 a= 1\n",
      "[func2] 지역 변수 a= 2\n",
      "전역 변수 a= 5\n"
     ]
    }
   ],
   "source": [
    "func1() # 함수 func1() 호출\n",
    "func2() # 함수 func2() 호출\n",
    "print(\"전역 변수 a=\",a) #전역 변수 출력"
   ]
  },
  {
   "cell_type": "markdown",
   "id": "f19e252c",
   "metadata": {},
   "source": [
    "전역 변수를 변경하고 싶을때는 선언하여 사용합니다."
   ]
  },
  {
   "cell_type": "code",
   "execution_count": 171,
   "id": "11a88458",
   "metadata": {},
   "outputs": [
    {
     "name": "stdout",
     "output_type": "stream",
     "text": [
      "[func3] 전역 변수 a= 5\n",
      "[func4] 전역 변수 a= 4\n",
      "[func3] 전역 변수 a= 4\n"
     ]
    }
   ],
   "source": [
    "func3() # 함수 func3() 호출\n",
    "func4() # 함수 func4() 호출\n",
    "func3() # 함수 func3() 다시 호출"
   ]
  },
  {
   "cell_type": "markdown",
   "id": "fc7ae6ee",
   "metadata": {},
   "source": [
    "# 7.3 람다(lambdda) 함수"
   ]
  },
  {
   "cell_type": "markdown",
   "id": "ef89e1bd",
   "metadata": {},
   "source": [
    "한줄로 함수를 표현하는 람다함수의 기본 구조"
   ]
  },
  {
   "cell_type": "markdown",
   "id": "622b158b",
   "metadata": {},
   "source": [
    "(lambda <인자>:<인자 활용 수행 코드>(<인자>)"
   ]
  },
  {
   "cell_type": "code",
   "execution_count": 172,
   "id": "f9e3d72e",
   "metadata": {},
   "outputs": [
    {
     "data": {
      "text/plain": [
       "16"
      ]
     },
     "execution_count": 172,
     "metadata": {},
     "output_type": "execute_result"
    }
   ],
   "source": [
    "(lambda x : x**2) (4)"
   ]
  },
  {
   "cell_type": "markdown",
   "id": "d4eb28e4",
   "metadata": {},
   "source": [
    "람다 함수를 변수에 할당한 후에 인자를 호출해서 사용"
   ]
  },
  {
   "cell_type": "code",
   "execution_count": 175,
   "id": "a53f76f5",
   "metadata": {},
   "outputs": [
    {
     "data": {
      "text/plain": [
       "100"
      ]
     },
     "execution_count": 175,
     "metadata": {},
     "output_type": "execute_result"
    }
   ],
   "source": [
    "mySquare = lambda x : x**2\n",
    "mySquare(10)"
   ]
  },
  {
   "cell_type": "code",
   "execution_count": 174,
   "id": "e505505b",
   "metadata": {},
   "outputs": [
    {
     "data": {
      "text/plain": [
       "25"
      ]
     },
     "execution_count": 174,
     "metadata": {},
     "output_type": "execute_result"
    }
   ],
   "source": [
    "mySquare(5)"
   ]
  },
  {
   "cell_type": "code",
   "execution_count": 177,
   "id": "b113c4ab",
   "metadata": {},
   "outputs": [],
   "source": [
    "e = lambda e : e**5"
   ]
  },
  {
   "cell_type": "code",
   "execution_count": 204,
   "id": "a7ef5586",
   "metadata": {},
   "outputs": [],
   "source": [
    "y = lambda y : y + 3 - y*y"
   ]
  },
  {
   "cell_type": "markdown",
   "id": "c7fbef51",
   "metadata": {},
   "source": [
    "여러개의 인자를 받아 사용하는 것도 가능"
   ]
  },
  {
   "cell_type": "code",
   "execution_count": 214,
   "id": "5885f433",
   "metadata": {},
   "outputs": [
    {
     "data": {
      "text/plain": [
       "29"
      ]
     },
     "execution_count": 214,
     "metadata": {},
     "output_type": "execute_result"
    }
   ],
   "source": [
    "mySimpleFunc = lambda x,y,z : 9*x + 7*y + 2*z\n",
    "mySimpleFunc(1,2,3)"
   ]
  },
  {
   "cell_type": "markdown",
   "id": "bb8865f9",
   "metadata": {},
   "source": [
    "# 7.4 유용한 내장 함수"
   ]
  },
  {
   "cell_type": "markdown",
   "id": "33a2b361",
   "metadata": {},
   "source": [
    "## 형 변환 함수   / 외장함수 : 내가 직접 만든 함수"
   ]
  },
  {
   "cell_type": "markdown",
   "id": "4cedd8fd",
   "metadata": {},
   "source": [
    "#### 정수형으로 변환"
   ]
  },
  {
   "cell_type": "markdown",
   "id": "67902578",
   "metadata": {},
   "source": [
    "소수점 이하는 버려짐 (반올림이 아니라 아예 소수점 이하를 삭제함)"
   ]
  },
  {
   "cell_type": "code",
   "execution_count": 226,
   "id": "f4ea3160",
   "metadata": {},
   "outputs": [
    {
     "data": {
      "text/plain": [
       "[0, 3, -1, 0]"
      ]
     },
     "execution_count": 226,
     "metadata": {},
     "output_type": "execute_result"
    }
   ],
   "source": [
    "[int(0.123), int(3.51456), int(-1.31234567), int(0.124124125111000)]"
   ]
  },
  {
   "cell_type": "markdown",
   "id": "b23dc03c",
   "metadata": {},
   "source": [
    "#### 문자열을 정수형으로 변환"
   ]
  },
  {
   "cell_type": "code",
   "execution_count": 233,
   "id": "f3983a1e",
   "metadata": {},
   "outputs": [
    {
     "data": {
      "text/plain": [
       "[1234, 1, -9021]"
      ]
     },
     "execution_count": 233,
     "metadata": {},
     "output_type": "execute_result"
    }
   ],
   "source": [
    "[int('1234'), int('1'),int('-9021')]"
   ]
  },
  {
   "cell_type": "markdown",
   "id": "58b81c3f",
   "metadata": {},
   "source": [
    "#### 실수형으로 변환"
   ]
  },
  {
   "cell_type": "code",
   "execution_count": 235,
   "id": "c70fbf35",
   "metadata": {},
   "outputs": [
    {
     "data": {
      "text/plain": [
       "[0.0, 123.0, -567.89]"
      ]
     },
     "execution_count": 235,
     "metadata": {},
     "output_type": "execute_result"
    }
   ],
   "source": [
    "[float(0), float(123), float(-567.89)]"
   ]
  },
  {
   "cell_type": "markdown",
   "id": "29844d64",
   "metadata": {},
   "source": [
    "#### 문자열을 실수형으로 변환"
   ]
  },
  {
   "cell_type": "code",
   "execution_count": 236,
   "id": "b600df62",
   "metadata": {},
   "outputs": [
    {
     "data": {
      "text/plain": [
       "[10.0, 0.123, -456.89]"
      ]
     },
     "execution_count": 236,
     "metadata": {},
     "output_type": "execute_result"
    }
   ],
   "source": [
    "[float('10'), float('0.123'), float('-456.89')]"
   ]
  },
  {
   "cell_type": "markdown",
   "id": "165ce96c",
   "metadata": {},
   "source": [
    "#### 문자형으로 변환"
   ]
  },
  {
   "cell_type": "code",
   "execution_count": 237,
   "id": "369232fe",
   "metadata": {},
   "outputs": [
    {
     "data": {
      "text/plain": [
       "['123', '45678', '-987']"
      ]
     },
     "execution_count": 237,
     "metadata": {},
     "output_type": "execute_result"
    }
   ],
   "source": [
    "[str(123), str(45678), str(-987)]"
   ]
  },
  {
   "cell_type": "code",
   "execution_count": 238,
   "id": "e2bb94d4",
   "metadata": {},
   "outputs": [
    {
     "data": {
      "text/plain": [
       "['0.123', '345.567', '-5.142']"
      ]
     },
     "execution_count": 238,
     "metadata": {},
     "output_type": "execute_result"
    }
   ],
   "source": [
    "[str(0.123), str(345.567), str(-5.142)]"
   ]
  },
  {
   "cell_type": "markdown",
   "id": "099317b8",
   "metadata": {},
   "source": [
    "#### 리스트, 튜플, 세트형으로 변환"
   ]
  },
  {
   "cell_type": "code",
   "execution_count": 280,
   "id": "22a400ac",
   "metadata": {},
   "outputs": [],
   "source": [
    "list_data = ['abc', 1, 2, 2,3,'def']\n",
    "tuple_data = ('abc',1,2,2,3,'def')\n",
    "set_data = {'abc',1,2,2,3,'def'}    # 세트는 중복을 허용하지 않습니다. 순서가 정해지지 않습니다."
   ]
  },
  {
   "cell_type": "code",
   "execution_count": 281,
   "id": "8eefaa32",
   "metadata": {},
   "outputs": [
    {
     "data": {
      "text/plain": [
       "[list, tuple, set]"
      ]
     },
     "execution_count": 281,
     "metadata": {},
     "output_type": "execute_result"
    }
   ],
   "source": [
    "[type(list_data), type(tuple_data), type(set_data)]"
   ]
  },
  {
   "cell_type": "markdown",
   "id": "beafdd05",
   "metadata": {},
   "source": [
    "#### 리스트로 변환"
   ]
  },
  {
   "cell_type": "code",
   "execution_count": 282,
   "id": "6360e624",
   "metadata": {},
   "outputs": [
    {
     "name": "stdout",
     "output_type": "stream",
     "text": [
      "리스트로 변환 :  ['abc', 1, 2, 2, 3, 'def'] [1, 2, 3, 'abc', 'def']\n"
     ]
    }
   ],
   "source": [
    "print(\"리스트로 변환 : \", list(tuple_data), list(set_data))"
   ]
  },
  {
   "cell_type": "markdown",
   "id": "cfd081ec",
   "metadata": {},
   "source": [
    "#### 튜플로 변환"
   ]
  },
  {
   "cell_type": "code",
   "execution_count": 289,
   "id": "68c78ce7",
   "metadata": {},
   "outputs": [
    {
     "name": "stdout",
     "output_type": "stream",
     "text": [
      "리스트로 변환 :  ('abc', 1, 2, 2, 3, 'def') (1, 2, 3, 'abc', 'def')\n"
     ]
    }
   ],
   "source": [
    "print(\"리스트로 변환 : \",tuple(list_data), tuple(set_data))"
   ]
  },
  {
   "cell_type": "markdown",
   "id": "9edc4354",
   "metadata": {},
   "source": [
    "#### 세트로 변환"
   ]
  },
  {
   "cell_type": "code",
   "execution_count": 290,
   "id": "132fb789",
   "metadata": {},
   "outputs": [
    {
     "name": "stdout",
     "output_type": "stream",
     "text": [
      "세트로 변환 :  {1, 2, 3, 'abc', 'def'} {1, 2, 3, 'abc', 'def'}\n"
     ]
    }
   ],
   "source": [
    "print(\"세트로 변환 : \", set(list_data), set(tuple_data))"
   ]
  },
  {
   "cell_type": "markdown",
   "id": "c03cce88",
   "metadata": {},
   "source": [
    "# Bool 함수"
   ]
  },
  {
   "cell_type": "markdown",
   "id": "796dc93e",
   "metadata": {},
   "source": [
    "#### 숫자를 인자로 bool 함수 호출"
   ]
  },
  {
   "cell_type": "code",
   "execution_count": 291,
   "id": "7d745e14",
   "metadata": {},
   "outputs": [
    {
     "data": {
      "text/plain": [
       "False"
      ]
     },
     "execution_count": 291,
     "metadata": {},
     "output_type": "execute_result"
    }
   ],
   "source": [
    "bool(0) # 인자 : 숫자 0"
   ]
  },
  {
   "cell_type": "code",
   "execution_count": 292,
   "id": "18593a2d",
   "metadata": {},
   "outputs": [
    {
     "data": {
      "text/plain": [
       "True"
      ]
     },
     "execution_count": 292,
     "metadata": {},
     "output_type": "execute_result"
    }
   ],
   "source": [
    "bool(1) # 인자 : 양의 정수"
   ]
  },
  {
   "cell_type": "code",
   "execution_count": 293,
   "id": "6e2f218d",
   "metadata": {},
   "outputs": [
    {
     "data": {
      "text/plain": [
       "True"
      ]
     },
     "execution_count": 293,
     "metadata": {},
     "output_type": "execute_result"
    }
   ],
   "source": [
    "bool(-10) # 인자 : 음의 정수"
   ]
  },
  {
   "cell_type": "code",
   "execution_count": 294,
   "id": "821da9f1",
   "metadata": {},
   "outputs": [
    {
     "data": {
      "text/plain": [
       "True"
      ]
     },
     "execution_count": 294,
     "metadata": {},
     "output_type": "execute_result"
    }
   ],
   "source": [
    "bool(5.12) # 인자 : 양의 실수"
   ]
  },
  {
   "cell_type": "code",
   "execution_count": 295,
   "id": "5aef7d4b",
   "metadata": {},
   "outputs": [
    {
     "data": {
      "text/plain": [
       "True"
      ]
     },
     "execution_count": 295,
     "metadata": {},
     "output_type": "execute_result"
    }
   ],
   "source": [
    "bool(-3.24) # 인자 : 음의 실수"
   ]
  },
  {
   "cell_type": "markdown",
   "id": "f0975387",
   "metadata": {},
   "source": [
    "문자열을 인자로 bool 함수 호출"
   ]
  },
  {
   "cell_type": "code",
   "execution_count": 296,
   "id": "4b62ed54",
   "metadata": {},
   "outputs": [
    {
     "data": {
      "text/plain": [
       "True"
      ]
     },
     "execution_count": 296,
     "metadata": {},
     "output_type": "execute_result"
    }
   ],
   "source": [
    "bool('a') #인자 : 문자열 'a'"
   ]
  },
  {
   "cell_type": "code",
   "execution_count": 297,
   "id": "4f2acf7d",
   "metadata": {},
   "outputs": [
    {
     "data": {
      "text/plain": [
       "True"
      ]
     },
     "execution_count": 297,
     "metadata": {},
     "output_type": "execute_result"
    }
   ],
   "source": [
    "bool(' ') #인자 : 빈 문자열"
   ]
  },
  {
   "cell_type": "code",
   "execution_count": 299,
   "id": "549274b9",
   "metadata": {},
   "outputs": [
    {
     "data": {
      "text/plain": [
       "False"
      ]
     },
     "execution_count": 299,
     "metadata": {},
     "output_type": "execute_result"
    }
   ],
   "source": [
    "bool('') #인자 : 문자열 없음"
   ]
  },
  {
   "cell_type": "code",
   "execution_count": 300,
   "id": "b014d57b",
   "metadata": {},
   "outputs": [
    {
     "data": {
      "text/plain": [
       "False"
      ]
     },
     "execution_count": 300,
     "metadata": {},
     "output_type": "execute_result"
    }
   ],
   "source": [
    "bool(None) #인자 : None : \"아무겂도 없다(blank)\""
   ]
  },
  {
   "cell_type": "code",
   "execution_count": 302,
   "id": "8638b44e",
   "metadata": {},
   "outputs": [
    {
     "data": {
      "text/plain": [
       "False"
      ]
     },
     "execution_count": 302,
     "metadata": {},
     "output_type": "execute_result"
    }
   ],
   "source": [
    "bool('')"
   ]
  },
  {
   "cell_type": "markdown",
   "id": "070ead7a",
   "metadata": {},
   "source": [
    "#### 리스트, 튜플, 세트를 인자로 bool 함수 호출"
   ]
  },
  {
   "cell_type": "code",
   "execution_count": 308,
   "id": "7b7738a4",
   "metadata": {},
   "outputs": [
    {
     "data": {
      "text/plain": [
       "False"
      ]
     },
     "execution_count": 308,
     "metadata": {},
     "output_type": "execute_result"
    }
   ],
   "source": [
    "myFriends = []\n",
    "bool(myFriends) # 인자 : 항목이 없는 빈 리스트"
   ]
  },
  {
   "cell_type": "code",
   "execution_count": 310,
   "id": "a8f385f0",
   "metadata": {},
   "outputs": [
    {
     "data": {
      "text/plain": [
       "True"
      ]
     },
     "execution_count": 310,
     "metadata": {},
     "output_type": "execute_result"
    }
   ],
   "source": [
    "myFriends = ['James', 'Robert', 'Lisa','Mary']\n",
    "bool(myFriends) # 인자 : 항목이 있는 리스트"
   ]
  },
  {
   "cell_type": "code",
   "execution_count": 312,
   "id": "2c43573b",
   "metadata": {},
   "outputs": [
    {
     "data": {
      "text/plain": [
       "False"
      ]
     },
     "execution_count": 312,
     "metadata": {},
     "output_type": "execute_result"
    }
   ],
   "source": [
    "myplace = ()\n",
    "bool(myplace)  # 인자 : 항목이 없는 빈 튜플"
   ]
  },
  {
   "cell_type": "code",
   "execution_count": 313,
   "id": "95d27654",
   "metadata": {},
   "outputs": [
    {
     "data": {
      "text/plain": [
       "True"
      ]
     },
     "execution_count": 313,
     "metadata": {},
     "output_type": "execute_result"
    }
   ],
   "source": [
    "myplace = (\"dongdaemoon\",\"namsan\",\"DDP\")\n",
    "bool(myplace)  # 인자 : 항목이 있는 튜플"
   ]
  },
  {
   "cell_type": "code",
   "execution_count": 314,
   "id": "8c507649",
   "metadata": {},
   "outputs": [
    {
     "data": {
      "text/plain": [
       "False"
      ]
     },
     "execution_count": 314,
     "metadata": {},
     "output_type": "execute_result"
    }
   ],
   "source": [
    "mysauce = {}\n",
    "bool(mysauce)  # 인자 : 항목이 없는 빈 세트"
   ]
  },
  {
   "cell_type": "code",
   "execution_count": 318,
   "id": "c91d8e35",
   "metadata": {},
   "outputs": [
    {
     "data": {
      "text/plain": [
       "True"
      ]
     },
     "execution_count": 318,
     "metadata": {},
     "output_type": "execute_result"
    }
   ],
   "source": [
    "mysauce = {\"ketchap\",\"mustard\"}\n",
    "bool(mysauce) # 인자 : 항목이 있는 세트"
   ]
  },
  {
   "cell_type": "markdown",
   "id": "f99e32aa",
   "metadata": {},
   "source": [
    "#### bool 함수의 활용"
   ]
  },
  {
   "cell_type": "code",
   "execution_count": 323,
   "id": "6200a681",
   "metadata": {},
   "outputs": [],
   "source": [
    "def print_name(name):\n",
    "    if bool(name):\n",
    "        print(\"입력된 이름 :\",name)\n",
    "    else :\n",
    "        print(\"입력된 이름이 없습니다.\")"
   ]
  },
  {
   "cell_type": "code",
   "execution_count": 324,
   "id": "27e335ac",
   "metadata": {},
   "outputs": [
    {
     "name": "stdout",
     "output_type": "stream",
     "text": [
      "입력된 이름 : James\n"
     ]
    }
   ],
   "source": [
    "print_name(\"James\")"
   ]
  },
  {
   "cell_type": "code",
   "execution_count": 325,
   "id": "b51b799f",
   "metadata": {},
   "outputs": [
    {
     "name": "stdout",
     "output_type": "stream",
     "text": [
      "입력된 이름이 없습니다.\n"
     ]
    }
   ],
   "source": [
    "print_name(\"\")"
   ]
  },
  {
   "cell_type": "markdown",
   "id": "36c466dd",
   "metadata": {},
   "source": [
    "# 최솟값과 최댓값을 구하는 함수"
   ]
  },
  {
   "cell_type": "code",
   "execution_count": 334,
   "id": "b57c4db6",
   "metadata": {},
   "outputs": [
    {
     "data": {
      "text/plain": [
       "[0, 99.5]"
      ]
     },
     "execution_count": 334,
     "metadata": {},
     "output_type": "execute_result"
    }
   ],
   "source": [
    "myNum = [10, 5, 12, 0, 3, 5.5, 99.5, 42]\n",
    "[min(myNum), max(myNum)]"
   ]
  },
  {
   "cell_type": "code",
   "execution_count": 337,
   "id": "0789c46a",
   "metadata": {},
   "outputs": [
    {
     "data": {
      "text/plain": [
       "['a', 'z']"
      ]
     },
     "execution_count": 337,
     "metadata": {},
     "output_type": "execute_result"
    }
   ],
   "source": [
    "myStr = 'zxyabc'\n",
    "[min(myStr), max(myStr)]"
   ]
  },
  {
   "cell_type": "markdown",
   "id": "03cf219b",
   "metadata": {},
   "source": [
    "튜플과 세트에서 활용"
   ]
  },
  {
   "cell_type": "code",
   "execution_count": 338,
   "id": "fb7e1a1e",
   "metadata": {},
   "outputs": [
    {
     "data": {
      "text/plain": [
       "[0, 'z']"
      ]
     },
     "execution_count": 338,
     "metadata": {},
     "output_type": "execute_result"
    }
   ],
   "source": [
    "myNum = (10, 5, 12, 0, 3.5, 99.5, 42)\n",
    "[min(myNum), max(myStr)]"
   ]
  },
  {
   "cell_type": "code",
   "execution_count": 353,
   "id": "5f097b68",
   "metadata": {},
   "outputs": [
    {
     "data": {
      "text/plain": [
       "['Bbc', '하']"
      ]
     },
     "execution_count": 353,
     "metadata": {},
     "output_type": "execute_result"
    }
   ],
   "source": [
    "myNum = {'zbc', '하', '나', 'Bbc'}\n",
    "[min(myNum), max(myNum)]    #대문자>소문자>알파벳>한글 순으로 순서가 결정됩니다"
   ]
  },
  {
   "cell_type": "markdown",
   "id": "410162e9",
   "metadata": {},
   "source": [
    "# 절대값과 전체 합을 구하는 함수"
   ]
  },
  {
   "cell_type": "code",
   "execution_count": 354,
   "id": "b5c1e3e0",
   "metadata": {},
   "outputs": [
    {
     "data": {
      "text/plain": [
       "[10, 10]"
      ]
     },
     "execution_count": 354,
     "metadata": {},
     "output_type": "execute_result"
    }
   ],
   "source": [
    "[abs(10), abs(-10)]"
   ]
  },
  {
   "cell_type": "code",
   "execution_count": 355,
   "id": "fdc94000",
   "metadata": {},
   "outputs": [
    {
     "data": {
      "text/plain": [
       "[2.45, 2.45]"
      ]
     },
     "execution_count": 355,
     "metadata": {},
     "output_type": "execute_result"
    }
   ],
   "source": [
    "[abs(2.45), abs(-2.45)]"
   ]
  },
  {
   "cell_type": "code",
   "execution_count": 356,
   "id": "f90dc92b",
   "metadata": {},
   "outputs": [
    {
     "data": {
      "text/plain": [
       "55"
      ]
     },
     "execution_count": 356,
     "metadata": {},
     "output_type": "execute_result"
    }
   ],
   "source": [
    "sumList = [1,2,3,4,5,6,7,8,9,10]\n",
    "sum(sumList)"
   ]
  },
  {
   "cell_type": "code",
   "execution_count": 363,
   "id": "c3a9cc35",
   "metadata": {},
   "outputs": [
    {
     "data": {
      "text/plain": [
       "20"
      ]
     },
     "execution_count": 363,
     "metadata": {},
     "output_type": "execute_result"
    }
   ],
   "source": [
    "sum([abs(10),abs(-10)])"
   ]
  },
  {
   "cell_type": "markdown",
   "id": "71140cba",
   "metadata": {},
   "source": [
    "#### 항목의 개수를 구하는 함수"
   ]
  },
  {
   "cell_type": "code",
   "execution_count": 364,
   "id": "f62ec846",
   "metadata": {},
   "outputs": [
    {
     "data": {
      "text/plain": [
       "5"
      ]
     },
     "execution_count": 364,
     "metadata": {},
     "output_type": "execute_result"
    }
   ],
   "source": [
    "len('ab cd') #문자열"
   ]
  },
  {
   "cell_type": "code",
   "execution_count": 365,
   "id": "a4a32d6f",
   "metadata": {},
   "outputs": [
    {
     "data": {
      "text/plain": [
       "8"
      ]
     },
     "execution_count": 365,
     "metadata": {},
     "output_type": "execute_result"
    }
   ],
   "source": [
    "len([1,2,3,4,5,6,7,8]) #리스트"
   ]
  },
  {
   "cell_type": "code",
   "execution_count": 366,
   "id": "95a5abd1",
   "metadata": {},
   "outputs": [
    {
     "data": {
      "text/plain": [
       "8"
      ]
     },
     "execution_count": 366,
     "metadata": {},
     "output_type": "execute_result"
    }
   ],
   "source": [
    "len((1,2,3,4,5,6,7,8)) #튜플"
   ]
  },
  {
   "cell_type": "code",
   "execution_count": 368,
   "id": "60a1cc52",
   "metadata": {},
   "outputs": [
    {
     "data": {
      "text/plain": [
       "3"
      ]
     },
     "execution_count": 368,
     "metadata": {},
     "output_type": "execute_result"
    }
   ],
   "source": [
    "len({1:'tom',2:'tim',3:'ho'}) #딕셔너리"
   ]
  },
  {
   "cell_type": "markdown",
   "id": "90ca9a19",
   "metadata": {},
   "source": [
    "## 내장 함수의 활용"
   ]
  },
  {
   "cell_type": "markdown",
   "id": "79b2d9e6",
   "metadata": {},
   "source": [
    "사용하지 않은 경우"
   ]
  },
  {
   "cell_type": "code",
   "execution_count": 374,
   "id": "7e212a44",
   "metadata": {
    "scrolled": true
   },
   "outputs": [
    {
     "name": "stdout",
     "output_type": "stream",
     "text": [
      "총점:450, 평균:90.0\n"
     ]
    }
   ],
   "source": [
    "scores = [90, 80, 95, 85, 100]   # 과목별 시험 점수\n",
    "\n",
    "score_sum = 0               # 총점 계산을 위한 초깃값 설정\n",
    "subject_num = 0             # 과목수 계산을 위한 초깃값 설정(평균 구할때 사용)\n",
    "for score in scores:\n",
    "    score_sum = score_sum + score  # 과목별 점수 총합 만들기\n",
    "    subject_num = subject_num + 1  # 과목수 계산\n",
    "    \n",
    "average = score_sum / subject_num  # 평균(총점 / 과목수) 구하기\n",
    "\n",
    "print(\"총점:{0}, 평균:{1}\".format(score_sum,average)) # 정답"
   ]
  },
  {
   "cell_type": "markdown",
   "id": "1d6cb4de",
   "metadata": {},
   "source": [
    "#### 사용했을 경우"
   ]
  },
  {
   "cell_type": "code",
   "execution_count": 380,
   "id": "59438399",
   "metadata": {},
   "outputs": [
    {
     "name": "stdout",
     "output_type": "stream",
     "text": [
      "총점 : 450, 평균:90.0\n"
     ]
    }
   ],
   "source": [
    "scores = [90, 80, 95, 85, 100]\n",
    "\n",
    "print(\"총점 : {0}, 평균:{1}\".format(sum(scores),sum(scores)/len(scores)))"
   ]
  },
  {
   "cell_type": "code",
   "execution_count": 382,
   "id": "c0600846",
   "metadata": {},
   "outputs": [
    {
     "name": "stdout",
     "output_type": "stream",
     "text": [
      "최하 점수:80, 최고 점수:100\n"
     ]
    }
   ],
   "source": [
    "print(\"최하 점수:{0}, 최고 점수:{1}\".format(min(scores), max(scores)))"
   ]
  },
  {
   "cell_type": "markdown",
   "id": "27cb0815",
   "metadata": {},
   "source": [
    "# 7.5 정리"
   ]
  }
 ],
 "metadata": {
  "kernelspec": {
   "display_name": "Python 3 (ipykernel)",
   "language": "python",
   "name": "python3"
  },
  "language_info": {
   "codemirror_mode": {
    "name": "ipython",
    "version": 3
   },
   "file_extension": ".py",
   "mimetype": "text/x-python",
   "name": "python",
   "nbconvert_exporter": "python",
   "pygments_lexer": "ipython3",
   "version": "3.9.13"
  }
 },
 "nbformat": 4,
 "nbformat_minor": 5
}

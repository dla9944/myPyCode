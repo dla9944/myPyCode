{
 "cells": [
  {
   "cell_type": "markdown",
   "id": "4274d069",
   "metadata": {},
   "source": [
    "# 5장 제어문 "
   ]
  },
  {
   "cell_type": "markdown",
   "id": "792eb78d",
   "metadata": {},
   "source": [
    "## 5.1 조건에 따라 분기하는 if문 "
   ]
  },
  {
   "cell_type": "markdown",
   "id": "04f3aa28",
   "metadata": {},
   "source": [
    "### 1) 단일 조건에 따른 분기(if)"
   ]
  },
  {
   "cell_type": "markdown",
   "id": "64416f00",
   "metadata": {},
   "source": [
    "### if <조건문>:"
   ]
  },
  {
   "cell_type": "markdown",
   "id": "3f18ce78",
   "metadata": {},
   "source": [
    "####    <코드블록>\n",
    " 파이썬에서 콜론(:)과 들여쓰기로 코드의 구조를 결정한다. 스페이스바 또는 (Tab)으로 조절"
   ]
  },
  {
   "cell_type": "code",
   "execution_count": 45,
   "id": "de543e40",
   "metadata": {},
   "outputs": [
    {
     "name": "stdout",
     "output_type": "stream",
     "text": [
      "Pass\n"
     ]
    }
   ],
   "source": [
    "x = 9\n",
    "\n",
    "if x <= 9:\n",
    "    print(\"Pass\")\n"
   ]
  },
  {
   "cell_type": "markdown",
   "id": "b7280372",
   "metadata": {},
   "source": [
    "# 단일 조건 및 그 외 조건에 따른 분기 (if ~else)\n"
   ]
  },
  {
   "cell_type": "markdown",
   "id": "57c82c47",
   "metadata": {},
   "source": [
    "#### if<조건문>:\n",
    "    <코드블록1> \n",
    "    \n",
    "else :         \n",
    "     \n",
    "    <코드블록2>"
   ]
  },
  {
   "cell_type": "code",
   "execution_count": 46,
   "id": "f8acd33d",
   "metadata": {},
   "outputs": [
    {
     "name": "stdout",
     "output_type": "stream",
     "text": [
      "Fail\n"
     ]
    }
   ],
   "source": [
    "x = 75\n",
    "if x>= 90:\n",
    "    print(\"Pass\")\n",
    "else:\n",
    "    print(\"Fail\")   # 코드상에서는 실패를 의도하는 코드들도 있습니다."
   ]
  },
  {
   "cell_type": "markdown",
   "id": "b92ddbc2",
   "metadata": {},
   "source": [
    "### 여러 조건에 따른 분기(if ~ elif ~ else)"
   ]
  },
  {
   "cell_type": "markdown",
   "id": "31d1892f",
   "metadata": {},
   "source": [
    "if <조건문1>:\n",
    "\n",
    "   \n",
    "    <코드블록1>\n",
    "   \n",
    "elif <조건문2>:\n",
    "\n",
    "   \n",
    "    <코드블록2>\n",
    "\n",
    "elif <조건문N> :\n",
    "   \n",
    "    <코드블록N>\n",
    "\n",
    "else: #생략가능\n",
    "\n",
    "    <코드블록M>"
   ]
  },
  {
   "cell_type": "code",
   "execution_count": 82,
   "id": "24d30908",
   "metadata": {},
   "outputs": [
    {
     "name": "stdout",
     "output_type": "stream",
     "text": [
      "Good\n"
     ]
    }
   ],
   "source": [
    "x= 80\n",
    "\n",
    "if x >= 90:\n",
    "    print(\"Very good\")\n",
    "    \n",
    "elif  x>= 80 and x<90: # and 조건과 or 조건에 차이가 생깁니다.\n",
    "    print(\"Good\")\n",
    "\n",
    "else:\n",
    "    print(\"Bad\")"
   ]
  },
  {
   "cell_type": "code",
   "execution_count": 93,
   "id": "47f9b8c4",
   "metadata": {},
   "outputs": [
    {
     "name": "stdout",
     "output_type": "stream",
     "text": [
      "Bad\n"
     ]
    }
   ],
   "source": [
    "x = 79\n",
    "\n",
    "if x >= 90:\n",
    "    print(\"Very Good\")\n",
    "\n",
    "elif 90 > x >= 80:\n",
    "    print(\"Good\")\n",
    "\n",
    "else:\n",
    "    print(\"Bad\")"
   ]
  },
  {
   "cell_type": "markdown",
   "id": "c26576ec",
   "metadata": {},
   "source": [
    "# 중첩 조건에 따른 분기"
   ]
  },
  {
   "cell_type": "markdown",
   "id": "cecec863",
   "metadata": {},
   "source": [
    "if <조건문1> :\n",
    "\n",
    "\n",
    "    if <조건문2>:\n",
    "      \n",
    "         <코드블록1>\n",
    "      \n",
    "    else <코드블록2>\n",
    "    \n",
    "elif <조건문3> :\n",
    "\n",
    "\n",
    "      <코드블록3>\n",
    "\n",
    "else :(생략)\n",
    "\n",
    "      <코드블록4>"
   ]
  },
  {
   "cell_type": "code",
   "execution_count": 110,
   "id": "b2ab7cca",
   "metadata": {},
   "outputs": [
    {
     "name": "stdout",
     "output_type": "stream",
     "text": [
      "Very Good\n"
     ]
    }
   ],
   "source": [
    "x = 90\n",
    "\n",
    "if 90 <= x :\n",
    "    if x>= 100:\n",
    "        print(\"Perfert\")\n",
    "    else :\n",
    "        print(\"Very Good\")\n",
    "elif 90 > x and x > 80:\n",
    "    print(\"Good\")\n",
    "else:\n",
    "    print(\"Bad\")"
   ]
  },
  {
   "cell_type": "code",
   "execution_count": 112,
   "id": "5579c2e3",
   "metadata": {},
   "outputs": [],
   "source": [
    "# 나중에 구현하고 싶을때 일단 잠시 Pass를 활용합시다.\n",
    "x = 75\n",
    "if x>= 80:\n",
    "    pass\n",
    "else:\n",
    "    pass"
   ]
  },
  {
   "cell_type": "markdown",
   "id": "d43a3e8a",
   "metadata": {},
   "source": [
    "# 5.2 지정된 범위만큼 반복하는 for 문"
   ]
  },
  {
   "cell_type": "markdown",
   "id": "1ddf5550",
   "metadata": {},
   "source": [
    "## 반복문의 필요성"
   ]
  },
  {
   "cell_type": "code",
   "execution_count": 119,
   "id": "36723826",
   "metadata": {},
   "outputs": [
    {
     "name": "stdout",
     "output_type": "stream",
     "text": [
      "0\n",
      "1\n",
      "2\n",
      "3\n",
      "4\n",
      "5\n"
     ]
    }
   ],
   "source": [
    "a = 0 # 변수 a를 0으로 초기화\n",
    "print(a) # 변수 a 출력\n",
    "\n",
    "a = a+1  # 변수 a에 1을 더한 후, 다시 a에 대입\n",
    "print(a) # 변수 a 출력\n",
    "\n",
    "a = a+1 # 코드 반복\n",
    "print(a) # 코드 반복\n",
    "\n",
    "a = a+1 # 코드 반복\n",
    "print(a) # 코드 반복\n",
    "\n",
    "\n",
    "a = a+1 # 코드 반복\n",
    "print(a) # 코드 반복\n",
    "\n",
    "a = a+1 #코드 반복\n",
    "print(a) #코드 반복"
   ]
  },
  {
   "cell_type": "markdown",
   "id": "fbcf3a80",
   "metadata": {},
   "source": [
    "#### for 문의 구조"
   ]
  },
  {
   "cell_type": "markdown",
   "id": "bd8622ab",
   "metadata": {},
   "source": [
    "for <반복 구조> in <반복 범위>:\n",
    "    <코드 블록>"
   ]
  },
  {
   "cell_type": "markdown",
   "id": "02d20f75",
   "metadata": {},
   "source": [
    "## 반복 범위 지정"
   ]
  },
  {
   "cell_type": "markdown",
   "id": "9419f688",
   "metadata": {},
   "source": [
    "### 리스트 이용\n"
   ]
  },
  {
   "cell_type": "code",
   "execution_count": 126,
   "id": "dbac3822",
   "metadata": {},
   "outputs": [
    {
     "name": "stdout",
     "output_type": "stream",
     "text": [
      "0\n",
      "1\n",
      "2\n",
      "3\n",
      "4\n",
      "5\n"
     ]
    }
   ],
   "source": [
    "for a in [0,1,2,3,4,5] :\n",
    "    print(a)"
   ]
  },
  {
   "cell_type": "code",
   "execution_count": null,
   "id": "93df2350",
   "metadata": {},
   "outputs": [],
   "source": []
  }
 ],
 "metadata": {
  "kernelspec": {
   "display_name": "Python 3 (ipykernel)",
   "language": "python",
   "name": "python3"
  },
  "language_info": {
   "codemirror_mode": {
    "name": "ipython",
    "version": 3
   },
   "file_extension": ".py",
   "mimetype": "text/x-python",
   "name": "python",
   "nbconvert_exporter": "python",
   "pygments_lexer": "ipython3",
   "version": "3.9.13"
  }
 },
 "nbformat": 4,
 "nbformat_minor": 5
}

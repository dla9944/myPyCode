{
 "cells": [
  {
   "cell_type": "markdown",
   "id": "30a95384",
   "metadata": {},
   "source": [
    "# 3.1 간단한 사칙 연산"
   ]
  },
  {
   "cell_type": "markdown",
   "id": "a60a9fd6",
   "metadata": {},
   "source": [
    "### 덧셈과 뺄셈, 곱셈과 나눗셈"
   ]
  },
  {
   "cell_type": "code",
   "execution_count": 2,
   "id": "d6cf54a7",
   "metadata": {},
   "outputs": [
    {
     "data": {
      "text/plain": [
       "2"
      ]
     },
     "execution_count": 2,
     "metadata": {},
     "output_type": "execute_result"
    }
   ],
   "source": [
    "1+1"
   ]
  },
  {
   "cell_type": "code",
   "execution_count": 3,
   "id": "44756abb",
   "metadata": {},
   "outputs": [
    {
     "data": {
      "text/plain": [
       "3"
      ]
     },
     "execution_count": 3,
     "metadata": {},
     "output_type": "execute_result"
    }
   ],
   "source": [
    "5-2"
   ]
  },
  {
   "cell_type": "code",
   "execution_count": 4,
   "id": "9ea73b6f",
   "metadata": {},
   "outputs": [
    {
     "data": {
      "text/plain": [
       "30"
      ]
     },
     "execution_count": 4,
     "metadata": {},
     "output_type": "execute_result"
    }
   ],
   "source": [
    "15*2"
   ]
  },
  {
   "cell_type": "code",
   "execution_count": 5,
   "id": "bb696976",
   "metadata": {},
   "outputs": [
    {
     "data": {
      "text/plain": [
       "5.0"
      ]
     },
     "execution_count": 5,
     "metadata": {},
     "output_type": "execute_result"
    }
   ],
   "source": [
    "10/2"
   ]
  },
  {
   "cell_type": "markdown",
   "id": "f0b3d02e",
   "metadata": {},
   "source": [
    "# 정수와 실수\n",
    "\n",
    "파이썬은 나눗셈을 시작하면, 나머지가 있던 없든 실수로 표현합니다.\n",
    "\n",
    "정수 : 자연수와 음수, 0 = int\n",
    "실수 : 유리수와 무리수 = float"
   ]
  },
  {
   "cell_type": "code",
   "execution_count": 7,
   "id": "518ee044",
   "metadata": {},
   "outputs": [
    {
     "data": {
      "text/plain": [
       "6.5"
      ]
     },
     "execution_count": 7,
     "metadata": {},
     "output_type": "execute_result"
    }
   ],
   "source": [
    "1.2 + 5.3"
   ]
  },
  {
   "cell_type": "code",
   "execution_count": 9,
   "id": "49a6f484",
   "metadata": {},
   "outputs": [
    {
     "data": {
      "text/plain": [
       "-1.5"
      ]
     },
     "execution_count": 9,
     "metadata": {},
     "output_type": "execute_result"
    }
   ],
   "source": [
    "3.5 - 5.0"
   ]
  },
  {
   "cell_type": "code",
   "execution_count": 10,
   "id": "3c2ce33d",
   "metadata": {},
   "outputs": [
    {
     "data": {
      "text/plain": [
       "2.8"
      ]
     },
     "execution_count": 10,
     "metadata": {},
     "output_type": "execute_result"
    }
   ],
   "source": [
    "1.4 * 2"
   ]
  },
  {
   "cell_type": "code",
   "execution_count": 11,
   "id": "4345bbe7",
   "metadata": {},
   "outputs": [
    {
     "data": {
      "text/plain": [
       "2.5"
      ]
     },
     "execution_count": 11,
     "metadata": {},
     "output_type": "execute_result"
    }
   ],
   "source": [
    "5 / 2"
   ]
  },
  {
   "cell_type": "markdown",
   "id": "164284e3",
   "metadata": {},
   "source": [
    "# 복잡한 연산 \n",
    "\n",
    "연산 규칙 : 괄호 > 지수 > 곱셈과나눗셈 > 덧셈과 뺄셈\n"
   ]
  },
  {
   "cell_type": "code",
   "execution_count": 12,
   "id": "d0c31863",
   "metadata": {},
   "outputs": [
    {
     "data": {
      "text/plain": [
       "14"
      ]
     },
     "execution_count": 12,
     "metadata": {},
     "output_type": "execute_result"
    }
   ],
   "source": [
    "2 + 3 * 4"
   ]
  },
  {
   "cell_type": "code",
   "execution_count": 17,
   "id": "8d3281cf",
   "metadata": {},
   "outputs": [
    {
     "data": {
      "text/plain": [
       "1.5"
      ]
     },
     "execution_count": 17,
     "metadata": {},
     "output_type": "execute_result"
    }
   ],
   "source": [
    "3 / 2 * (7 - 5) / 2"
   ]
  },
  {
   "cell_type": "code",
   "execution_count": 14,
   "id": "1f72893f",
   "metadata": {},
   "outputs": [
    {
     "data": {
      "text/plain": [
       "8.0"
      ]
     },
     "execution_count": 14,
     "metadata": {},
     "output_type": "execute_result"
    }
   ],
   "source": [
    "10 / 5 + (5-2) * 2"
   ]
  },
  {
   "cell_type": "code",
   "execution_count": 16,
   "id": "a89b906b",
   "metadata": {},
   "outputs": [
    {
     "data": {
      "text/plain": [
       "11"
      ]
     },
     "execution_count": 16,
     "metadata": {},
     "output_type": "execute_result"
    }
   ],
   "source": [
    "(5 * 4 - 15) + ((5 - 2) * (9 - 7))"
   ]
  },
  {
   "cell_type": "markdown",
   "id": "d0de18e8",
   "metadata": {},
   "source": [
    "# 타입\n",
    "\n",
    "#함수 : 기능을 수행하도록 작성된 코드의 묶음\n",
    "#함수명(인자)의 형식으로 이용\n",
    "\n",
    "##시작과 끝을 알려주기 위해 \"()\"를 사용"
   ]
  },
  {
   "cell_type": "code",
   "execution_count": 18,
   "id": "35b1ec16",
   "metadata": {},
   "outputs": [
    {
     "data": {
      "text/plain": [
       "int"
      ]
     },
     "execution_count": 18,
     "metadata": {},
     "output_type": "execute_result"
    }
   ],
   "source": [
    "type(3)"
   ]
  },
  {
   "cell_type": "code",
   "execution_count": 19,
   "id": "a7926716",
   "metadata": {},
   "outputs": [
    {
     "data": {
      "text/plain": [
       "float"
      ]
     },
     "execution_count": 19,
     "metadata": {},
     "output_type": "execute_result"
    }
   ],
   "source": [
    "type(3.0)"
   ]
  },
  {
   "cell_type": "code",
   "execution_count": 21,
   "id": "2304a6e0",
   "metadata": {},
   "outputs": [
    {
     "data": {
      "text/plain": [
       "str"
      ]
     },
     "execution_count": 21,
     "metadata": {},
     "output_type": "execute_result"
    }
   ],
   "source": [
    "type(\"실수\")"
   ]
  },
  {
   "cell_type": "markdown",
   "id": "c01ef15a",
   "metadata": {},
   "source": [
    "# 3.2 거듭 제곱과 나머지\n",
    "\n",
    "거듭제곱 (지수)\n",
    "\n",
    "거듭제곱 연산자 = **"
   ]
  },
  {
   "cell_type": "code",
   "execution_count": 24,
   "id": "eb2e7677",
   "metadata": {},
   "outputs": [
    {
     "data": {
      "text/plain": [
       "32"
      ]
     },
     "execution_count": 24,
     "metadata": {},
     "output_type": "execute_result"
    }
   ],
   "source": [
    "2 * 2 * 2 * 2 * 2"
   ]
  },
  {
   "cell_type": "code",
   "execution_count": 25,
   "id": "fd36f223",
   "metadata": {
    "scrolled": true
   },
   "outputs": [
    {
     "data": {
      "text/plain": [
       "32"
      ]
     },
     "execution_count": 25,
     "metadata": {},
     "output_type": "execute_result"
    }
   ],
   "source": [
    "2**5 "
   ]
  },
  {
   "cell_type": "markdown",
   "id": "b9f6942c",
   "metadata": {},
   "source": [
    "실수도 거듭제곱이 가능하다"
   ]
  },
  {
   "cell_type": "code",
   "execution_count": 26,
   "id": "e5b99665",
   "metadata": {},
   "outputs": [
    {
     "data": {
      "text/plain": [
       "2.25"
      ]
     },
     "execution_count": 26,
     "metadata": {},
     "output_type": "execute_result"
    }
   ],
   "source": [
    "1.5**2"
   ]
  },
  {
   "cell_type": "markdown",
   "id": "db20d0a7",
   "metadata": {},
   "source": [
    "지수가 정수가 아니어도 가능"
   ]
  },
  {
   "cell_type": "code",
   "execution_count": 27,
   "id": "9f630b44",
   "metadata": {},
   "outputs": [
    {
     "data": {
      "text/plain": [
       "1.4142135623730951"
      ]
     },
     "execution_count": 27,
     "metadata": {},
     "output_type": "execute_result"
    }
   ],
   "source": [
    "2**(1/2)"
   ]
  },
  {
   "cell_type": "code",
   "execution_count": 28,
   "id": "b21afb3f",
   "metadata": {},
   "outputs": [
    {
     "data": {
      "text/plain": [
       "1.2599210498948732"
      ]
     },
     "execution_count": 28,
     "metadata": {},
     "output_type": "execute_result"
    }
   ],
   "source": [
    "2**(1/3)"
   ]
  },
  {
   "cell_type": "markdown",
   "id": "00621387",
   "metadata": {},
   "source": [
    "나머지와 몫"
   ]
  },
  {
   "cell_type": "code",
   "execution_count": 1,
   "id": "7d73beaa",
   "metadata": {},
   "outputs": [
    {
     "data": {
      "text/plain": [
       "3"
      ]
     },
     "execution_count": 1,
     "metadata": {},
     "output_type": "execute_result"
    }
   ],
   "source": [
    "13 % 5"
   ]
  },
  {
   "cell_type": "code",
   "execution_count": 2,
   "id": "1bb97e5a",
   "metadata": {},
   "outputs": [
    {
     "data": {
      "text/plain": [
       "2"
      ]
     },
     "execution_count": 2,
     "metadata": {},
     "output_type": "execute_result"
    }
   ],
   "source": [
    "13 // 5"
   ]
  },
  {
   "cell_type": "markdown",
   "id": "2106e43d",
   "metadata": {},
   "source": [
    "# 3.3 과학적 표기법\n",
    "자주 사용되진 않습니다"
   ]
  },
  {
   "cell_type": "code",
   "execution_count": 3,
   "id": "4711cecb",
   "metadata": {},
   "outputs": [
    {
     "data": {
      "text/plain": [
       "300000000"
      ]
     },
     "execution_count": 3,
     "metadata": {},
     "output_type": "execute_result"
    }
   ],
   "source": [
    "3 * 10 ** 8"
   ]
  },
  {
   "cell_type": "markdown",
   "id": "25f802d8",
   "metadata": {},
   "source": [
    "10의 거듭제곱을 en 형식으로 편하게 입력가능\n",
    "주의 : 항상 숫자가 앞에 있어야 함 e8 (x)"
   ]
  },
  {
   "cell_type": "code",
   "execution_count": 4,
   "id": "216356da",
   "metadata": {},
   "outputs": [
    {
     "data": {
      "text/plain": [
       "300000000.0"
      ]
     },
     "execution_count": 4,
     "metadata": {},
     "output_type": "execute_result"
    }
   ],
   "source": [
    "3e8"
   ]
  },
  {
   "cell_type": "markdown",
   "id": "f62ae506",
   "metadata": {},
   "source": [
    "▲3 곱하기 10의 8승 ('실수'로 저장됩니다)"
   ]
  },
  {
   "cell_type": "markdown",
   "id": "ad30cf51",
   "metadata": {},
   "source": [
    "출력에서도 사용됩니다."
   ]
  },
  {
   "cell_type": "code",
   "execution_count": 5,
   "id": "ac1c64c6",
   "metadata": {},
   "outputs": [
    {
     "data": {
      "text/plain": [
       "1000000000000000.0"
      ]
     },
     "execution_count": 5,
     "metadata": {},
     "output_type": "execute_result"
    }
   ],
   "source": [
    "1e15"
   ]
  },
  {
   "cell_type": "code",
   "execution_count": 6,
   "id": "f403af7e",
   "metadata": {},
   "outputs": [
    {
     "data": {
      "text/plain": [
       "10.0"
      ]
     },
     "execution_count": 6,
     "metadata": {},
     "output_type": "execute_result"
    }
   ],
   "source": [
    "1e1"
   ]
  },
  {
   "cell_type": "code",
   "execution_count": 7,
   "id": "f972f695",
   "metadata": {},
   "outputs": [
    {
     "data": {
      "text/plain": [
       "1e+16"
      ]
     },
     "execution_count": 7,
     "metadata": {},
     "output_type": "execute_result"
    }
   ],
   "source": [
    "1e16"
   ]
  },
  {
   "cell_type": "markdown",
   "id": "6c9234ec",
   "metadata": {},
   "source": [
    "*10의 16승이상부터 숫자로 표현되지 않습니다"
   ]
  },
  {
   "cell_type": "code",
   "execution_count": 10,
   "id": "2edbf6fb",
   "metadata": {},
   "outputs": [
    {
     "data": {
      "text/plain": [
       "0.0001"
      ]
     },
     "execution_count": 10,
     "metadata": {},
     "output_type": "execute_result"
    }
   ],
   "source": [
    "1e-4"
   ]
  },
  {
   "cell_type": "code",
   "execution_count": 11,
   "id": "2680353e",
   "metadata": {},
   "outputs": [
    {
     "data": {
      "text/plain": [
       "1e-05"
      ]
     },
     "execution_count": 11,
     "metadata": {},
     "output_type": "execute_result"
    }
   ],
   "source": [
    "1e-5"
   ]
  },
  {
   "cell_type": "code",
   "execution_count": 3,
   "id": "b7355df4",
   "metadata": {},
   "outputs": [
    {
     "data": {
      "text/plain": [
       "0.1"
      ]
     },
     "execution_count": 3,
     "metadata": {},
     "output_type": "execute_result"
    }
   ],
   "source": [
    "1e-1"
   ]
  },
  {
   "cell_type": "markdown",
   "id": "98e606b1",
   "metadata": {},
   "source": [
    "10의 -4승부터는 숫자로 표현되지 않습니다."
   ]
  },
  {
   "cell_type": "markdown",
   "id": "39cbb903",
   "metadata": {},
   "source": [
    "# 3.4 진수의 표현과 변환\n",
    "각 10진법, 2진법, 8진법, 16진법을 표기한 후 10진법을 출력할 수 있습니다."
   ]
  },
  {
   "cell_type": "code",
   "execution_count": 1,
   "id": "e39425c9",
   "metadata": {},
   "outputs": [
    {
     "data": {
      "text/plain": [
       "17"
      ]
     },
     "execution_count": 1,
     "metadata": {},
     "output_type": "execute_result"
    }
   ],
   "source": [
    "17"
   ]
  },
  {
   "cell_type": "code",
   "execution_count": 2,
   "id": "b641a075",
   "metadata": {},
   "outputs": [
    {
     "data": {
      "text/plain": [
       "17"
      ]
     },
     "execution_count": 2,
     "metadata": {},
     "output_type": "execute_result"
    }
   ],
   "source": [
    "0b10001"
   ]
  },
  {
   "cell_type": "markdown",
   "id": "a1c02c52",
   "metadata": {},
   "source": [
    "▲2진법 (binary)"
   ]
  },
  {
   "cell_type": "code",
   "execution_count": 4,
   "id": "316ee784",
   "metadata": {},
   "outputs": [
    {
     "data": {
      "text/plain": [
       "17"
      ]
     },
     "execution_count": 4,
     "metadata": {},
     "output_type": "execute_result"
    }
   ],
   "source": [
    "0o21"
   ]
  },
  {
   "cell_type": "markdown",
   "id": "e5cd6e50",
   "metadata": {},
   "source": [
    "▲8진법 (octal)"
   ]
  },
  {
   "cell_type": "code",
   "execution_count": 8,
   "id": "96b18cfb",
   "metadata": {},
   "outputs": [
    {
     "data": {
      "text/plain": [
       "9"
      ]
     },
     "execution_count": 8,
     "metadata": {},
     "output_type": "execute_result"
    }
   ],
   "source": [
    "0o11"
   ]
  },
  {
   "cell_type": "markdown",
   "id": "d492db1d",
   "metadata": {},
   "source": [
    "▲16진법 (hex)"
   ]
  },
  {
   "cell_type": "code",
   "execution_count": 6,
   "id": "3d1227c7",
   "metadata": {},
   "outputs": [
    {
     "data": {
      "text/plain": [
       "10"
      ]
     },
     "execution_count": 6,
     "metadata": {},
     "output_type": "execute_result"
    }
   ],
   "source": [
    "0xa"
   ]
  },
  {
   "cell_type": "code",
   "execution_count": 7,
   "id": "486547c3",
   "metadata": {},
   "outputs": [
    {
     "data": {
      "text/plain": [
       "15"
      ]
     },
     "execution_count": 7,
     "metadata": {},
     "output_type": "execute_result"
    }
   ],
   "source": [
    "0xf"
   ]
  },
  {
   "cell_type": "markdown",
   "id": "2713a83f",
   "metadata": {},
   "source": [
    "16진법은 f까지 사용합니다"
   ]
  },
  {
   "cell_type": "code",
   "execution_count": 11,
   "id": "3fe39956",
   "metadata": {},
   "outputs": [
    {
     "data": {
      "text/plain": [
       "256"
      ]
     },
     "execution_count": 11,
     "metadata": {},
     "output_type": "execute_result"
    }
   ],
   "source": [
    "0X100"
   ]
  },
  {
   "cell_type": "markdown",
   "id": "ceafc900",
   "metadata": {},
   "source": [
    "2진법 8진법 16진법으로 출력됩니다 (단, 문자열로 출력됩니다)"
   ]
  },
  {
   "cell_type": "code",
   "execution_count": 12,
   "id": "6187f8be",
   "metadata": {},
   "outputs": [
    {
     "data": {
      "text/plain": [
       "'0b10001'"
      ]
     },
     "execution_count": 12,
     "metadata": {},
     "output_type": "execute_result"
    }
   ],
   "source": [
    "bin(17)"
   ]
  },
  {
   "cell_type": "code",
   "execution_count": 15,
   "id": "2452fe14",
   "metadata": {},
   "outputs": [
    {
     "data": {
      "text/plain": [
       "'0b1100100'"
      ]
     },
     "execution_count": 15,
     "metadata": {},
     "output_type": "execute_result"
    }
   ],
   "source": [
    "bin(100)"
   ]
  },
  {
   "cell_type": "markdown",
   "id": "347b22a5",
   "metadata": {},
   "source": [
    "2진법"
   ]
  },
  {
   "cell_type": "code",
   "execution_count": 13,
   "id": "06618abf",
   "metadata": {},
   "outputs": [
    {
     "data": {
      "text/plain": [
       "'0o21'"
      ]
     },
     "execution_count": 13,
     "metadata": {},
     "output_type": "execute_result"
    }
   ],
   "source": [
    "oct(17)"
   ]
  },
  {
   "cell_type": "markdown",
   "id": "fc15e23f",
   "metadata": {},
   "source": [
    "8진법"
   ]
  },
  {
   "cell_type": "code",
   "execution_count": 14,
   "id": "9d5abe44",
   "metadata": {},
   "outputs": [
    {
     "data": {
      "text/plain": [
       "'0x11'"
      ]
     },
     "execution_count": 14,
     "metadata": {},
     "output_type": "execute_result"
    }
   ],
   "source": [
    "hex(17)"
   ]
  },
  {
   "cell_type": "markdown",
   "id": "38d7fff8",
   "metadata": {},
   "source": [
    "16진법"
   ]
  },
  {
   "cell_type": "markdown",
   "id": "60dbf461",
   "metadata": {},
   "source": [
    "연산 후 변환함 (2진법 > 8진법 > 16진법)"
   ]
  },
  {
   "cell_type": "code",
   "execution_count": 2,
   "id": "801170cc",
   "metadata": {},
   "outputs": [
    {
     "data": {
      "text/plain": [
       "22"
      ]
     },
     "execution_count": 2,
     "metadata": {},
     "output_type": "execute_result"
    }
   ],
   "source": [
    "0b10 * 0o10 + 0x10 - 10"
   ]
  },
  {
   "cell_type": "code",
   "execution_count": 3,
   "id": "12ff90ef",
   "metadata": {},
   "outputs": [
    {
     "data": {
      "text/plain": [
       "'0b10110'"
      ]
     },
     "execution_count": 3,
     "metadata": {},
     "output_type": "execute_result"
    }
   ],
   "source": [
    "bin(0b10 * 0o10 + 0x10 - 10)"
   ]
  },
  {
   "cell_type": "code",
   "execution_count": 4,
   "id": "e807e62d",
   "metadata": {},
   "outputs": [
    {
     "data": {
      "text/plain": [
       "'0o26'"
      ]
     },
     "execution_count": 4,
     "metadata": {},
     "output_type": "execute_result"
    }
   ],
   "source": [
    "oct(0b10 * 0o10 + 0x10 - 10)"
   ]
  },
  {
   "cell_type": "code",
   "execution_count": 5,
   "id": "995ac17b",
   "metadata": {},
   "outputs": [
    {
     "data": {
      "text/plain": [
       "'0x16'"
      ]
     },
     "execution_count": 5,
     "metadata": {},
     "output_type": "execute_result"
    }
   ],
   "source": [
    "hex(0b10 * 0o10 + 0x10 - 10)"
   ]
  },
  {
   "cell_type": "code",
   "execution_count": 1,
   "id": "d6fc9b26",
   "metadata": {},
   "outputs": [
    {
     "data": {
      "text/plain": [
       "'0b1010'"
      ]
     },
     "execution_count": 1,
     "metadata": {},
     "output_type": "execute_result"
    }
   ],
   "source": [
    "bin(0o10 + 0x2)"
   ]
  },
  {
   "cell_type": "markdown",
   "id": "45e9f543",
   "metadata": {},
   "source": [
    "# 3.5 논리연산과 비교연산\n",
    "\n",
    "불린연산(Boolean operation)\n"
   ]
  },
  {
   "cell_type": "code",
   "execution_count": 2,
   "id": "4a04972a",
   "metadata": {},
   "outputs": [
    {
     "name": "stdout",
     "output_type": "stream",
     "text": [
      "True\n"
     ]
    }
   ],
   "source": [
    "print(True)"
   ]
  },
  {
   "cell_type": "code",
   "execution_count": 3,
   "id": "23807106",
   "metadata": {},
   "outputs": [
    {
     "name": "stdout",
     "output_type": "stream",
     "text": [
      "False\n"
     ]
    }
   ],
   "source": [
    "print(False)"
   ]
  },
  {
   "cell_type": "code",
   "execution_count": 4,
   "id": "489cd326",
   "metadata": {},
   "outputs": [
    {
     "data": {
      "text/plain": [
       "bool"
      ]
     },
     "execution_count": 4,
     "metadata": {},
     "output_type": "execute_result"
    }
   ],
   "source": [
    "type(True)"
   ]
  },
  {
   "cell_type": "markdown",
   "id": "1675b236",
   "metadata": {},
   "source": [
    "# 논리연산자**\n",
    "\n",
    "AND : 모두 참일 때만 참\n",
    "OR : 둘 중 하나만 참일때도 참\n",
    "NOT : A가 참이면 거짓, 거짓이면 참"
   ]
  },
  {
   "cell_type": "code",
   "execution_count": 5,
   "id": "baaba21f",
   "metadata": {},
   "outputs": [
    {
     "name": "stdout",
     "output_type": "stream",
     "text": [
      "False\n"
     ]
    }
   ],
   "source": [
    "print(True and False)"
   ]
  },
  {
   "cell_type": "code",
   "execution_count": 6,
   "id": "a74f1eb0",
   "metadata": {},
   "outputs": [
    {
     "name": "stdout",
     "output_type": "stream",
     "text": [
      "True\n"
     ]
    }
   ],
   "source": [
    "print(True or False)"
   ]
  },
  {
   "cell_type": "code",
   "execution_count": 7,
   "id": "46fdceed",
   "metadata": {},
   "outputs": [
    {
     "name": "stdout",
     "output_type": "stream",
     "text": [
      "False\n"
     ]
    }
   ],
   "source": [
    "print(not True)"
   ]
  },
  {
   "cell_type": "code",
   "execution_count": 8,
   "id": "821921e6",
   "metadata": {},
   "outputs": [
    {
     "name": "stdout",
     "output_type": "stream",
     "text": [
      "True\n"
     ]
    }
   ],
   "source": [
    "print(True or True or not True)"
   ]
  },
  {
   "cell_type": "code",
   "execution_count": 1,
   "id": "3dec62bf",
   "metadata": {},
   "outputs": [
    {
     "name": "stdout",
     "output_type": "stream",
     "text": [
      "False\n"
     ]
    }
   ],
   "source": [
    "print(True and True and not True)"
   ]
  },
  {
   "cell_type": "markdown",
   "id": "a4c0fbcc",
   "metadata": {},
   "source": [
    "# 비교연산자**"
   ]
  },
  {
   "cell_type": "code",
   "execution_count": 2,
   "id": "3599f731",
   "metadata": {},
   "outputs": [
    {
     "name": "stdout",
     "output_type": "stream",
     "text": [
      "False\n",
      "True\n",
      "False\n",
      "True\n",
      "False\n",
      "True\n"
     ]
    }
   ],
   "source": [
    "print(5 == 3) #같다 \"=\"과 다르다는 점에 주의해야 합니다\n",
    "print(5 != 3) #같지 않다\n",
    "print(5 < 3) #보다 작다\n",
    "print(5 > 3) #보다 크다\n",
    "print(5 <= 3) #같거나 작다\n",
    "print(5 >= 3) #크거나 작다"
   ]
  },
  {
   "cell_type": "code",
   "execution_count": 3,
   "id": "666ca660",
   "metadata": {},
   "outputs": [
    {
     "data": {
      "text/plain": [
       "False"
      ]
     },
     "execution_count": 3,
     "metadata": {},
     "output_type": "execute_result"
    }
   ],
   "source": [
    "5<3"
   ]
  },
  {
   "cell_type": "markdown",
   "id": "b1598528",
   "metadata": {},
   "source": [
    "비교연산자의 결과는 불 데이터 형식으로 나옵니다."
   ]
  },
  {
   "cell_type": "code",
   "execution_count": 6,
   "id": "f4fad9e4",
   "metadata": {},
   "outputs": [
    {
     "name": "stdout",
     "output_type": "stream",
     "text": [
      "False\n"
     ]
    }
   ],
   "source": [
    "print(1 < 0 and -2 < 0)"
   ]
  },
  {
   "cell_type": "markdown",
   "id": "e0844e27",
   "metadata": {},
   "source": [
    "비교연산\n",
    "\n",
    "괄호와 연산이 같이 있으면 괄호가 우선입니다"
   ]
  },
  {
   "cell_type": "code",
   "execution_count": 3,
   "id": "c911d5e2",
   "metadata": {},
   "outputs": [
    {
     "name": "stdout",
     "output_type": "stream",
     "text": [
      "True\n",
      "True\n",
      "True\n",
      "True\n"
     ]
    }
   ],
   "source": [
    "print((3 > 0) and ((-5 < 0) and (1 < 5)))\n",
    "print((3 < 0) or ((-5 > 0)or (1 < 5)))\n",
    "print((3 > 0) or ((-5 > 0) and (1 > 5)))\n",
    "print(((3 > 0) or (-5 > 0)) and ((4 > 8) or (3 > 0)))"
   ]
  }
 ],
 "metadata": {
  "kernelspec": {
   "display_name": "Python 3 (ipykernel)",
   "language": "python",
   "name": "python3"
  },
  "language_info": {
   "codemirror_mode": {
    "name": "ipython",
    "version": 3
   },
   "file_extension": ".py",
   "mimetype": "text/x-python",
   "name": "python",
   "nbconvert_exporter": "python",
   "pygments_lexer": "ipython3",
   "version": "3.9.13"
  }
 },
 "nbformat": 4,
 "nbformat_minor": 5
}

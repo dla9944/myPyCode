{
  "nbformat": 4,
  "nbformat_minor": 0,
  "metadata": {
    "colab": {
      "provenance": [],
      "authorship_tag": "ABX9TyMDwDmbt+9sLs27hkVzUl3c",
      "include_colab_link": true
    },
    "kernelspec": {
      "name": "python3",
      "display_name": "Python 3"
    },
    "language_info": {
      "name": "python"
    }
  },
  "cells": [
    {
      "cell_type": "markdown",
      "metadata": {
        "id": "view-in-github",
        "colab_type": "text"
      },
      "source": [
        "<a href=\"https://colab.research.google.com/github/dla9944/myPyCode/blob/main/221223_4_Machine_Learning_XGBoost_ipynb%EC%9D%98_%EC%82%AC%EB%B3%B8.ipynb\" target=\"_parent\"><img src=\"https://colab.research.google.com/assets/colab-badge.svg\" alt=\"Open In Colab\"/></a>"
      ]
    },
    {
      "cell_type": "markdown",
      "source": [
        "# 💑 실제 데이터 - XGBoost로 커플 성사 예측"
      ],
      "metadata": {
        "id": "-Pw0_1VRxR4V"
      }
    },
    {
      "cell_type": "code",
      "source": [
        "# 필요한 라이브러리 호출\n",
        "\n",
        "import numpy as np\n",
        "import pandas as pd\n",
        "import seaborn as sns\n",
        "import matplotlib.pyplot as plt\n",
        "import sklearn\n",
        "import xgboost as xgb # !pip install xgboost도 필요"
      ],
      "metadata": {
        "id": "lfeNuvj8xiQj"
      },
      "execution_count": 1,
      "outputs": []
    },
    {
      "cell_type": "code",
      "source": [
        "# 캐글 데이터 조회\n",
        "\n",
        "# https://www.kaggle.com/datasets/annavictoria/speed-dating-experiment\n",
        "\n",
        "df = pd.read_csv('dating.csv', encoding = 'cp949')\n",
        "df"
      ],
      "metadata": {
        "colab": {
          "base_uri": "https://localhost:8080/",
          "height": 373
        },
        "id": "kGF7pjPAxn5J",
        "outputId": "4f1bf5b1-576e-4009-84e5-abf430f547b4"
      },
      "execution_count": 2,
      "outputs": [
        {
          "output_type": "error",
          "ename": "FileNotFoundError",
          "evalue": "ignored",
          "traceback": [
            "\u001b[0;31m---------------------------------------------------------------------------\u001b[0m",
            "\u001b[0;31mFileNotFoundError\u001b[0m                         Traceback (most recent call last)",
            "\u001b[0;32m<ipython-input-2-e37fafa81bc7>\u001b[0m in \u001b[0;36m<module>\u001b[0;34m\u001b[0m\n\u001b[1;32m      3\u001b[0m \u001b[0;31m# https://www.kaggle.com/datasets/annavictoria/speed-dating-experiment\u001b[0m\u001b[0;34m\u001b[0m\u001b[0;34m\u001b[0m\u001b[0;34m\u001b[0m\u001b[0m\n\u001b[1;32m      4\u001b[0m \u001b[0;34m\u001b[0m\u001b[0m\n\u001b[0;32m----> 5\u001b[0;31m \u001b[0mdf\u001b[0m \u001b[0;34m=\u001b[0m \u001b[0mpd\u001b[0m\u001b[0;34m.\u001b[0m\u001b[0mread_csv\u001b[0m\u001b[0;34m(\u001b[0m\u001b[0;34m'dating.csv'\u001b[0m\u001b[0;34m,\u001b[0m \u001b[0mencoding\u001b[0m \u001b[0;34m=\u001b[0m \u001b[0;34m'cp949'\u001b[0m\u001b[0;34m)\u001b[0m\u001b[0;34m\u001b[0m\u001b[0;34m\u001b[0m\u001b[0m\n\u001b[0m\u001b[1;32m      6\u001b[0m \u001b[0mdf\u001b[0m\u001b[0;34m\u001b[0m\u001b[0;34m\u001b[0m\u001b[0m\n",
            "\u001b[0;32m/usr/local/lib/python3.8/dist-packages/pandas/util/_decorators.py\u001b[0m in \u001b[0;36mwrapper\u001b[0;34m(*args, **kwargs)\u001b[0m\n\u001b[1;32m    309\u001b[0m                     \u001b[0mstacklevel\u001b[0m\u001b[0;34m=\u001b[0m\u001b[0mstacklevel\u001b[0m\u001b[0;34m,\u001b[0m\u001b[0;34m\u001b[0m\u001b[0;34m\u001b[0m\u001b[0m\n\u001b[1;32m    310\u001b[0m                 )\n\u001b[0;32m--> 311\u001b[0;31m             \u001b[0;32mreturn\u001b[0m \u001b[0mfunc\u001b[0m\u001b[0;34m(\u001b[0m\u001b[0;34m*\u001b[0m\u001b[0margs\u001b[0m\u001b[0;34m,\u001b[0m \u001b[0;34m**\u001b[0m\u001b[0mkwargs\u001b[0m\u001b[0;34m)\u001b[0m\u001b[0;34m\u001b[0m\u001b[0;34m\u001b[0m\u001b[0m\n\u001b[0m\u001b[1;32m    312\u001b[0m \u001b[0;34m\u001b[0m\u001b[0m\n\u001b[1;32m    313\u001b[0m         \u001b[0;32mreturn\u001b[0m \u001b[0mwrapper\u001b[0m\u001b[0;34m\u001b[0m\u001b[0;34m\u001b[0m\u001b[0m\n",
            "\u001b[0;32m/usr/local/lib/python3.8/dist-packages/pandas/io/parsers/readers.py\u001b[0m in \u001b[0;36mread_csv\u001b[0;34m(filepath_or_buffer, sep, delimiter, header, names, index_col, usecols, squeeze, prefix, mangle_dupe_cols, dtype, engine, converters, true_values, false_values, skipinitialspace, skiprows, skipfooter, nrows, na_values, keep_default_na, na_filter, verbose, skip_blank_lines, parse_dates, infer_datetime_format, keep_date_col, date_parser, dayfirst, cache_dates, iterator, chunksize, compression, thousands, decimal, lineterminator, quotechar, quoting, doublequote, escapechar, comment, encoding, encoding_errors, dialect, error_bad_lines, warn_bad_lines, on_bad_lines, delim_whitespace, low_memory, memory_map, float_precision, storage_options)\u001b[0m\n\u001b[1;32m    584\u001b[0m     \u001b[0mkwds\u001b[0m\u001b[0;34m.\u001b[0m\u001b[0mupdate\u001b[0m\u001b[0;34m(\u001b[0m\u001b[0mkwds_defaults\u001b[0m\u001b[0;34m)\u001b[0m\u001b[0;34m\u001b[0m\u001b[0;34m\u001b[0m\u001b[0m\n\u001b[1;32m    585\u001b[0m \u001b[0;34m\u001b[0m\u001b[0m\n\u001b[0;32m--> 586\u001b[0;31m     \u001b[0;32mreturn\u001b[0m \u001b[0m_read\u001b[0m\u001b[0;34m(\u001b[0m\u001b[0mfilepath_or_buffer\u001b[0m\u001b[0;34m,\u001b[0m \u001b[0mkwds\u001b[0m\u001b[0;34m)\u001b[0m\u001b[0;34m\u001b[0m\u001b[0;34m\u001b[0m\u001b[0m\n\u001b[0m\u001b[1;32m    587\u001b[0m \u001b[0;34m\u001b[0m\u001b[0m\n\u001b[1;32m    588\u001b[0m \u001b[0;34m\u001b[0m\u001b[0m\n",
            "\u001b[0;32m/usr/local/lib/python3.8/dist-packages/pandas/io/parsers/readers.py\u001b[0m in \u001b[0;36m_read\u001b[0;34m(filepath_or_buffer, kwds)\u001b[0m\n\u001b[1;32m    480\u001b[0m \u001b[0;34m\u001b[0m\u001b[0m\n\u001b[1;32m    481\u001b[0m     \u001b[0;31m# Create the parser.\u001b[0m\u001b[0;34m\u001b[0m\u001b[0;34m\u001b[0m\u001b[0;34m\u001b[0m\u001b[0m\n\u001b[0;32m--> 482\u001b[0;31m     \u001b[0mparser\u001b[0m \u001b[0;34m=\u001b[0m \u001b[0mTextFileReader\u001b[0m\u001b[0;34m(\u001b[0m\u001b[0mfilepath_or_buffer\u001b[0m\u001b[0;34m,\u001b[0m \u001b[0;34m**\u001b[0m\u001b[0mkwds\u001b[0m\u001b[0;34m)\u001b[0m\u001b[0;34m\u001b[0m\u001b[0;34m\u001b[0m\u001b[0m\n\u001b[0m\u001b[1;32m    483\u001b[0m \u001b[0;34m\u001b[0m\u001b[0m\n\u001b[1;32m    484\u001b[0m     \u001b[0;32mif\u001b[0m \u001b[0mchunksize\u001b[0m \u001b[0;32mor\u001b[0m \u001b[0miterator\u001b[0m\u001b[0;34m:\u001b[0m\u001b[0;34m\u001b[0m\u001b[0;34m\u001b[0m\u001b[0m\n",
            "\u001b[0;32m/usr/local/lib/python3.8/dist-packages/pandas/io/parsers/readers.py\u001b[0m in \u001b[0;36m__init__\u001b[0;34m(self, f, engine, **kwds)\u001b[0m\n\u001b[1;32m    809\u001b[0m             \u001b[0mself\u001b[0m\u001b[0;34m.\u001b[0m\u001b[0moptions\u001b[0m\u001b[0;34m[\u001b[0m\u001b[0;34m\"has_index_names\"\u001b[0m\u001b[0;34m]\u001b[0m \u001b[0;34m=\u001b[0m \u001b[0mkwds\u001b[0m\u001b[0;34m[\u001b[0m\u001b[0;34m\"has_index_names\"\u001b[0m\u001b[0;34m]\u001b[0m\u001b[0;34m\u001b[0m\u001b[0;34m\u001b[0m\u001b[0m\n\u001b[1;32m    810\u001b[0m \u001b[0;34m\u001b[0m\u001b[0m\n\u001b[0;32m--> 811\u001b[0;31m         \u001b[0mself\u001b[0m\u001b[0;34m.\u001b[0m\u001b[0m_engine\u001b[0m \u001b[0;34m=\u001b[0m \u001b[0mself\u001b[0m\u001b[0;34m.\u001b[0m\u001b[0m_make_engine\u001b[0m\u001b[0;34m(\u001b[0m\u001b[0mself\u001b[0m\u001b[0;34m.\u001b[0m\u001b[0mengine\u001b[0m\u001b[0;34m)\u001b[0m\u001b[0;34m\u001b[0m\u001b[0;34m\u001b[0m\u001b[0m\n\u001b[0m\u001b[1;32m    812\u001b[0m \u001b[0;34m\u001b[0m\u001b[0m\n\u001b[1;32m    813\u001b[0m     \u001b[0;32mdef\u001b[0m \u001b[0mclose\u001b[0m\u001b[0;34m(\u001b[0m\u001b[0mself\u001b[0m\u001b[0;34m)\u001b[0m\u001b[0;34m:\u001b[0m\u001b[0;34m\u001b[0m\u001b[0;34m\u001b[0m\u001b[0m\n",
            "\u001b[0;32m/usr/local/lib/python3.8/dist-packages/pandas/io/parsers/readers.py\u001b[0m in \u001b[0;36m_make_engine\u001b[0;34m(self, engine)\u001b[0m\n\u001b[1;32m   1038\u001b[0m             )\n\u001b[1;32m   1039\u001b[0m         \u001b[0;31m# error: Too many arguments for \"ParserBase\"\u001b[0m\u001b[0;34m\u001b[0m\u001b[0;34m\u001b[0m\u001b[0;34m\u001b[0m\u001b[0m\n\u001b[0;32m-> 1040\u001b[0;31m         \u001b[0;32mreturn\u001b[0m \u001b[0mmapping\u001b[0m\u001b[0;34m[\u001b[0m\u001b[0mengine\u001b[0m\u001b[0;34m]\u001b[0m\u001b[0;34m(\u001b[0m\u001b[0mself\u001b[0m\u001b[0;34m.\u001b[0m\u001b[0mf\u001b[0m\u001b[0;34m,\u001b[0m \u001b[0;34m**\u001b[0m\u001b[0mself\u001b[0m\u001b[0;34m.\u001b[0m\u001b[0moptions\u001b[0m\u001b[0;34m)\u001b[0m  \u001b[0;31m# type: ignore[call-arg]\u001b[0m\u001b[0;34m\u001b[0m\u001b[0;34m\u001b[0m\u001b[0m\n\u001b[0m\u001b[1;32m   1041\u001b[0m \u001b[0;34m\u001b[0m\u001b[0m\n\u001b[1;32m   1042\u001b[0m     \u001b[0;32mdef\u001b[0m \u001b[0m_failover_to_python\u001b[0m\u001b[0;34m(\u001b[0m\u001b[0mself\u001b[0m\u001b[0;34m)\u001b[0m\u001b[0;34m:\u001b[0m\u001b[0;34m\u001b[0m\u001b[0;34m\u001b[0m\u001b[0m\n",
            "\u001b[0;32m/usr/local/lib/python3.8/dist-packages/pandas/io/parsers/c_parser_wrapper.py\u001b[0m in \u001b[0;36m__init__\u001b[0;34m(self, src, **kwds)\u001b[0m\n\u001b[1;32m     49\u001b[0m \u001b[0;34m\u001b[0m\u001b[0m\n\u001b[1;32m     50\u001b[0m         \u001b[0;31m# open handles\u001b[0m\u001b[0;34m\u001b[0m\u001b[0;34m\u001b[0m\u001b[0;34m\u001b[0m\u001b[0m\n\u001b[0;32m---> 51\u001b[0;31m         \u001b[0mself\u001b[0m\u001b[0;34m.\u001b[0m\u001b[0m_open_handles\u001b[0m\u001b[0;34m(\u001b[0m\u001b[0msrc\u001b[0m\u001b[0;34m,\u001b[0m \u001b[0mkwds\u001b[0m\u001b[0;34m)\u001b[0m\u001b[0;34m\u001b[0m\u001b[0;34m\u001b[0m\u001b[0m\n\u001b[0m\u001b[1;32m     52\u001b[0m         \u001b[0;32massert\u001b[0m \u001b[0mself\u001b[0m\u001b[0;34m.\u001b[0m\u001b[0mhandles\u001b[0m \u001b[0;32mis\u001b[0m \u001b[0;32mnot\u001b[0m \u001b[0;32mNone\u001b[0m\u001b[0;34m\u001b[0m\u001b[0;34m\u001b[0m\u001b[0m\n\u001b[1;32m     53\u001b[0m \u001b[0;34m\u001b[0m\u001b[0m\n",
            "\u001b[0;32m/usr/local/lib/python3.8/dist-packages/pandas/io/parsers/base_parser.py\u001b[0m in \u001b[0;36m_open_handles\u001b[0;34m(self, src, kwds)\u001b[0m\n\u001b[1;32m    220\u001b[0m         \u001b[0mLet\u001b[0m \u001b[0mthe\u001b[0m \u001b[0mreaders\u001b[0m \u001b[0mopen\u001b[0m \u001b[0mIOHandles\u001b[0m \u001b[0mafter\u001b[0m \u001b[0mthey\u001b[0m \u001b[0mare\u001b[0m \u001b[0mdone\u001b[0m \u001b[0;32mwith\u001b[0m \u001b[0mtheir\u001b[0m \u001b[0mpotential\u001b[0m \u001b[0mraises\u001b[0m\u001b[0;34m.\u001b[0m\u001b[0;34m\u001b[0m\u001b[0;34m\u001b[0m\u001b[0m\n\u001b[1;32m    221\u001b[0m         \"\"\"\n\u001b[0;32m--> 222\u001b[0;31m         self.handles = get_handle(\n\u001b[0m\u001b[1;32m    223\u001b[0m             \u001b[0msrc\u001b[0m\u001b[0;34m,\u001b[0m\u001b[0;34m\u001b[0m\u001b[0;34m\u001b[0m\u001b[0m\n\u001b[1;32m    224\u001b[0m             \u001b[0;34m\"r\"\u001b[0m\u001b[0;34m,\u001b[0m\u001b[0;34m\u001b[0m\u001b[0;34m\u001b[0m\u001b[0m\n",
            "\u001b[0;32m/usr/local/lib/python3.8/dist-packages/pandas/io/common.py\u001b[0m in \u001b[0;36mget_handle\u001b[0;34m(path_or_buf, mode, encoding, compression, memory_map, is_text, errors, storage_options)\u001b[0m\n\u001b[1;32m    700\u001b[0m         \u001b[0;32mif\u001b[0m \u001b[0mioargs\u001b[0m\u001b[0;34m.\u001b[0m\u001b[0mencoding\u001b[0m \u001b[0;32mand\u001b[0m \u001b[0;34m\"b\"\u001b[0m \u001b[0;32mnot\u001b[0m \u001b[0;32min\u001b[0m \u001b[0mioargs\u001b[0m\u001b[0;34m.\u001b[0m\u001b[0mmode\u001b[0m\u001b[0;34m:\u001b[0m\u001b[0;34m\u001b[0m\u001b[0;34m\u001b[0m\u001b[0m\n\u001b[1;32m    701\u001b[0m             \u001b[0;31m# Encoding\u001b[0m\u001b[0;34m\u001b[0m\u001b[0;34m\u001b[0m\u001b[0;34m\u001b[0m\u001b[0m\n\u001b[0;32m--> 702\u001b[0;31m             handle = open(\n\u001b[0m\u001b[1;32m    703\u001b[0m                 \u001b[0mhandle\u001b[0m\u001b[0;34m,\u001b[0m\u001b[0;34m\u001b[0m\u001b[0;34m\u001b[0m\u001b[0m\n\u001b[1;32m    704\u001b[0m                 \u001b[0mioargs\u001b[0m\u001b[0;34m.\u001b[0m\u001b[0mmode\u001b[0m\u001b[0;34m,\u001b[0m\u001b[0;34m\u001b[0m\u001b[0;34m\u001b[0m\u001b[0m\n",
            "\u001b[0;31mFileNotFoundError\u001b[0m: [Errno 2] No such file or directory: 'dating.csv'"
          ]
        }
      ]
    },
    {
      "cell_type": "code",
      "source": [
        "df.info()"
      ],
      "metadata": {
        "colab": {
          "base_uri": "https://localhost:8080/"
        },
        "id": "nCfMO4efyZ2g",
        "outputId": "33f33503-4bbb-4c51-e763-31c4c9dc7735"
      },
      "execution_count": 10,
      "outputs": [
        {
          "output_type": "stream",
          "name": "stdout",
          "text": [
            "<class 'pandas.core.frame.DataFrame'>\n",
            "RangeIndex: 8378 entries, 0 to 8377\n",
            "Data columns (total 39 columns):\n",
            " #   Column                         Non-Null Count  Dtype  \n",
            "---  ------                         --------------  -----  \n",
            " 0   has_null                       8378 non-null   int64  \n",
            " 1   gender                         8378 non-null   object \n",
            " 2   age                            8283 non-null   float64\n",
            " 3   age_o                          8274 non-null   float64\n",
            " 4   race                           8315 non-null   object \n",
            " 5   race_o                         8305 non-null   object \n",
            " 6   importance_same_race           8299 non-null   float64\n",
            " 7   importance_same_religion       8299 non-null   float64\n",
            " 8   pref_o_attractive              8289 non-null   float64\n",
            " 9   pref_o_sincere                 8289 non-null   float64\n",
            " 10  pref_o_intelligence            8289 non-null   float64\n",
            " 11  pref_o_funny                   8280 non-null   float64\n",
            " 12  pref_o_ambitious               8271 non-null   float64\n",
            " 13  pref_o_shared_interests        8249 non-null   float64\n",
            " 14  attractive_o                   8166 non-null   float64\n",
            " 15  sincere_o                      8091 non-null   float64\n",
            " 16  intelligence_o                 8072 non-null   float64\n",
            " 17  funny_o                        8018 non-null   float64\n",
            " 18  ambitous_o                     7656 non-null   float64\n",
            " 19  shared_interests_o             7302 non-null   float64\n",
            " 20  attractive_important           8299 non-null   float64\n",
            " 21  sincere_important              8299 non-null   float64\n",
            " 22  intellicence_important         8299 non-null   float64\n",
            " 23  funny_important                8289 non-null   float64\n",
            " 24  ambtition_important            8279 non-null   float64\n",
            " 25  shared_interests_important     8257 non-null   float64\n",
            " 26  attractive_partner             8176 non-null   float64\n",
            " 27  sincere_partner                8101 non-null   float64\n",
            " 28  intelligence_partner           8082 non-null   float64\n",
            " 29  funny_partner                  8028 non-null   float64\n",
            " 30  ambition_partner               7666 non-null   float64\n",
            " 31  shared_interests_partner       7311 non-null   float64\n",
            " 32  interests_correlate            8220 non-null   float64\n",
            " 33  expected_happy_with_sd_people  8277 non-null   float64\n",
            " 34  expected_num_interested_in_me  1800 non-null   float64\n",
            " 35  like                           8138 non-null   float64\n",
            " 36  guess_prob_liked               8069 non-null   float64\n",
            " 37  met                            8003 non-null   float64\n",
            " 38  match                          8378 non-null   int64  \n",
            "dtypes: float64(34), int64(2), object(3)\n",
            "memory usage: 2.5+ MB\n"
          ]
        }
      ]
    },
    {
      "cell_type": "code",
      "source": [
        "df.describe()"
      ],
      "metadata": {
        "colab": {
          "base_uri": "https://localhost:8080/",
          "height": 394
        },
        "id": "ThP8IkjKycAw",
        "outputId": "9a6327d1-db96-4b75-ca9d-77f80697f4f6"
      },
      "execution_count": 11,
      "outputs": [
        {
          "output_type": "execute_result",
          "data": {
            "text/plain": [
              "         has_null          age        age_o  importance_same_race  \\\n",
              "count  8378.00000  8283.000000  8274.000000           8299.000000   \n",
              "mean      0.87491    26.358928    26.364999              3.784793   \n",
              "std       0.33084     3.566763     3.563648              2.845708   \n",
              "min       0.00000    18.000000    18.000000              0.000000   \n",
              "25%       1.00000    24.000000    24.000000              1.000000   \n",
              "50%       1.00000    26.000000    26.000000              3.000000   \n",
              "75%       1.00000    28.000000    28.000000              6.000000   \n",
              "max       1.00000    55.000000    55.000000             10.000000   \n",
              "\n",
              "       importance_same_religion  pref_o_attractive  pref_o_sincere  \\\n",
              "count               8299.000000        8289.000000     8289.000000   \n",
              "mean                   3.651645          22.495347       17.396867   \n",
              "std                    2.805237          12.569802        7.044003   \n",
              "min                    1.000000           0.000000        0.000000   \n",
              "25%                    1.000000          15.000000       15.000000   \n",
              "50%                    3.000000          20.000000       18.370000   \n",
              "75%                    6.000000          25.000000       20.000000   \n",
              "max                   10.000000         100.000000       60.000000   \n",
              "\n",
              "       pref_o_intelligence  pref_o_funny  pref_o_ambitious  ...  \\\n",
              "count          8289.000000   8280.000000       8271.000000  ...   \n",
              "mean             20.270759     17.459714         10.685375  ...   \n",
              "std               6.782895      6.085526          6.126544  ...   \n",
              "min               0.000000      0.000000          0.000000  ...   \n",
              "25%              17.390000     15.000000          5.000000  ...   \n",
              "50%              20.000000     18.000000         10.000000  ...   \n",
              "75%              23.810000     20.000000         15.000000  ...   \n",
              "max              50.000000     50.000000         53.000000  ...   \n",
              "\n",
              "       funny_partner  ambition_partner  shared_interests_partner  \\\n",
              "count    8028.000000       7666.000000               7311.000000   \n",
              "mean        6.400598          6.777524                  5.474559   \n",
              "std         1.953702          1.794055                  2.156363   \n",
              "min         0.000000          0.000000                  0.000000   \n",
              "25%         5.000000          6.000000                  4.000000   \n",
              "50%         7.000000          7.000000                  6.000000   \n",
              "75%         8.000000          8.000000                  7.000000   \n",
              "max        10.000000         10.000000                 10.000000   \n",
              "\n",
              "       interests_correlate  expected_happy_with_sd_people  \\\n",
              "count          8220.000000                    8277.000000   \n",
              "mean              0.196010                       5.534131   \n",
              "std               0.303539                       1.734059   \n",
              "min              -0.830000                       1.000000   \n",
              "25%              -0.020000                       5.000000   \n",
              "50%               0.210000                       6.000000   \n",
              "75%               0.430000                       7.000000   \n",
              "max               0.910000                      10.000000   \n",
              "\n",
              "       expected_num_interested_in_me         like  guess_prob_liked  \\\n",
              "count                    1800.000000  8138.000000       8069.000000   \n",
              "mean                        5.570556     6.134087          5.207523   \n",
              "std                         4.762569     1.841285          2.129565   \n",
              "min                         0.000000     0.000000          0.000000   \n",
              "25%                         2.000000     5.000000          4.000000   \n",
              "50%                         4.000000     6.000000          5.000000   \n",
              "75%                         8.000000     7.000000          7.000000   \n",
              "max                        20.000000    10.000000         10.000000   \n",
              "\n",
              "               met        match  \n",
              "count  8003.000000  8378.000000  \n",
              "mean      0.049856     0.164717  \n",
              "std       0.282168     0.370947  \n",
              "min       0.000000     0.000000  \n",
              "25%       0.000000     0.000000  \n",
              "50%       0.000000     0.000000  \n",
              "75%       0.000000     0.000000  \n",
              "max       8.000000     1.000000  \n",
              "\n",
              "[8 rows x 36 columns]"
            ],
            "text/html": [
              "\n",
              "  <div id=\"df-32b735ff-ef56-4421-842d-b72ca58d3ffe\">\n",
              "    <div class=\"colab-df-container\">\n",
              "      <div>\n",
              "<style scoped>\n",
              "    .dataframe tbody tr th:only-of-type {\n",
              "        vertical-align: middle;\n",
              "    }\n",
              "\n",
              "    .dataframe tbody tr th {\n",
              "        vertical-align: top;\n",
              "    }\n",
              "\n",
              "    .dataframe thead th {\n",
              "        text-align: right;\n",
              "    }\n",
              "</style>\n",
              "<table border=\"1\" class=\"dataframe\">\n",
              "  <thead>\n",
              "    <tr style=\"text-align: right;\">\n",
              "      <th></th>\n",
              "      <th>has_null</th>\n",
              "      <th>age</th>\n",
              "      <th>age_o</th>\n",
              "      <th>importance_same_race</th>\n",
              "      <th>importance_same_religion</th>\n",
              "      <th>pref_o_attractive</th>\n",
              "      <th>pref_o_sincere</th>\n",
              "      <th>pref_o_intelligence</th>\n",
              "      <th>pref_o_funny</th>\n",
              "      <th>pref_o_ambitious</th>\n",
              "      <th>...</th>\n",
              "      <th>funny_partner</th>\n",
              "      <th>ambition_partner</th>\n",
              "      <th>shared_interests_partner</th>\n",
              "      <th>interests_correlate</th>\n",
              "      <th>expected_happy_with_sd_people</th>\n",
              "      <th>expected_num_interested_in_me</th>\n",
              "      <th>like</th>\n",
              "      <th>guess_prob_liked</th>\n",
              "      <th>met</th>\n",
              "      <th>match</th>\n",
              "    </tr>\n",
              "  </thead>\n",
              "  <tbody>\n",
              "    <tr>\n",
              "      <th>count</th>\n",
              "      <td>8378.00000</td>\n",
              "      <td>8283.000000</td>\n",
              "      <td>8274.000000</td>\n",
              "      <td>8299.000000</td>\n",
              "      <td>8299.000000</td>\n",
              "      <td>8289.000000</td>\n",
              "      <td>8289.000000</td>\n",
              "      <td>8289.000000</td>\n",
              "      <td>8280.000000</td>\n",
              "      <td>8271.000000</td>\n",
              "      <td>...</td>\n",
              "      <td>8028.000000</td>\n",
              "      <td>7666.000000</td>\n",
              "      <td>7311.000000</td>\n",
              "      <td>8220.000000</td>\n",
              "      <td>8277.000000</td>\n",
              "      <td>1800.000000</td>\n",
              "      <td>8138.000000</td>\n",
              "      <td>8069.000000</td>\n",
              "      <td>8003.000000</td>\n",
              "      <td>8378.000000</td>\n",
              "    </tr>\n",
              "    <tr>\n",
              "      <th>mean</th>\n",
              "      <td>0.87491</td>\n",
              "      <td>26.358928</td>\n",
              "      <td>26.364999</td>\n",
              "      <td>3.784793</td>\n",
              "      <td>3.651645</td>\n",
              "      <td>22.495347</td>\n",
              "      <td>17.396867</td>\n",
              "      <td>20.270759</td>\n",
              "      <td>17.459714</td>\n",
              "      <td>10.685375</td>\n",
              "      <td>...</td>\n",
              "      <td>6.400598</td>\n",
              "      <td>6.777524</td>\n",
              "      <td>5.474559</td>\n",
              "      <td>0.196010</td>\n",
              "      <td>5.534131</td>\n",
              "      <td>5.570556</td>\n",
              "      <td>6.134087</td>\n",
              "      <td>5.207523</td>\n",
              "      <td>0.049856</td>\n",
              "      <td>0.164717</td>\n",
              "    </tr>\n",
              "    <tr>\n",
              "      <th>std</th>\n",
              "      <td>0.33084</td>\n",
              "      <td>3.566763</td>\n",
              "      <td>3.563648</td>\n",
              "      <td>2.845708</td>\n",
              "      <td>2.805237</td>\n",
              "      <td>12.569802</td>\n",
              "      <td>7.044003</td>\n",
              "      <td>6.782895</td>\n",
              "      <td>6.085526</td>\n",
              "      <td>6.126544</td>\n",
              "      <td>...</td>\n",
              "      <td>1.953702</td>\n",
              "      <td>1.794055</td>\n",
              "      <td>2.156363</td>\n",
              "      <td>0.303539</td>\n",
              "      <td>1.734059</td>\n",
              "      <td>4.762569</td>\n",
              "      <td>1.841285</td>\n",
              "      <td>2.129565</td>\n",
              "      <td>0.282168</td>\n",
              "      <td>0.370947</td>\n",
              "    </tr>\n",
              "    <tr>\n",
              "      <th>min</th>\n",
              "      <td>0.00000</td>\n",
              "      <td>18.000000</td>\n",
              "      <td>18.000000</td>\n",
              "      <td>0.000000</td>\n",
              "      <td>1.000000</td>\n",
              "      <td>0.000000</td>\n",
              "      <td>0.000000</td>\n",
              "      <td>0.000000</td>\n",
              "      <td>0.000000</td>\n",
              "      <td>0.000000</td>\n",
              "      <td>...</td>\n",
              "      <td>0.000000</td>\n",
              "      <td>0.000000</td>\n",
              "      <td>0.000000</td>\n",
              "      <td>-0.830000</td>\n",
              "      <td>1.000000</td>\n",
              "      <td>0.000000</td>\n",
              "      <td>0.000000</td>\n",
              "      <td>0.000000</td>\n",
              "      <td>0.000000</td>\n",
              "      <td>0.000000</td>\n",
              "    </tr>\n",
              "    <tr>\n",
              "      <th>25%</th>\n",
              "      <td>1.00000</td>\n",
              "      <td>24.000000</td>\n",
              "      <td>24.000000</td>\n",
              "      <td>1.000000</td>\n",
              "      <td>1.000000</td>\n",
              "      <td>15.000000</td>\n",
              "      <td>15.000000</td>\n",
              "      <td>17.390000</td>\n",
              "      <td>15.000000</td>\n",
              "      <td>5.000000</td>\n",
              "      <td>...</td>\n",
              "      <td>5.000000</td>\n",
              "      <td>6.000000</td>\n",
              "      <td>4.000000</td>\n",
              "      <td>-0.020000</td>\n",
              "      <td>5.000000</td>\n",
              "      <td>2.000000</td>\n",
              "      <td>5.000000</td>\n",
              "      <td>4.000000</td>\n",
              "      <td>0.000000</td>\n",
              "      <td>0.000000</td>\n",
              "    </tr>\n",
              "    <tr>\n",
              "      <th>50%</th>\n",
              "      <td>1.00000</td>\n",
              "      <td>26.000000</td>\n",
              "      <td>26.000000</td>\n",
              "      <td>3.000000</td>\n",
              "      <td>3.000000</td>\n",
              "      <td>20.000000</td>\n",
              "      <td>18.370000</td>\n",
              "      <td>20.000000</td>\n",
              "      <td>18.000000</td>\n",
              "      <td>10.000000</td>\n",
              "      <td>...</td>\n",
              "      <td>7.000000</td>\n",
              "      <td>7.000000</td>\n",
              "      <td>6.000000</td>\n",
              "      <td>0.210000</td>\n",
              "      <td>6.000000</td>\n",
              "      <td>4.000000</td>\n",
              "      <td>6.000000</td>\n",
              "      <td>5.000000</td>\n",
              "      <td>0.000000</td>\n",
              "      <td>0.000000</td>\n",
              "    </tr>\n",
              "    <tr>\n",
              "      <th>75%</th>\n",
              "      <td>1.00000</td>\n",
              "      <td>28.000000</td>\n",
              "      <td>28.000000</td>\n",
              "      <td>6.000000</td>\n",
              "      <td>6.000000</td>\n",
              "      <td>25.000000</td>\n",
              "      <td>20.000000</td>\n",
              "      <td>23.810000</td>\n",
              "      <td>20.000000</td>\n",
              "      <td>15.000000</td>\n",
              "      <td>...</td>\n",
              "      <td>8.000000</td>\n",
              "      <td>8.000000</td>\n",
              "      <td>7.000000</td>\n",
              "      <td>0.430000</td>\n",
              "      <td>7.000000</td>\n",
              "      <td>8.000000</td>\n",
              "      <td>7.000000</td>\n",
              "      <td>7.000000</td>\n",
              "      <td>0.000000</td>\n",
              "      <td>0.000000</td>\n",
              "    </tr>\n",
              "    <tr>\n",
              "      <th>max</th>\n",
              "      <td>1.00000</td>\n",
              "      <td>55.000000</td>\n",
              "      <td>55.000000</td>\n",
              "      <td>10.000000</td>\n",
              "      <td>10.000000</td>\n",
              "      <td>100.000000</td>\n",
              "      <td>60.000000</td>\n",
              "      <td>50.000000</td>\n",
              "      <td>50.000000</td>\n",
              "      <td>53.000000</td>\n",
              "      <td>...</td>\n",
              "      <td>10.000000</td>\n",
              "      <td>10.000000</td>\n",
              "      <td>10.000000</td>\n",
              "      <td>0.910000</td>\n",
              "      <td>10.000000</td>\n",
              "      <td>20.000000</td>\n",
              "      <td>10.000000</td>\n",
              "      <td>10.000000</td>\n",
              "      <td>8.000000</td>\n",
              "      <td>1.000000</td>\n",
              "    </tr>\n",
              "  </tbody>\n",
              "</table>\n",
              "<p>8 rows × 36 columns</p>\n",
              "</div>\n",
              "      <button class=\"colab-df-convert\" onclick=\"convertToInteractive('df-32b735ff-ef56-4421-842d-b72ca58d3ffe')\"\n",
              "              title=\"Convert this dataframe to an interactive table.\"\n",
              "              style=\"display:none;\">\n",
              "        \n",
              "  <svg xmlns=\"http://www.w3.org/2000/svg\" height=\"24px\"viewBox=\"0 0 24 24\"\n",
              "       width=\"24px\">\n",
              "    <path d=\"M0 0h24v24H0V0z\" fill=\"none\"/>\n",
              "    <path d=\"M18.56 5.44l.94 2.06.94-2.06 2.06-.94-2.06-.94-.94-2.06-.94 2.06-2.06.94zm-11 1L8.5 8.5l.94-2.06 2.06-.94-2.06-.94L8.5 2.5l-.94 2.06-2.06.94zm10 10l.94 2.06.94-2.06 2.06-.94-2.06-.94-.94-2.06-.94 2.06-2.06.94z\"/><path d=\"M17.41 7.96l-1.37-1.37c-.4-.4-.92-.59-1.43-.59-.52 0-1.04.2-1.43.59L10.3 9.45l-7.72 7.72c-.78.78-.78 2.05 0 2.83L4 21.41c.39.39.9.59 1.41.59.51 0 1.02-.2 1.41-.59l7.78-7.78 2.81-2.81c.8-.78.8-2.07 0-2.86zM5.41 20L4 18.59l7.72-7.72 1.47 1.35L5.41 20z\"/>\n",
              "  </svg>\n",
              "      </button>\n",
              "      \n",
              "  <style>\n",
              "    .colab-df-container {\n",
              "      display:flex;\n",
              "      flex-wrap:wrap;\n",
              "      gap: 12px;\n",
              "    }\n",
              "\n",
              "    .colab-df-convert {\n",
              "      background-color: #E8F0FE;\n",
              "      border: none;\n",
              "      border-radius: 50%;\n",
              "      cursor: pointer;\n",
              "      display: none;\n",
              "      fill: #1967D2;\n",
              "      height: 32px;\n",
              "      padding: 0 0 0 0;\n",
              "      width: 32px;\n",
              "    }\n",
              "\n",
              "    .colab-df-convert:hover {\n",
              "      background-color: #E2EBFA;\n",
              "      box-shadow: 0px 1px 2px rgba(60, 64, 67, 0.3), 0px 1px 3px 1px rgba(60, 64, 67, 0.15);\n",
              "      fill: #174EA6;\n",
              "    }\n",
              "\n",
              "    [theme=dark] .colab-df-convert {\n",
              "      background-color: #3B4455;\n",
              "      fill: #D2E3FC;\n",
              "    }\n",
              "\n",
              "    [theme=dark] .colab-df-convert:hover {\n",
              "      background-color: #434B5C;\n",
              "      box-shadow: 0px 1px 3px 1px rgba(0, 0, 0, 0.15);\n",
              "      filter: drop-shadow(0px 1px 2px rgba(0, 0, 0, 0.3));\n",
              "      fill: #FFFFFF;\n",
              "    }\n",
              "  </style>\n",
              "\n",
              "      <script>\n",
              "        const buttonEl =\n",
              "          document.querySelector('#df-32b735ff-ef56-4421-842d-b72ca58d3ffe button.colab-df-convert');\n",
              "        buttonEl.style.display =\n",
              "          google.colab.kernel.accessAllowed ? 'block' : 'none';\n",
              "\n",
              "        async function convertToInteractive(key) {\n",
              "          const element = document.querySelector('#df-32b735ff-ef56-4421-842d-b72ca58d3ffe');\n",
              "          const dataTable =\n",
              "            await google.colab.kernel.invokeFunction('convertToInteractive',\n",
              "                                                     [key], {});\n",
              "          if (!dataTable) return;\n",
              "\n",
              "          const docLinkHtml = 'Like what you see? Visit the ' +\n",
              "            '<a target=\"_blank\" href=https://colab.research.google.com/notebooks/data_table.ipynb>data table notebook</a>'\n",
              "            + ' to learn more about interactive tables.';\n",
              "          element.innerHTML = '';\n",
              "          dataTable['output_type'] = 'display_data';\n",
              "          await google.colab.output.renderOutput(dataTable, element);\n",
              "          const docLink = document.createElement('div');\n",
              "          docLink.innerHTML = docLinkHtml;\n",
              "          element.appendChild(docLink);\n",
              "        }\n",
              "      </script>\n",
              "    </div>\n",
              "  </div>\n",
              "  "
            ]
          },
          "metadata": {},
          "execution_count": 11
        }
      ]
    },
    {
      "cell_type": "code",
      "source": [
        "# 종속변수 y 는 match(성사 여부)\n",
        "# 독립변수 X 는 match외 필요한 피쳐 전부"
      ],
      "metadata": {
        "id": "Kq0tHFZtzA-F"
      },
      "execution_count": 12,
      "outputs": []
    },
    {
      "cell_type": "code",
      "source": [
        "# 소숫점 축약\n",
        "pd.options.display.float_format = \"{:.2f}\".format"
      ],
      "metadata": {
        "id": "XykrkbFizz0a"
      },
      "execution_count": 13,
      "outputs": []
    },
    {
      "cell_type": "code",
      "source": [
        "df.describe()"
      ],
      "metadata": {
        "colab": {
          "base_uri": "https://localhost:8080/",
          "height": 394
        },
        "id": "t-uK_jKE0Q3i",
        "outputId": "f81b68e5-d243-4e21-9b87-dce6c4de3e1c"
      },
      "execution_count": 14,
      "outputs": [
        {
          "output_type": "execute_result",
          "data": {
            "text/plain": [
              "       has_null     age   age_o  importance_same_race  \\\n",
              "count   8378.00 8283.00 8274.00               8299.00   \n",
              "mean       0.87   26.36   26.36                  3.78   \n",
              "std        0.33    3.57    3.56                  2.85   \n",
              "min        0.00   18.00   18.00                  0.00   \n",
              "25%        1.00   24.00   24.00                  1.00   \n",
              "50%        1.00   26.00   26.00                  3.00   \n",
              "75%        1.00   28.00   28.00                  6.00   \n",
              "max        1.00   55.00   55.00                 10.00   \n",
              "\n",
              "       importance_same_religion  pref_o_attractive  pref_o_sincere  \\\n",
              "count                   8299.00            8289.00         8289.00   \n",
              "mean                       3.65              22.50           17.40   \n",
              "std                        2.81              12.57            7.04   \n",
              "min                        1.00               0.00            0.00   \n",
              "25%                        1.00              15.00           15.00   \n",
              "50%                        3.00              20.00           18.37   \n",
              "75%                        6.00              25.00           20.00   \n",
              "max                       10.00             100.00           60.00   \n",
              "\n",
              "       pref_o_intelligence  pref_o_funny  pref_o_ambitious  ...  \\\n",
              "count              8289.00       8280.00           8271.00  ...   \n",
              "mean                 20.27         17.46             10.69  ...   \n",
              "std                   6.78          6.09              6.13  ...   \n",
              "min                   0.00          0.00              0.00  ...   \n",
              "25%                  17.39         15.00              5.00  ...   \n",
              "50%                  20.00         18.00             10.00  ...   \n",
              "75%                  23.81         20.00             15.00  ...   \n",
              "max                  50.00         50.00             53.00  ...   \n",
              "\n",
              "       funny_partner  ambition_partner  shared_interests_partner  \\\n",
              "count        8028.00           7666.00                   7311.00   \n",
              "mean            6.40              6.78                      5.47   \n",
              "std             1.95              1.79                      2.16   \n",
              "min             0.00              0.00                      0.00   \n",
              "25%             5.00              6.00                      4.00   \n",
              "50%             7.00              7.00                      6.00   \n",
              "75%             8.00              8.00                      7.00   \n",
              "max            10.00             10.00                     10.00   \n",
              "\n",
              "       interests_correlate  expected_happy_with_sd_people  \\\n",
              "count              8220.00                        8277.00   \n",
              "mean                  0.20                           5.53   \n",
              "std                   0.30                           1.73   \n",
              "min                  -0.83                           1.00   \n",
              "25%                  -0.02                           5.00   \n",
              "50%                   0.21                           6.00   \n",
              "75%                   0.43                           7.00   \n",
              "max                   0.91                          10.00   \n",
              "\n",
              "       expected_num_interested_in_me    like  guess_prob_liked     met   match  \n",
              "count                        1800.00 8138.00           8069.00 8003.00 8378.00  \n",
              "mean                            5.57    6.13              5.21    0.05    0.16  \n",
              "std                             4.76    1.84              2.13    0.28    0.37  \n",
              "min                             0.00    0.00              0.00    0.00    0.00  \n",
              "25%                             2.00    5.00              4.00    0.00    0.00  \n",
              "50%                             4.00    6.00              5.00    0.00    0.00  \n",
              "75%                             8.00    7.00              7.00    0.00    0.00  \n",
              "max                            20.00   10.00             10.00    8.00    1.00  \n",
              "\n",
              "[8 rows x 36 columns]"
            ],
            "text/html": [
              "\n",
              "  <div id=\"df-7ad4f538-b701-4cf7-ae32-6dc75f75bf5d\">\n",
              "    <div class=\"colab-df-container\">\n",
              "      <div>\n",
              "<style scoped>\n",
              "    .dataframe tbody tr th:only-of-type {\n",
              "        vertical-align: middle;\n",
              "    }\n",
              "\n",
              "    .dataframe tbody tr th {\n",
              "        vertical-align: top;\n",
              "    }\n",
              "\n",
              "    .dataframe thead th {\n",
              "        text-align: right;\n",
              "    }\n",
              "</style>\n",
              "<table border=\"1\" class=\"dataframe\">\n",
              "  <thead>\n",
              "    <tr style=\"text-align: right;\">\n",
              "      <th></th>\n",
              "      <th>has_null</th>\n",
              "      <th>age</th>\n",
              "      <th>age_o</th>\n",
              "      <th>importance_same_race</th>\n",
              "      <th>importance_same_religion</th>\n",
              "      <th>pref_o_attractive</th>\n",
              "      <th>pref_o_sincere</th>\n",
              "      <th>pref_o_intelligence</th>\n",
              "      <th>pref_o_funny</th>\n",
              "      <th>pref_o_ambitious</th>\n",
              "      <th>...</th>\n",
              "      <th>funny_partner</th>\n",
              "      <th>ambition_partner</th>\n",
              "      <th>shared_interests_partner</th>\n",
              "      <th>interests_correlate</th>\n",
              "      <th>expected_happy_with_sd_people</th>\n",
              "      <th>expected_num_interested_in_me</th>\n",
              "      <th>like</th>\n",
              "      <th>guess_prob_liked</th>\n",
              "      <th>met</th>\n",
              "      <th>match</th>\n",
              "    </tr>\n",
              "  </thead>\n",
              "  <tbody>\n",
              "    <tr>\n",
              "      <th>count</th>\n",
              "      <td>8378.00</td>\n",
              "      <td>8283.00</td>\n",
              "      <td>8274.00</td>\n",
              "      <td>8299.00</td>\n",
              "      <td>8299.00</td>\n",
              "      <td>8289.00</td>\n",
              "      <td>8289.00</td>\n",
              "      <td>8289.00</td>\n",
              "      <td>8280.00</td>\n",
              "      <td>8271.00</td>\n",
              "      <td>...</td>\n",
              "      <td>8028.00</td>\n",
              "      <td>7666.00</td>\n",
              "      <td>7311.00</td>\n",
              "      <td>8220.00</td>\n",
              "      <td>8277.00</td>\n",
              "      <td>1800.00</td>\n",
              "      <td>8138.00</td>\n",
              "      <td>8069.00</td>\n",
              "      <td>8003.00</td>\n",
              "      <td>8378.00</td>\n",
              "    </tr>\n",
              "    <tr>\n",
              "      <th>mean</th>\n",
              "      <td>0.87</td>\n",
              "      <td>26.36</td>\n",
              "      <td>26.36</td>\n",
              "      <td>3.78</td>\n",
              "      <td>3.65</td>\n",
              "      <td>22.50</td>\n",
              "      <td>17.40</td>\n",
              "      <td>20.27</td>\n",
              "      <td>17.46</td>\n",
              "      <td>10.69</td>\n",
              "      <td>...</td>\n",
              "      <td>6.40</td>\n",
              "      <td>6.78</td>\n",
              "      <td>5.47</td>\n",
              "      <td>0.20</td>\n",
              "      <td>5.53</td>\n",
              "      <td>5.57</td>\n",
              "      <td>6.13</td>\n",
              "      <td>5.21</td>\n",
              "      <td>0.05</td>\n",
              "      <td>0.16</td>\n",
              "    </tr>\n",
              "    <tr>\n",
              "      <th>std</th>\n",
              "      <td>0.33</td>\n",
              "      <td>3.57</td>\n",
              "      <td>3.56</td>\n",
              "      <td>2.85</td>\n",
              "      <td>2.81</td>\n",
              "      <td>12.57</td>\n",
              "      <td>7.04</td>\n",
              "      <td>6.78</td>\n",
              "      <td>6.09</td>\n",
              "      <td>6.13</td>\n",
              "      <td>...</td>\n",
              "      <td>1.95</td>\n",
              "      <td>1.79</td>\n",
              "      <td>2.16</td>\n",
              "      <td>0.30</td>\n",
              "      <td>1.73</td>\n",
              "      <td>4.76</td>\n",
              "      <td>1.84</td>\n",
              "      <td>2.13</td>\n",
              "      <td>0.28</td>\n",
              "      <td>0.37</td>\n",
              "    </tr>\n",
              "    <tr>\n",
              "      <th>min</th>\n",
              "      <td>0.00</td>\n",
              "      <td>18.00</td>\n",
              "      <td>18.00</td>\n",
              "      <td>0.00</td>\n",
              "      <td>1.00</td>\n",
              "      <td>0.00</td>\n",
              "      <td>0.00</td>\n",
              "      <td>0.00</td>\n",
              "      <td>0.00</td>\n",
              "      <td>0.00</td>\n",
              "      <td>...</td>\n",
              "      <td>0.00</td>\n",
              "      <td>0.00</td>\n",
              "      <td>0.00</td>\n",
              "      <td>-0.83</td>\n",
              "      <td>1.00</td>\n",
              "      <td>0.00</td>\n",
              "      <td>0.00</td>\n",
              "      <td>0.00</td>\n",
              "      <td>0.00</td>\n",
              "      <td>0.00</td>\n",
              "    </tr>\n",
              "    <tr>\n",
              "      <th>25%</th>\n",
              "      <td>1.00</td>\n",
              "      <td>24.00</td>\n",
              "      <td>24.00</td>\n",
              "      <td>1.00</td>\n",
              "      <td>1.00</td>\n",
              "      <td>15.00</td>\n",
              "      <td>15.00</td>\n",
              "      <td>17.39</td>\n",
              "      <td>15.00</td>\n",
              "      <td>5.00</td>\n",
              "      <td>...</td>\n",
              "      <td>5.00</td>\n",
              "      <td>6.00</td>\n",
              "      <td>4.00</td>\n",
              "      <td>-0.02</td>\n",
              "      <td>5.00</td>\n",
              "      <td>2.00</td>\n",
              "      <td>5.00</td>\n",
              "      <td>4.00</td>\n",
              "      <td>0.00</td>\n",
              "      <td>0.00</td>\n",
              "    </tr>\n",
              "    <tr>\n",
              "      <th>50%</th>\n",
              "      <td>1.00</td>\n",
              "      <td>26.00</td>\n",
              "      <td>26.00</td>\n",
              "      <td>3.00</td>\n",
              "      <td>3.00</td>\n",
              "      <td>20.00</td>\n",
              "      <td>18.37</td>\n",
              "      <td>20.00</td>\n",
              "      <td>18.00</td>\n",
              "      <td>10.00</td>\n",
              "      <td>...</td>\n",
              "      <td>7.00</td>\n",
              "      <td>7.00</td>\n",
              "      <td>6.00</td>\n",
              "      <td>0.21</td>\n",
              "      <td>6.00</td>\n",
              "      <td>4.00</td>\n",
              "      <td>6.00</td>\n",
              "      <td>5.00</td>\n",
              "      <td>0.00</td>\n",
              "      <td>0.00</td>\n",
              "    </tr>\n",
              "    <tr>\n",
              "      <th>75%</th>\n",
              "      <td>1.00</td>\n",
              "      <td>28.00</td>\n",
              "      <td>28.00</td>\n",
              "      <td>6.00</td>\n",
              "      <td>6.00</td>\n",
              "      <td>25.00</td>\n",
              "      <td>20.00</td>\n",
              "      <td>23.81</td>\n",
              "      <td>20.00</td>\n",
              "      <td>15.00</td>\n",
              "      <td>...</td>\n",
              "      <td>8.00</td>\n",
              "      <td>8.00</td>\n",
              "      <td>7.00</td>\n",
              "      <td>0.43</td>\n",
              "      <td>7.00</td>\n",
              "      <td>8.00</td>\n",
              "      <td>7.00</td>\n",
              "      <td>7.00</td>\n",
              "      <td>0.00</td>\n",
              "      <td>0.00</td>\n",
              "    </tr>\n",
              "    <tr>\n",
              "      <th>max</th>\n",
              "      <td>1.00</td>\n",
              "      <td>55.00</td>\n",
              "      <td>55.00</td>\n",
              "      <td>10.00</td>\n",
              "      <td>10.00</td>\n",
              "      <td>100.00</td>\n",
              "      <td>60.00</td>\n",
              "      <td>50.00</td>\n",
              "      <td>50.00</td>\n",
              "      <td>53.00</td>\n",
              "      <td>...</td>\n",
              "      <td>10.00</td>\n",
              "      <td>10.00</td>\n",
              "      <td>10.00</td>\n",
              "      <td>0.91</td>\n",
              "      <td>10.00</td>\n",
              "      <td>20.00</td>\n",
              "      <td>10.00</td>\n",
              "      <td>10.00</td>\n",
              "      <td>8.00</td>\n",
              "      <td>1.00</td>\n",
              "    </tr>\n",
              "  </tbody>\n",
              "</table>\n",
              "<p>8 rows × 36 columns</p>\n",
              "</div>\n",
              "      <button class=\"colab-df-convert\" onclick=\"convertToInteractive('df-7ad4f538-b701-4cf7-ae32-6dc75f75bf5d')\"\n",
              "              title=\"Convert this dataframe to an interactive table.\"\n",
              "              style=\"display:none;\">\n",
              "        \n",
              "  <svg xmlns=\"http://www.w3.org/2000/svg\" height=\"24px\"viewBox=\"0 0 24 24\"\n",
              "       width=\"24px\">\n",
              "    <path d=\"M0 0h24v24H0V0z\" fill=\"none\"/>\n",
              "    <path d=\"M18.56 5.44l.94 2.06.94-2.06 2.06-.94-2.06-.94-.94-2.06-.94 2.06-2.06.94zm-11 1L8.5 8.5l.94-2.06 2.06-.94-2.06-.94L8.5 2.5l-.94 2.06-2.06.94zm10 10l.94 2.06.94-2.06 2.06-.94-2.06-.94-.94-2.06-.94 2.06-2.06.94z\"/><path d=\"M17.41 7.96l-1.37-1.37c-.4-.4-.92-.59-1.43-.59-.52 0-1.04.2-1.43.59L10.3 9.45l-7.72 7.72c-.78.78-.78 2.05 0 2.83L4 21.41c.39.39.9.59 1.41.59.51 0 1.02-.2 1.41-.59l7.78-7.78 2.81-2.81c.8-.78.8-2.07 0-2.86zM5.41 20L4 18.59l7.72-7.72 1.47 1.35L5.41 20z\"/>\n",
              "  </svg>\n",
              "      </button>\n",
              "      \n",
              "  <style>\n",
              "    .colab-df-container {\n",
              "      display:flex;\n",
              "      flex-wrap:wrap;\n",
              "      gap: 12px;\n",
              "    }\n",
              "\n",
              "    .colab-df-convert {\n",
              "      background-color: #E8F0FE;\n",
              "      border: none;\n",
              "      border-radius: 50%;\n",
              "      cursor: pointer;\n",
              "      display: none;\n",
              "      fill: #1967D2;\n",
              "      height: 32px;\n",
              "      padding: 0 0 0 0;\n",
              "      width: 32px;\n",
              "    }\n",
              "\n",
              "    .colab-df-convert:hover {\n",
              "      background-color: #E2EBFA;\n",
              "      box-shadow: 0px 1px 2px rgba(60, 64, 67, 0.3), 0px 1px 3px 1px rgba(60, 64, 67, 0.15);\n",
              "      fill: #174EA6;\n",
              "    }\n",
              "\n",
              "    [theme=dark] .colab-df-convert {\n",
              "      background-color: #3B4455;\n",
              "      fill: #D2E3FC;\n",
              "    }\n",
              "\n",
              "    [theme=dark] .colab-df-convert:hover {\n",
              "      background-color: #434B5C;\n",
              "      box-shadow: 0px 1px 3px 1px rgba(0, 0, 0, 0.15);\n",
              "      filter: drop-shadow(0px 1px 2px rgba(0, 0, 0, 0.3));\n",
              "      fill: #FFFFFF;\n",
              "    }\n",
              "  </style>\n",
              "\n",
              "      <script>\n",
              "        const buttonEl =\n",
              "          document.querySelector('#df-7ad4f538-b701-4cf7-ae32-6dc75f75bf5d button.colab-df-convert');\n",
              "        buttonEl.style.display =\n",
              "          google.colab.kernel.accessAllowed ? 'block' : 'none';\n",
              "\n",
              "        async function convertToInteractive(key) {\n",
              "          const element = document.querySelector('#df-7ad4f538-b701-4cf7-ae32-6dc75f75bf5d');\n",
              "          const dataTable =\n",
              "            await google.colab.kernel.invokeFunction('convertToInteractive',\n",
              "                                                     [key], {});\n",
              "          if (!dataTable) return;\n",
              "\n",
              "          const docLinkHtml = 'Like what you see? Visit the ' +\n",
              "            '<a target=\"_blank\" href=https://colab.research.google.com/notebooks/data_table.ipynb>data table notebook</a>'\n",
              "            + ' to learn more about interactive tables.';\n",
              "          element.innerHTML = '';\n",
              "          dataTable['output_type'] = 'display_data';\n",
              "          await google.colab.output.renderOutput(dataTable, element);\n",
              "          const docLink = document.createElement('div');\n",
              "          docLink.innerHTML = docLinkHtml;\n",
              "          element.appendChild(docLink);\n",
              "        }\n",
              "      </script>\n",
              "    </div>\n",
              "  </div>\n",
              "  "
            ]
          },
          "metadata": {},
          "execution_count": 14
        }
      ]
    },
    {
      "cell_type": "code",
      "source": [
        "df.describe(include='O')"
      ],
      "metadata": {
        "colab": {
          "base_uri": "https://localhost:8080/",
          "height": 175
        },
        "id": "Sd5Sj7oh0TdT",
        "outputId": "e324e76e-5b00-473d-a081-5da34fb3ca92"
      },
      "execution_count": 15,
      "outputs": [
        {
          "output_type": "execute_result",
          "data": {
            "text/plain": [
              "       gender                         race                       race_o\n",
              "count    8378                         8315                         8305\n",
              "unique      2                            5                            5\n",
              "top      male  European/Caucasian-American  European/Caucasian-American\n",
              "freq     4194                         4727                         4722"
            ],
            "text/html": [
              "\n",
              "  <div id=\"df-ed441b73-621f-4ae1-b4ae-1487d1472906\">\n",
              "    <div class=\"colab-df-container\">\n",
              "      <div>\n",
              "<style scoped>\n",
              "    .dataframe tbody tr th:only-of-type {\n",
              "        vertical-align: middle;\n",
              "    }\n",
              "\n",
              "    .dataframe tbody tr th {\n",
              "        vertical-align: top;\n",
              "    }\n",
              "\n",
              "    .dataframe thead th {\n",
              "        text-align: right;\n",
              "    }\n",
              "</style>\n",
              "<table border=\"1\" class=\"dataframe\">\n",
              "  <thead>\n",
              "    <tr style=\"text-align: right;\">\n",
              "      <th></th>\n",
              "      <th>gender</th>\n",
              "      <th>race</th>\n",
              "      <th>race_o</th>\n",
              "    </tr>\n",
              "  </thead>\n",
              "  <tbody>\n",
              "    <tr>\n",
              "      <th>count</th>\n",
              "      <td>8378</td>\n",
              "      <td>8315</td>\n",
              "      <td>8305</td>\n",
              "    </tr>\n",
              "    <tr>\n",
              "      <th>unique</th>\n",
              "      <td>2</td>\n",
              "      <td>5</td>\n",
              "      <td>5</td>\n",
              "    </tr>\n",
              "    <tr>\n",
              "      <th>top</th>\n",
              "      <td>male</td>\n",
              "      <td>European/Caucasian-American</td>\n",
              "      <td>European/Caucasian-American</td>\n",
              "    </tr>\n",
              "    <tr>\n",
              "      <th>freq</th>\n",
              "      <td>4194</td>\n",
              "      <td>4727</td>\n",
              "      <td>4722</td>\n",
              "    </tr>\n",
              "  </tbody>\n",
              "</table>\n",
              "</div>\n",
              "      <button class=\"colab-df-convert\" onclick=\"convertToInteractive('df-ed441b73-621f-4ae1-b4ae-1487d1472906')\"\n",
              "              title=\"Convert this dataframe to an interactive table.\"\n",
              "              style=\"display:none;\">\n",
              "        \n",
              "  <svg xmlns=\"http://www.w3.org/2000/svg\" height=\"24px\"viewBox=\"0 0 24 24\"\n",
              "       width=\"24px\">\n",
              "    <path d=\"M0 0h24v24H0V0z\" fill=\"none\"/>\n",
              "    <path d=\"M18.56 5.44l.94 2.06.94-2.06 2.06-.94-2.06-.94-.94-2.06-.94 2.06-2.06.94zm-11 1L8.5 8.5l.94-2.06 2.06-.94-2.06-.94L8.5 2.5l-.94 2.06-2.06.94zm10 10l.94 2.06.94-2.06 2.06-.94-2.06-.94-.94-2.06-.94 2.06-2.06.94z\"/><path d=\"M17.41 7.96l-1.37-1.37c-.4-.4-.92-.59-1.43-.59-.52 0-1.04.2-1.43.59L10.3 9.45l-7.72 7.72c-.78.78-.78 2.05 0 2.83L4 21.41c.39.39.9.59 1.41.59.51 0 1.02-.2 1.41-.59l7.78-7.78 2.81-2.81c.8-.78.8-2.07 0-2.86zM5.41 20L4 18.59l7.72-7.72 1.47 1.35L5.41 20z\"/>\n",
              "  </svg>\n",
              "      </button>\n",
              "      \n",
              "  <style>\n",
              "    .colab-df-container {\n",
              "      display:flex;\n",
              "      flex-wrap:wrap;\n",
              "      gap: 12px;\n",
              "    }\n",
              "\n",
              "    .colab-df-convert {\n",
              "      background-color: #E8F0FE;\n",
              "      border: none;\n",
              "      border-radius: 50%;\n",
              "      cursor: pointer;\n",
              "      display: none;\n",
              "      fill: #1967D2;\n",
              "      height: 32px;\n",
              "      padding: 0 0 0 0;\n",
              "      width: 32px;\n",
              "    }\n",
              "\n",
              "    .colab-df-convert:hover {\n",
              "      background-color: #E2EBFA;\n",
              "      box-shadow: 0px 1px 2px rgba(60, 64, 67, 0.3), 0px 1px 3px 1px rgba(60, 64, 67, 0.15);\n",
              "      fill: #174EA6;\n",
              "    }\n",
              "\n",
              "    [theme=dark] .colab-df-convert {\n",
              "      background-color: #3B4455;\n",
              "      fill: #D2E3FC;\n",
              "    }\n",
              "\n",
              "    [theme=dark] .colab-df-convert:hover {\n",
              "      background-color: #434B5C;\n",
              "      box-shadow: 0px 1px 3px 1px rgba(0, 0, 0, 0.15);\n",
              "      filter: drop-shadow(0px 1px 2px rgba(0, 0, 0, 0.3));\n",
              "      fill: #FFFFFF;\n",
              "    }\n",
              "  </style>\n",
              "\n",
              "      <script>\n",
              "        const buttonEl =\n",
              "          document.querySelector('#df-ed441b73-621f-4ae1-b4ae-1487d1472906 button.colab-df-convert');\n",
              "        buttonEl.style.display =\n",
              "          google.colab.kernel.accessAllowed ? 'block' : 'none';\n",
              "\n",
              "        async function convertToInteractive(key) {\n",
              "          const element = document.querySelector('#df-ed441b73-621f-4ae1-b4ae-1487d1472906');\n",
              "          const dataTable =\n",
              "            await google.colab.kernel.invokeFunction('convertToInteractive',\n",
              "                                                     [key], {});\n",
              "          if (!dataTable) return;\n",
              "\n",
              "          const docLinkHtml = 'Like what you see? Visit the ' +\n",
              "            '<a target=\"_blank\" href=https://colab.research.google.com/notebooks/data_table.ipynb>data table notebook</a>'\n",
              "            + ' to learn more about interactive tables.';\n",
              "          element.innerHTML = '';\n",
              "          dataTable['output_type'] = 'display_data';\n",
              "          await google.colab.output.renderOutput(dataTable, element);\n",
              "          const docLink = document.createElement('div');\n",
              "          docLink.innerHTML = docLinkHtml;\n",
              "          element.appendChild(docLink);\n",
              "        }\n",
              "      </script>\n",
              "    </div>\n",
              "  </div>\n",
              "  "
            ]
          },
          "metadata": {},
          "execution_count": 15
        }
      ]
    },
    {
      "cell_type": "markdown",
      "source": [
        "# 📊 데이터 전처리 시작"
      ],
      "metadata": {
        "id": "tftzIwHr0oYC"
      }
    },
    {
      "cell_type": "markdown",
      "source": [
        "## 🔐 결측치부터 확인 시작"
      ],
      "metadata": {
        "id": "3mInTTUP1JYd"
      }
    },
    {
      "cell_type": "code",
      "source": [
        "df.isnull().mean()"
      ],
      "metadata": {
        "colab": {
          "base_uri": "https://localhost:8080/"
        },
        "id": "AdVWBJLH0uiO",
        "outputId": "cf1f0f87-b663-4e83-f1b2-c6dbaaa612ad"
      },
      "execution_count": 16,
      "outputs": [
        {
          "output_type": "execute_result",
          "data": {
            "text/plain": [
              "has_null                        0.00\n",
              "gender                          0.00\n",
              "age                             0.01\n",
              "age_o                           0.01\n",
              "race                            0.01\n",
              "race_o                          0.01\n",
              "importance_same_race            0.01\n",
              "importance_same_religion        0.01\n",
              "pref_o_attractive               0.01\n",
              "pref_o_sincere                  0.01\n",
              "pref_o_intelligence             0.01\n",
              "pref_o_funny                    0.01\n",
              "pref_o_ambitious                0.01\n",
              "pref_o_shared_interests         0.02\n",
              "attractive_o                    0.03\n",
              "sincere_o                       0.03\n",
              "intelligence_o                  0.04\n",
              "funny_o                         0.04\n",
              "ambitous_o                      0.09\n",
              "shared_interests_o              0.13\n",
              "attractive_important            0.01\n",
              "sincere_important               0.01\n",
              "intellicence_important          0.01\n",
              "funny_important                 0.01\n",
              "ambtition_important             0.01\n",
              "shared_interests_important      0.01\n",
              "attractive_partner              0.02\n",
              "sincere_partner                 0.03\n",
              "intelligence_partner            0.04\n",
              "funny_partner                   0.04\n",
              "ambition_partner                0.08\n",
              "shared_interests_partner        0.13\n",
              "interests_correlate             0.02\n",
              "expected_happy_with_sd_people   0.01\n",
              "expected_num_interested_in_me   0.79\n",
              "like                            0.03\n",
              "guess_prob_liked                0.04\n",
              "met                             0.04\n",
              "match                           0.00\n",
              "dtype: float64"
            ]
          },
          "metadata": {},
          "execution_count": 16
        }
      ]
    },
    {
      "cell_type": "code",
      "source": [
        "df.isnull().mean().sort_values(ascending = False) # 내림차순 정렬"
      ],
      "metadata": {
        "colab": {
          "base_uri": "https://localhost:8080/"
        },
        "id": "C8vJxjIK0-vb",
        "outputId": "9013e300-4ab8-42a7-b4dc-202cc1494a07"
      },
      "execution_count": 17,
      "outputs": [
        {
          "output_type": "execute_result",
          "data": {
            "text/plain": [
              "expected_num_interested_in_me   0.79\n",
              "shared_interests_o              0.13\n",
              "shared_interests_partner        0.13\n",
              "ambitous_o                      0.09\n",
              "ambition_partner                0.08\n",
              "met                             0.04\n",
              "funny_o                         0.04\n",
              "funny_partner                   0.04\n",
              "guess_prob_liked                0.04\n",
              "intelligence_o                  0.04\n",
              "intelligence_partner            0.04\n",
              "sincere_o                       0.03\n",
              "sincere_partner                 0.03\n",
              "like                            0.03\n",
              "attractive_o                    0.03\n",
              "attractive_partner              0.02\n",
              "interests_correlate             0.02\n",
              "pref_o_shared_interests         0.02\n",
              "shared_interests_important      0.01\n",
              "pref_o_ambitious                0.01\n",
              "age_o                           0.01\n",
              "expected_happy_with_sd_people   0.01\n",
              "ambtition_important             0.01\n",
              "pref_o_funny                    0.01\n",
              "age                             0.01\n",
              "pref_o_sincere                  0.01\n",
              "pref_o_attractive               0.01\n",
              "funny_important                 0.01\n",
              "pref_o_intelligence             0.01\n",
              "attractive_important            0.01\n",
              "intellicence_important          0.01\n",
              "sincere_important               0.01\n",
              "importance_same_religion        0.01\n",
              "importance_same_race            0.01\n",
              "race_o                          0.01\n",
              "race                            0.01\n",
              "has_null                        0.00\n",
              "gender                          0.00\n",
              "match                           0.00\n",
              "dtype: float64"
            ]
          },
          "metadata": {},
          "execution_count": 17
        }
      ]
    },
    {
      "cell_type": "code",
      "source": [
        "# 특정한 부분집합만 nan 삭제 처리\n",
        "# subset = [삭제할 행 이름]\n",
        "\n",
        "\n",
        "# 상대적으로 불필요한 변수 결측치 삭제 (importance, preference 등)\n",
        "\n",
        "subset=['pref_o_attractive', 'pref_o_sincere', 'pref_o_intelligence',\n",
        "            'pref_o_funny', 'pref_o_ambitious', 'pref_o_shared_interests',\n",
        "            'attractive_important', 'sincere_important', 'intellicence_important',\n",
        "            'funny_important', 'ambtition_important', 'shared_interests_important']"
      ],
      "metadata": {
        "id": "Vju_MQfK1D18"
      },
      "execution_count": 18,
      "outputs": []
    },
    {
      "cell_type": "code",
      "source": [
        "# subset으로 삭제 (주의)\n",
        "df = df.dropna(\n",
        "    subset=[\n",
        "        'pref_o_attractive', 'pref_o_sincere', 'pref_o_intelligence',\n",
        "        'pref_o_funny', 'pref_o_ambitious', 'pref_o_shared_interests',\n",
        "        'attractive_important', 'sincere_important', 'intellicence_important',\n",
        "        'funny_important', 'ambtition_important', 'shared_interests_important']\n",
        ")"
      ],
      "metadata": {
        "id": "oMs8vznh1u20"
      },
      "execution_count": 19,
      "outputs": []
    },
    {
      "cell_type": "code",
      "source": [
        "df.isnull().mean().sort_values(ascending = False)\n",
        "#df.isna().mean().sort_values(ascending=False) # 동일함"
      ],
      "metadata": {
        "colab": {
          "base_uri": "https://localhost:8080/"
        },
        "id": "C_kfUymv2Yna",
        "outputId": "23ce5356-7431-4647-ac48-097b6f561e50"
      },
      "execution_count": 20,
      "outputs": [
        {
          "output_type": "execute_result",
          "data": {
            "text/plain": [
              "expected_num_interested_in_me   0.79\n",
              "shared_interests_o              0.13\n",
              "shared_interests_partner        0.13\n",
              "ambitous_o                      0.08\n",
              "ambition_partner                0.08\n",
              "met                             0.04\n",
              "funny_o                         0.04\n",
              "funny_partner                   0.04\n",
              "guess_prob_liked                0.04\n",
              "intelligence_o                  0.03\n",
              "intelligence_partner            0.03\n",
              "sincere_o                       0.03\n",
              "sincere_partner                 0.03\n",
              "like                            0.03\n",
              "attractive_partner              0.02\n",
              "attractive_o                    0.02\n",
              "age_o                           0.00\n",
              "age                             0.00\n",
              "expected_happy_with_sd_people   0.00\n",
              "funny_important                 0.00\n",
              "interests_correlate             0.00\n",
              "shared_interests_important      0.00\n",
              "ambtition_important             0.00\n",
              "has_null                        0.00\n",
              "intellicence_important          0.00\n",
              "sincere_important               0.00\n",
              "attractive_important            0.00\n",
              "gender                          0.00\n",
              "pref_o_shared_interests         0.00\n",
              "pref_o_ambitious                0.00\n",
              "pref_o_funny                    0.00\n",
              "pref_o_intelligence             0.00\n",
              "pref_o_sincere                  0.00\n",
              "pref_o_attractive               0.00\n",
              "importance_same_religion        0.00\n",
              "importance_same_race            0.00\n",
              "race_o                          0.00\n",
              "race                            0.00\n",
              "match                           0.00\n",
              "dtype: float64"
            ]
          },
          "metadata": {},
          "execution_count": 20
        }
      ]
    },
    {
      "cell_type": "code",
      "source": [
        "# 결측치를 모두 -99로 채워주기\n",
        "# 주의\n",
        "df.fillna(-99, inplace=True)"
      ],
      "metadata": {
        "id": "W_kcGmah2sb5",
        "colab": {
          "base_uri": "https://localhost:8080/"
        },
        "outputId": "e7474550-b07a-4c9c-dc5f-1ed567231497"
      },
      "execution_count": 21,
      "outputs": [
        {
          "output_type": "stream",
          "name": "stderr",
          "text": [
            "/usr/local/lib/python3.8/dist-packages/pandas/core/frame.py:5176: SettingWithCopyWarning: \n",
            "A value is trying to be set on a copy of a slice from a DataFrame\n",
            "\n",
            "See the caveats in the documentation: https://pandas.pydata.org/pandas-docs/stable/user_guide/indexing.html#returning-a-view-versus-a-copy\n",
            "  return super().fillna(\n"
          ]
        }
      ]
    },
    {
      "cell_type": "code",
      "source": [
        "# 결측치 처리 완료\n",
        "df.isna().mean().sort_values(ascending=False)"
      ],
      "metadata": {
        "colab": {
          "base_uri": "https://localhost:8080/"
        },
        "id": "adEtZzsg4yK1",
        "outputId": "26aab924-73b7-4196-aa96-3d6aa80e5067"
      },
      "execution_count": 22,
      "outputs": [
        {
          "output_type": "execute_result",
          "data": {
            "text/plain": [
              "has_null                        0.00\n",
              "funny_partner                   0.00\n",
              "intellicence_important          0.00\n",
              "funny_important                 0.00\n",
              "ambtition_important             0.00\n",
              "shared_interests_important      0.00\n",
              "attractive_partner              0.00\n",
              "sincere_partner                 0.00\n",
              "intelligence_partner            0.00\n",
              "ambition_partner                0.00\n",
              "attractive_important            0.00\n",
              "shared_interests_partner        0.00\n",
              "interests_correlate             0.00\n",
              "expected_happy_with_sd_people   0.00\n",
              "expected_num_interested_in_me   0.00\n",
              "like                            0.00\n",
              "guess_prob_liked                0.00\n",
              "met                             0.00\n",
              "sincere_important               0.00\n",
              "shared_interests_o              0.00\n",
              "gender                          0.00\n",
              "pref_o_sincere                  0.00\n",
              "age                             0.00\n",
              "age_o                           0.00\n",
              "race                            0.00\n",
              "race_o                          0.00\n",
              "importance_same_race            0.00\n",
              "importance_same_religion        0.00\n",
              "pref_o_attractive               0.00\n",
              "pref_o_intelligence             0.00\n",
              "ambitous_o                      0.00\n",
              "pref_o_funny                    0.00\n",
              "pref_o_ambitious                0.00\n",
              "pref_o_shared_interests         0.00\n",
              "attractive_o                    0.00\n",
              "sincere_o                       0.00\n",
              "intelligence_o                  0.00\n",
              "funny_o                         0.00\n",
              "match                           0.00\n",
              "dtype: float64"
            ]
          },
          "metadata": {},
          "execution_count": 22
        }
      ]
    },
    {
      "cell_type": "code",
      "source": [
        "df2 = df.copy()"
      ],
      "metadata": {
        "id": "VJnrGhSF4z1y"
      },
      "execution_count": 23,
      "outputs": []
    },
    {
      "cell_type": "markdown",
      "source": [
        "## 👨‍🦳 age_gap 부터 처리시작 + gender 도 고려"
      ],
      "metadata": {
        "id": "EBXXg_Ea40sv"
      }
    },
    {
      "cell_type": "code",
      "source": [
        "df.columns"
      ],
      "metadata": {
        "colab": {
          "base_uri": "https://localhost:8080/"
        },
        "id": "07uQ2DQZ40uf",
        "outputId": "11f75b36-d90e-47b3-cfc7-0abffb4d32f0"
      },
      "execution_count": 26,
      "outputs": [
        {
          "output_type": "execute_result",
          "data": {
            "text/plain": [
              "Index(['has_null', 'gender', 'age', 'age_o', 'race', 'race_o',\n",
              "       'importance_same_race', 'importance_same_religion', 'pref_o_attractive',\n",
              "       'pref_o_sincere', 'pref_o_intelligence', 'pref_o_funny',\n",
              "       'pref_o_ambitious', 'pref_o_shared_interests', 'attractive_o',\n",
              "       'sincere_o', 'intelligence_o', 'funny_o', 'ambitous_o',\n",
              "       'shared_interests_o', 'attractive_important', 'sincere_important',\n",
              "       'intellicence_important', 'funny_important', 'ambtition_important',\n",
              "       'shared_interests_important', 'attractive_partner', 'sincere_partner',\n",
              "       'intelligence_partner', 'funny_partner', 'ambition_partner',\n",
              "       'shared_interests_partner', 'interests_correlate',\n",
              "       'expected_happy_with_sd_people', 'expected_num_interested_in_me',\n",
              "       'like', 'guess_prob_liked', 'met', 'match'],\n",
              "      dtype='object')"
            ]
          },
          "metadata": {},
          "execution_count": 26
        }
      ]
    },
    {
      "cell_type": "code",
      "source": [
        "(df.age == -99).mean() # 내 나이 결측치"
      ],
      "metadata": {
        "colab": {
          "base_uri": "https://localhost:8080/"
        },
        "id": "7KAamdFr--8a",
        "outputId": "99e71a0a-fd2d-4b28-a84b-a7732b4c842f"
      },
      "execution_count": 27,
      "outputs": [
        {
          "output_type": "execute_result",
          "data": {
            "text/plain": [
              "0.002706027060270603"
            ]
          },
          "metadata": {},
          "execution_count": 27
        }
      ]
    },
    {
      "cell_type": "code",
      "source": [
        "(df.age_o == -99).mean() # 상대방 나이 결측치"
      ],
      "metadata": {
        "colab": {
          "base_uri": "https://localhost:8080/"
        },
        "id": "1o7T4Pzz_N9I",
        "outputId": "a16818d0-1b13-45ea-99f2-b2ebbc5bd882"
      },
      "execution_count": 28,
      "outputs": [
        {
          "output_type": "execute_result",
          "data": {
            "text/plain": [
              "0.002706027060270603"
            ]
          },
          "metadata": {},
          "execution_count": 28
        }
      ]
    },
    {
      "cell_type": "code",
      "source": [
        "# 1. 내 나이가 결측치일 경우 -> 결측치\n",
        "# 2. 상대방의 나이가 결측치일 경우 -> 결측치\n",
        "# 3. 상대방과 내 나이가 모두 있을 경우 (차이를 구할 수 있음)\n",
        "# 3-1. (내가 남성) : 상대방과 나이 차이 -> 내 나이에서 상대방 나이를 빼고\n",
        "# 3-2. (내가 여성) : 상대방과 나이 차이 -> 상대방 나이에서 내 나이를 빼는 방식\n",
        "# df.apply(데이터, axis=1) -> 특정 행의 전체 열\n"
      ],
      "metadata": {
        "id": "s_TbLvdC_Via"
      },
      "execution_count": 29,
      "outputs": []
    },
    {
      "cell_type": "code",
      "source": [
        "# 성별에 따라 나이차를 구분해준 경우\n",
        "def age_gap(row):\n",
        "    if row.age == -99: return -99 # 1. 내 나이가 결측치(-99)일 경우 # return => 함수가 뒤를 더 이상 처리 안합니다.\n",
        "    if row.age_o == -99: return -99 # 2. 상대방 나이가 -99일 경우\n",
        "    if row.gender == 'male': return row.age - row.age_o # 3-1. 남성일 경우 -> 내 나이 - 상대방 나이\n",
        "    if row.gender == 'female': return row.age_o - row.age # 3-2. 여성일 경우 -> 상대방 나이 - 내 나이. 나머지 값은 없음"
      ],
      "metadata": {
        "id": "T_x4AVNZA3zO"
      },
      "execution_count": 30,
      "outputs": []
    },
    {
      "cell_type": "code",
      "source": [
        "df['age_gap'] = df.apply(age_gap, axis=1) # 행을 기준으로 모든 열을 사용해주려면 사용"
      ],
      "metadata": {
        "id": "K-Okv3idBErA",
        "colab": {
          "base_uri": "https://localhost:8080/"
        },
        "outputId": "720d4b58-9985-4a07-fd94-3472c9bf4ec2"
      },
      "execution_count": 31,
      "outputs": [
        {
          "output_type": "stream",
          "name": "stderr",
          "text": [
            "<ipython-input-31-533de59757cb>:1: SettingWithCopyWarning: \n",
            "A value is trying to be set on a copy of a slice from a DataFrame.\n",
            "Try using .loc[row_indexer,col_indexer] = value instead\n",
            "\n",
            "See the caveats in the documentation: https://pandas.pydata.org/pandas-docs/stable/user_guide/indexing.html#returning-a-view-versus-a-copy\n",
            "  df['age_gap'] = df.apply(age_gap, axis=1) # 행을 기준으로 모든 열을 사용해주려면 사용\n"
          ]
        }
      ]
    },
    {
      "cell_type": "code",
      "source": [
        "# 나이 차 + 성별간의 차이\n",
        "df.age_gap.head()"
      ],
      "metadata": {
        "colab": {
          "base_uri": "https://localhost:8080/"
        },
        "id": "s7UsamAkB0xl",
        "outputId": "ec3727ac-db34-4855-c282-013d81dba78b"
      },
      "execution_count": 32,
      "outputs": [
        {
          "output_type": "execute_result",
          "data": {
            "text/plain": [
              "0   6.00\n",
              "1   1.00\n",
              "2   1.00\n",
              "3   2.00\n",
              "4   3.00\n",
              "Name: age_gap, dtype: float64"
            ]
          },
          "metadata": {},
          "execution_count": 32
        }
      ]
    },
    {
      "cell_type": "code",
      "source": [
        "# 나이 차 만 보는경우\n",
        "# abs : 절대값 -> 성별의 영향 없이 진짜 나이 차이만 보겠다\n"
      ],
      "metadata": {
        "id": "QqO0wFJbB4AE"
      },
      "execution_count": 33,
      "outputs": []
    },
    {
      "cell_type": "code",
      "source": [
        "def age_gap_abs(row):\n",
        "    if row.age == -99: return -99 # 1. 내 나이가 결측치(-99)일 경우 # return => 함수가 뒤를 더 이상 처리 X\n",
        "    if row.age_o == -99: return -99 # 2. 상대방 나이가 -99일 경우\n",
        "    return abs(row.age - row.age_o) # 3. 둘 사이의 차이를 abs() -> 절대값으로 나타내기"
      ],
      "metadata": {
        "id": "Xjmxv3ngB_Bw"
      },
      "execution_count": 34,
      "outputs": []
    },
    {
      "cell_type": "code",
      "source": [
        "df['age_gap_abs'] = df.apply(age_gap_abs, axis=1) # 행을 기준으로 모든 열을 사용해주려면 사용"
      ],
      "metadata": {
        "id": "OnMcapc3CE0i",
        "colab": {
          "base_uri": "https://localhost:8080/"
        },
        "outputId": "5fceae1d-67d8-48ce-8b62-2906853743e1"
      },
      "execution_count": 35,
      "outputs": [
        {
          "output_type": "stream",
          "name": "stderr",
          "text": [
            "<ipython-input-35-daf689b699a7>:1: SettingWithCopyWarning: \n",
            "A value is trying to be set on a copy of a slice from a DataFrame.\n",
            "Try using .loc[row_indexer,col_indexer] = value instead\n",
            "\n",
            "See the caveats in the documentation: https://pandas.pydata.org/pandas-docs/stable/user_guide/indexing.html#returning-a-view-versus-a-copy\n",
            "  df['age_gap_abs'] = df.apply(age_gap_abs, axis=1) # 행을 기준으로 모든 열을 사용해주려면 사용\n"
          ]
        }
      ]
    },
    {
      "cell_type": "code",
      "source": [
        "# 성별간 나이차이는 음수도 있다 \n",
        "# 음수는 내가 남성인데 상대 나이(여성)> 내 나이인 경우와 내가 여성인데 내 나이 > 상대 나이(남성)인 경우\n",
        "df['age_gap'].unique()"
      ],
      "metadata": {
        "colab": {
          "base_uri": "https://localhost:8080/"
        },
        "id": "LNuKtpIJCFno",
        "outputId": "5ef882bb-95f5-42c9-a1bb-3f3114eaef44"
      },
      "execution_count": 36,
      "outputs": [
        {
          "output_type": "execute_result",
          "data": {
            "text/plain": [
              "array([  6.,   1.,   2.,   3.,   4.,   9.,   7.,  -2.,  -1.,   0.,  -3.,\n",
              "         5.,   8.,  -4.,  -5.,  -6.,  -7.,  -8.,  -9., -12., -13., -10.,\n",
              "        17.,  10.,  16.,  13.,  12.,  11.,  14., -14., -11.,  18.,  15.,\n",
              "        19.,  20., -16., -15., -22., -28., -32., -99.])"
            ]
          },
          "metadata": {},
          "execution_count": 36
        }
      ]
    },
    {
      "cell_type": "code",
      "source": [
        "# 나이 차이는 음수가 없음\n",
        "df['age_gap_abs'].unique()"
      ],
      "metadata": {
        "colab": {
          "base_uri": "https://localhost:8080/"
        },
        "id": "DI3QLL0pCUi7",
        "outputId": "823ab076-f5b8-4b78-f30f-6d7f96d4efc3"
      },
      "execution_count": 37,
      "outputs": [
        {
          "output_type": "execute_result",
          "data": {
            "text/plain": [
              "array([  6.,   1.,   2.,   3.,   4.,   9.,   7.,   0.,   5.,   8.,  12.,\n",
              "        13.,  10.,  17.,  16.,  11.,  14.,  18.,  15.,  19.,  20.,  22.,\n",
              "        28.,  32., -99.])"
            ]
          },
          "metadata": {},
          "execution_count": 37
        }
      ]
    },
    {
      "cell_type": "markdown",
      "source": [
        "## 👩🏿‍🤝‍👩🏼 race 시작"
      ],
      "metadata": {
        "id": "ThJ9UsuECZ4o"
      }
    },
    {
      "cell_type": "code",
      "source": [
        "# 내 인종\n",
        "df.race.value_counts()"
      ],
      "metadata": {
        "colab": {
          "base_uri": "https://localhost:8080/"
        },
        "id": "m7RaekbiCzRC",
        "outputId": "61fe9352-fd01-4ffc-bb78-4cc1cc58d7e0"
      },
      "execution_count": 38,
      "outputs": [
        {
          "output_type": "execute_result",
          "data": {
            "text/plain": [
              "European/Caucasian-American             4629\n",
              "Asian/PacificIslander/Asian-American    1946\n",
              "Latino/HispanicAmerican                  631\n",
              "Other                                    513\n",
              "Black/AfricanAmerican                    411\n",
              "Name: race, dtype: int64"
            ]
          },
          "metadata": {},
          "execution_count": 38
        }
      ]
    },
    {
      "cell_type": "code",
      "source": [
        "# 상대방 인종\n",
        "df.race_o.value_counts()"
      ],
      "metadata": {
        "colab": {
          "base_uri": "https://localhost:8080/"
        },
        "id": "oRERXo9rCzUU",
        "outputId": "672e0ef3-8142-4624-f690-a3d385a97efe"
      },
      "execution_count": 39,
      "outputs": [
        {
          "output_type": "execute_result",
          "data": {
            "text/plain": [
              "European/Caucasian-American             4629\n",
              "Asian/PacificIslander/Asian-American    1946\n",
              "Latino/HispanicAmerican                  631\n",
              "Other                                    513\n",
              "Black/AfricanAmerican                    411\n",
              "Name: race_o, dtype: int64"
            ]
          },
          "metadata": {},
          "execution_count": 39
        }
      ]
    },
    {
      "cell_type": "code",
      "source": [
        "# 1. 인종이 일치하나?\n",
        "# 2. 일치 여부에 따라서 중요도를 곱해서 점수화\n",
        "# df.race : 내 인종\n",
        "# df.race_o : 상대방 인종\n",
        "# df.apply(..., axis=1) 특정 행의 모든 열의 데이터를 조회"
      ],
      "metadata": {
        "id": "8MGaayLmCzWC"
      },
      "execution_count": 40,
      "outputs": []
    },
    {
      "cell_type": "code",
      "source": [
        "# 상대방 인종과 내 인종이 같을 경우 1이 나오고, 불일치하면 -1이 나오는 함수 생성\n",
        "def same_race(row):\n",
        "    # 결측치 (-99)\n",
        "    if row.race == -99 or row.race_o == -99: return -99\n",
        "    if row.race == row.race_o: return 1\n",
        "    return -1"
      ],
      "metadata": {
        "id": "YEUa2bTmCzYP"
      },
      "execution_count": 41,
      "outputs": []
    },
    {
      "cell_type": "code",
      "source": [
        "# 삼항 연산자 사용 (위와 동일)\n",
        "\n",
        "def same_race(row):\n",
        "    # 결측치 (-99)\n",
        "    # {조건을 만족시켰을 때의 결과값} if {조건} else {만족X 결과값}\n",
        "    return 1 if row.race == row.race_o else -1"
      ],
      "metadata": {
        "id": "wryaSo6vDpwB"
      },
      "execution_count": 42,
      "outputs": []
    },
    {
      "cell_type": "code",
      "source": [
        "df['same_race'] = df.apply(same_race, axis=1)"
      ],
      "metadata": {
        "id": "v5vADrulD0qf",
        "colab": {
          "base_uri": "https://localhost:8080/"
        },
        "outputId": "83901508-dee7-4e0b-ab29-ae7da7b713b6"
      },
      "execution_count": 43,
      "outputs": [
        {
          "output_type": "stream",
          "name": "stderr",
          "text": [
            "<ipython-input-43-14bcb61b2ee3>:1: SettingWithCopyWarning: \n",
            "A value is trying to be set on a copy of a slice from a DataFrame.\n",
            "Try using .loc[row_indexer,col_indexer] = value instead\n",
            "\n",
            "See the caveats in the documentation: https://pandas.pydata.org/pandas-docs/stable/user_guide/indexing.html#returning-a-view-versus-a-copy\n",
            "  df['same_race'] = df.apply(same_race, axis=1)\n"
          ]
        }
      ]
    },
    {
      "cell_type": "code",
      "source": [
        "df['same_race'].value_counts()"
      ],
      "metadata": {
        "colab": {
          "base_uri": "https://localhost:8080/"
        },
        "id": "Aj4YyCmjD5sd",
        "outputId": "e9b3d95f-8a04-4913-b013-27ff8a8e3f9e"
      },
      "execution_count": 44,
      "outputs": [
        {
          "output_type": "execute_result",
          "data": {
            "text/plain": [
              "-1    4844\n",
              " 1    3286\n",
              "Name: same_race, dtype: int64"
            ]
          },
          "metadata": {},
          "execution_count": 44
        }
      ]
    },
    {
      "cell_type": "code",
      "source": [
        "df.importance_same_race.value_counts() # 인종(race)가 중요하다고 생각하는 사람들의 수"
      ],
      "metadata": {
        "colab": {
          "base_uri": "https://localhost:8080/"
        },
        "id": "MK3oBHgTD93J",
        "outputId": "a9aa4c82-9f2f-4b0c-98ea-ad594ec78b70"
      },
      "execution_count": 45,
      "outputs": [
        {
          "output_type": "execute_result",
          "data": {
            "text/plain": [
              "1.00     2749\n",
              "3.00      964\n",
              "2.00      938\n",
              "5.00      644\n",
              "8.00      631\n",
              "7.00      536\n",
              "6.00      516\n",
              "4.00      494\n",
              "9.00      404\n",
              "10.00     246\n",
              "0.00        8\n",
              "Name: importance_same_race, dtype: int64"
            ]
          },
          "metadata": {},
          "execution_count": 45
        }
      ]
    },
    {
      "cell_type": "code",
      "source": [
        "# 인종이 중요하다고 생각하는 사람(10점)인 사람의 매칭 성공률\n",
        "\n",
        "df[df.importance_same_race == 10]['match'].mean() # 12.6 % 많지 않다"
      ],
      "metadata": {
        "colab": {
          "base_uri": "https://localhost:8080/"
        },
        "id": "7TEEHx_oEV85",
        "outputId": "014f6352-80c9-4446-8bc1-50d8d94900f0"
      },
      "execution_count": 46,
      "outputs": [
        {
          "output_type": "execute_result",
          "data": {
            "text/plain": [
              "0.12601626016260162"
            ]
          },
          "metadata": {},
          "execution_count": 46
        }
      ]
    },
    {
      "cell_type": "code",
      "source": [
        "# 인종이 전혀 안 중요하다고 생각하는 사람(0점)인 사람의 매칭 성공률\n",
        "\n",
        "df[df.importance_same_race == 0]['match'].mean() # 12.5% 비슷하다"
      ],
      "metadata": {
        "colab": {
          "base_uri": "https://localhost:8080/"
        },
        "id": "nmXU9lWJEdeI",
        "outputId": "08cd3b98-1b84-460d-eed1-3b69e56c1b4d"
      },
      "execution_count": 47,
      "outputs": [
        {
          "output_type": "execute_result",
          "data": {
            "text/plain": [
              "0.125"
            ]
          },
          "metadata": {},
          "execution_count": 47
        }
      ]
    },
    {
      "cell_type": "code",
      "source": [
        "# 내 피부색과 상대방의 피부색이 같은 사람 x 같은 피부색의 선호도\n",
        "\n",
        "def same_race_point(row):\n",
        "    if row.same_race == -99: return -99\n",
        "    return row.same_race * row.importance_same_race"
      ],
      "metadata": {
        "id": "rb0ylYJSEf9X"
      },
      "execution_count": 48,
      "outputs": []
    },
    {
      "cell_type": "code",
      "source": [
        "df['same_race_point'] = df.apply(same_race_point, axis=1)"
      ],
      "metadata": {
        "id": "AWzaERh5F7oU",
        "colab": {
          "base_uri": "https://localhost:8080/"
        },
        "outputId": "417e2508-d7c3-46a5-8248-946163e4326f"
      },
      "execution_count": 49,
      "outputs": [
        {
          "output_type": "stream",
          "name": "stderr",
          "text": [
            "<ipython-input-49-9027ec13be1c>:1: SettingWithCopyWarning: \n",
            "A value is trying to be set on a copy of a slice from a DataFrame.\n",
            "Try using .loc[row_indexer,col_indexer] = value instead\n",
            "\n",
            "See the caveats in the documentation: https://pandas.pydata.org/pandas-docs/stable/user_guide/indexing.html#returning-a-view-versus-a-copy\n",
            "  df['same_race_point'] = df.apply(same_race_point, axis=1)\n"
          ]
        }
      ]
    },
    {
      "cell_type": "code",
      "source": [
        "df.same_race_point.value_counts()"
      ],
      "metadata": {
        "colab": {
          "base_uri": "https://localhost:8080/"
        },
        "id": "shMfo78WF72L",
        "outputId": "f4b88b6c-6889-4913-b62d-d0565a31890a"
      },
      "execution_count": 50,
      "outputs": [
        {
          "output_type": "execute_result",
          "data": {
            "text/plain": [
              "-1.00     1765\n",
              "1.00       984\n",
              "-3.00      611\n",
              "-2.00      575\n",
              "2.00       363\n",
              "-5.00      354\n",
              "3.00       353\n",
              "8.00       321\n",
              "-6.00      316\n",
              "-7.00      312\n",
              "-8.00      310\n",
              "5.00       290\n",
              "-4.00      272\n",
              "7.00       224\n",
              "4.00       222\n",
              "-9.00      211\n",
              "6.00       200\n",
              "9.00       193\n",
              "10.00      130\n",
              "-10.00     116\n",
              "0.00         8\n",
              "Name: same_race_point, dtype: int64"
            ]
          },
          "metadata": {},
          "execution_count": 50
        }
      ]
    },
    {
      "cell_type": "code",
      "source": [
        "df[df.same_race_point == 10]['match'].mean() # 인종중요도 10점 준 사람 중 인종이 같은 사람"
      ],
      "metadata": {
        "colab": {
          "base_uri": "https://localhost:8080/"
        },
        "id": "vu67e3kBF897",
        "outputId": "ccd9d07f-da87-4b9b-948b-cd52f8854c51"
      },
      "execution_count": 51,
      "outputs": [
        {
          "output_type": "execute_result",
          "data": {
            "text/plain": [
              "0.17692307692307693"
            ]
          },
          "metadata": {},
          "execution_count": 51
        }
      ]
    },
    {
      "cell_type": "code",
      "source": [
        "df[df.same_race_point == -10]['match'].mean() # 인종중요도 10점 준 사람 중 상대방과 인종이 다르게 된 사람"
      ],
      "metadata": {
        "colab": {
          "base_uri": "https://localhost:8080/"
        },
        "id": "So327Q0yF9-F",
        "outputId": "239547a8-78a7-4d7f-add2-56895118e3b5"
      },
      "execution_count": 52,
      "outputs": [
        {
          "output_type": "execute_result",
          "data": {
            "text/plain": [
              "0.06896551724137931"
            ]
          },
          "metadata": {},
          "execution_count": 52
        }
      ]
    },
    {
      "cell_type": "code",
      "source": [
        "df[['race', 'race_o', 'same_race', 'importance_same_race', 'same_race_point']]"
      ],
      "metadata": {
        "colab": {
          "base_uri": "https://localhost:8080/",
          "height": 424
        },
        "id": "Dq2O_nfVF-tN",
        "outputId": "8c738915-771d-4fc7-f36f-b5e7ff26ce0c"
      },
      "execution_count": 53,
      "outputs": [
        {
          "output_type": "execute_result",
          "data": {
            "text/plain": [
              "                                      race  \\\n",
              "0     Asian/PacificIslander/Asian-American   \n",
              "1     Asian/PacificIslander/Asian-American   \n",
              "2     Asian/PacificIslander/Asian-American   \n",
              "3     Asian/PacificIslander/Asian-American   \n",
              "4     Asian/PacificIslander/Asian-American   \n",
              "...                                    ...   \n",
              "8372           European/Caucasian-American   \n",
              "8373           European/Caucasian-American   \n",
              "8374           European/Caucasian-American   \n",
              "8376           European/Caucasian-American   \n",
              "8377           European/Caucasian-American   \n",
              "\n",
              "                                    race_o  same_race  importance_same_race  \\\n",
              "0              European/Caucasian-American         -1                  2.00   \n",
              "1              European/Caucasian-American         -1                  2.00   \n",
              "2     Asian/PacificIslander/Asian-American          1                  2.00   \n",
              "3              European/Caucasian-American         -1                  2.00   \n",
              "4                  Latino/HispanicAmerican         -1                  2.00   \n",
              "...                                    ...        ...                   ...   \n",
              "8372           European/Caucasian-American          1                  1.00   \n",
              "8373               Latino/HispanicAmerican         -1                  1.00   \n",
              "8374                                 Other         -1                  1.00   \n",
              "8376  Asian/PacificIslander/Asian-American         -1                  1.00   \n",
              "8377  Asian/PacificIslander/Asian-American         -1                  1.00   \n",
              "\n",
              "      same_race_point  \n",
              "0               -2.00  \n",
              "1               -2.00  \n",
              "2                2.00  \n",
              "3               -2.00  \n",
              "4               -2.00  \n",
              "...               ...  \n",
              "8372             1.00  \n",
              "8373            -1.00  \n",
              "8374            -1.00  \n",
              "8376            -1.00  \n",
              "8377            -1.00  \n",
              "\n",
              "[8130 rows x 5 columns]"
            ],
            "text/html": [
              "\n",
              "  <div id=\"df-5d56ca53-4e57-4d52-b4fe-08c36a11af32\">\n",
              "    <div class=\"colab-df-container\">\n",
              "      <div>\n",
              "<style scoped>\n",
              "    .dataframe tbody tr th:only-of-type {\n",
              "        vertical-align: middle;\n",
              "    }\n",
              "\n",
              "    .dataframe tbody tr th {\n",
              "        vertical-align: top;\n",
              "    }\n",
              "\n",
              "    .dataframe thead th {\n",
              "        text-align: right;\n",
              "    }\n",
              "</style>\n",
              "<table border=\"1\" class=\"dataframe\">\n",
              "  <thead>\n",
              "    <tr style=\"text-align: right;\">\n",
              "      <th></th>\n",
              "      <th>race</th>\n",
              "      <th>race_o</th>\n",
              "      <th>same_race</th>\n",
              "      <th>importance_same_race</th>\n",
              "      <th>same_race_point</th>\n",
              "    </tr>\n",
              "  </thead>\n",
              "  <tbody>\n",
              "    <tr>\n",
              "      <th>0</th>\n",
              "      <td>Asian/PacificIslander/Asian-American</td>\n",
              "      <td>European/Caucasian-American</td>\n",
              "      <td>-1</td>\n",
              "      <td>2.00</td>\n",
              "      <td>-2.00</td>\n",
              "    </tr>\n",
              "    <tr>\n",
              "      <th>1</th>\n",
              "      <td>Asian/PacificIslander/Asian-American</td>\n",
              "      <td>European/Caucasian-American</td>\n",
              "      <td>-1</td>\n",
              "      <td>2.00</td>\n",
              "      <td>-2.00</td>\n",
              "    </tr>\n",
              "    <tr>\n",
              "      <th>2</th>\n",
              "      <td>Asian/PacificIslander/Asian-American</td>\n",
              "      <td>Asian/PacificIslander/Asian-American</td>\n",
              "      <td>1</td>\n",
              "      <td>2.00</td>\n",
              "      <td>2.00</td>\n",
              "    </tr>\n",
              "    <tr>\n",
              "      <th>3</th>\n",
              "      <td>Asian/PacificIslander/Asian-American</td>\n",
              "      <td>European/Caucasian-American</td>\n",
              "      <td>-1</td>\n",
              "      <td>2.00</td>\n",
              "      <td>-2.00</td>\n",
              "    </tr>\n",
              "    <tr>\n",
              "      <th>4</th>\n",
              "      <td>Asian/PacificIslander/Asian-American</td>\n",
              "      <td>Latino/HispanicAmerican</td>\n",
              "      <td>-1</td>\n",
              "      <td>2.00</td>\n",
              "      <td>-2.00</td>\n",
              "    </tr>\n",
              "    <tr>\n",
              "      <th>...</th>\n",
              "      <td>...</td>\n",
              "      <td>...</td>\n",
              "      <td>...</td>\n",
              "      <td>...</td>\n",
              "      <td>...</td>\n",
              "    </tr>\n",
              "    <tr>\n",
              "      <th>8372</th>\n",
              "      <td>European/Caucasian-American</td>\n",
              "      <td>European/Caucasian-American</td>\n",
              "      <td>1</td>\n",
              "      <td>1.00</td>\n",
              "      <td>1.00</td>\n",
              "    </tr>\n",
              "    <tr>\n",
              "      <th>8373</th>\n",
              "      <td>European/Caucasian-American</td>\n",
              "      <td>Latino/HispanicAmerican</td>\n",
              "      <td>-1</td>\n",
              "      <td>1.00</td>\n",
              "      <td>-1.00</td>\n",
              "    </tr>\n",
              "    <tr>\n",
              "      <th>8374</th>\n",
              "      <td>European/Caucasian-American</td>\n",
              "      <td>Other</td>\n",
              "      <td>-1</td>\n",
              "      <td>1.00</td>\n",
              "      <td>-1.00</td>\n",
              "    </tr>\n",
              "    <tr>\n",
              "      <th>8376</th>\n",
              "      <td>European/Caucasian-American</td>\n",
              "      <td>Asian/PacificIslander/Asian-American</td>\n",
              "      <td>-1</td>\n",
              "      <td>1.00</td>\n",
              "      <td>-1.00</td>\n",
              "    </tr>\n",
              "    <tr>\n",
              "      <th>8377</th>\n",
              "      <td>European/Caucasian-American</td>\n",
              "      <td>Asian/PacificIslander/Asian-American</td>\n",
              "      <td>-1</td>\n",
              "      <td>1.00</td>\n",
              "      <td>-1.00</td>\n",
              "    </tr>\n",
              "  </tbody>\n",
              "</table>\n",
              "<p>8130 rows × 5 columns</p>\n",
              "</div>\n",
              "      <button class=\"colab-df-convert\" onclick=\"convertToInteractive('df-5d56ca53-4e57-4d52-b4fe-08c36a11af32')\"\n",
              "              title=\"Convert this dataframe to an interactive table.\"\n",
              "              style=\"display:none;\">\n",
              "        \n",
              "  <svg xmlns=\"http://www.w3.org/2000/svg\" height=\"24px\"viewBox=\"0 0 24 24\"\n",
              "       width=\"24px\">\n",
              "    <path d=\"M0 0h24v24H0V0z\" fill=\"none\"/>\n",
              "    <path d=\"M18.56 5.44l.94 2.06.94-2.06 2.06-.94-2.06-.94-.94-2.06-.94 2.06-2.06.94zm-11 1L8.5 8.5l.94-2.06 2.06-.94-2.06-.94L8.5 2.5l-.94 2.06-2.06.94zm10 10l.94 2.06.94-2.06 2.06-.94-2.06-.94-.94-2.06-.94 2.06-2.06.94z\"/><path d=\"M17.41 7.96l-1.37-1.37c-.4-.4-.92-.59-1.43-.59-.52 0-1.04.2-1.43.59L10.3 9.45l-7.72 7.72c-.78.78-.78 2.05 0 2.83L4 21.41c.39.39.9.59 1.41.59.51 0 1.02-.2 1.41-.59l7.78-7.78 2.81-2.81c.8-.78.8-2.07 0-2.86zM5.41 20L4 18.59l7.72-7.72 1.47 1.35L5.41 20z\"/>\n",
              "  </svg>\n",
              "      </button>\n",
              "      \n",
              "  <style>\n",
              "    .colab-df-container {\n",
              "      display:flex;\n",
              "      flex-wrap:wrap;\n",
              "      gap: 12px;\n",
              "    }\n",
              "\n",
              "    .colab-df-convert {\n",
              "      background-color: #E8F0FE;\n",
              "      border: none;\n",
              "      border-radius: 50%;\n",
              "      cursor: pointer;\n",
              "      display: none;\n",
              "      fill: #1967D2;\n",
              "      height: 32px;\n",
              "      padding: 0 0 0 0;\n",
              "      width: 32px;\n",
              "    }\n",
              "\n",
              "    .colab-df-convert:hover {\n",
              "      background-color: #E2EBFA;\n",
              "      box-shadow: 0px 1px 2px rgba(60, 64, 67, 0.3), 0px 1px 3px 1px rgba(60, 64, 67, 0.15);\n",
              "      fill: #174EA6;\n",
              "    }\n",
              "\n",
              "    [theme=dark] .colab-df-convert {\n",
              "      background-color: #3B4455;\n",
              "      fill: #D2E3FC;\n",
              "    }\n",
              "\n",
              "    [theme=dark] .colab-df-convert:hover {\n",
              "      background-color: #434B5C;\n",
              "      box-shadow: 0px 1px 3px 1px rgba(0, 0, 0, 0.15);\n",
              "      filter: drop-shadow(0px 1px 2px rgba(0, 0, 0, 0.3));\n",
              "      fill: #FFFFFF;\n",
              "    }\n",
              "  </style>\n",
              "\n",
              "      <script>\n",
              "        const buttonEl =\n",
              "          document.querySelector('#df-5d56ca53-4e57-4d52-b4fe-08c36a11af32 button.colab-df-convert');\n",
              "        buttonEl.style.display =\n",
              "          google.colab.kernel.accessAllowed ? 'block' : 'none';\n",
              "\n",
              "        async function convertToInteractive(key) {\n",
              "          const element = document.querySelector('#df-5d56ca53-4e57-4d52-b4fe-08c36a11af32');\n",
              "          const dataTable =\n",
              "            await google.colab.kernel.invokeFunction('convertToInteractive',\n",
              "                                                     [key], {});\n",
              "          if (!dataTable) return;\n",
              "\n",
              "          const docLinkHtml = 'Like what you see? Visit the ' +\n",
              "            '<a target=\"_blank\" href=https://colab.research.google.com/notebooks/data_table.ipynb>data table notebook</a>'\n",
              "            + ' to learn more about interactive tables.';\n",
              "          element.innerHTML = '';\n",
              "          dataTable['output_type'] = 'display_data';\n",
              "          await google.colab.output.renderOutput(dataTable, element);\n",
              "          const docLink = document.createElement('div');\n",
              "          docLink.innerHTML = docLinkHtml;\n",
              "          element.appendChild(docLink);\n",
              "        }\n",
              "      </script>\n",
              "    </div>\n",
              "  </div>\n",
              "  "
            ]
          },
          "metadata": {},
          "execution_count": 53
        }
      ]
    },
    {
      "cell_type": "code",
      "source": [
        "# 도메인 지식"
      ],
      "metadata": {
        "id": "FcEeMdkRa1mg"
      },
      "execution_count": 54,
      "outputs": []
    },
    {
      "cell_type": "code",
      "source": [
        " # 상대방의 선호도 (B의 선호도) (컬럼 8~13)\n",
        "df.columns[8:14]"
      ],
      "metadata": {
        "colab": {
          "base_uri": "https://localhost:8080/"
        },
        "id": "EuZjCo_PF_Zv",
        "outputId": "41b94af5-037e-4226-d86b-97df8cefed01"
      },
      "execution_count": 55,
      "outputs": [
        {
          "output_type": "execute_result",
          "data": {
            "text/plain": [
              "Index(['pref_o_attractive', 'pref_o_sincere', 'pref_o_intelligence',\n",
              "       'pref_o_funny', 'pref_o_ambitious', 'pref_o_shared_interests'],\n",
              "      dtype='object')"
            ]
          },
          "metadata": {},
          "execution_count": 55
        }
      ]
    },
    {
      "cell_type": "code",
      "source": [
        "# 참가자에 대한 상대방의 평가 점수 (B가 A를 평가) (컬럼 14~20)\n",
        "df.columns[14:20]"
      ],
      "metadata": {
        "colab": {
          "base_uri": "https://localhost:8080/"
        },
        "id": "kO-F69jsaQHx",
        "outputId": "2af5512a-7265-4147-b189-2eab181de565"
      },
      "execution_count": 56,
      "outputs": [
        {
          "output_type": "execute_result",
          "data": {
            "text/plain": [
              "Index(['attractive_o', 'sincere_o', 'intelligence_o', 'funny_o', 'ambitous_o',\n",
              "       'shared_interests_o'],\n",
              "      dtype='object')"
            ]
          },
          "metadata": {},
          "execution_count": 56
        }
      ]
    },
    {
      "cell_type": "code",
      "source": [
        "# 참가자 본인의 선호도 (A의 선호도) (컬럼 20~25)\n",
        "df.columns[20:26]"
      ],
      "metadata": {
        "colab": {
          "base_uri": "https://localhost:8080/"
        },
        "id": "JPG2KVchaa5k",
        "outputId": "ec0de5b9-3d3a-48d6-8fcc-9fbbdbc1cd4e"
      },
      "execution_count": 57,
      "outputs": [
        {
          "output_type": "execute_result",
          "data": {
            "text/plain": [
              "Index(['attractive_important', 'sincere_important', 'intellicence_important',\n",
              "       'funny_important', 'ambtition_important', 'shared_interests_important'],\n",
              "      dtype='object')"
            ]
          },
          "metadata": {},
          "execution_count": 57
        }
      ]
    },
    {
      "cell_type": "code",
      "source": [
        "# 참가자가 상대방에 대해 평가한 점수 (A가 B를 평가) (컬럼 26~32)\n",
        "df.columns[26:32]"
      ],
      "metadata": {
        "colab": {
          "base_uri": "https://localhost:8080/"
        },
        "id": "SU4HDyMQa0jV",
        "outputId": "61d2eb69-fc1f-498c-e5b4-9712022918bb"
      },
      "execution_count": 58,
      "outputs": [
        {
          "output_type": "execute_result",
          "data": {
            "text/plain": [
              "Index(['attractive_partner', 'sincere_partner', 'intelligence_partner',\n",
              "       'funny_partner', 'ambition_partner', 'shared_interests_partner'],\n",
              "      dtype='object')"
            ]
          },
          "metadata": {},
          "execution_count": 58
        }
      ]
    },
    {
      "cell_type": "code",
      "source": [
        "print(f\"상대방의 선호도 : {df.columns[8:14]}\")\n",
        "print(f\"본인에 대한 상대방의 평가 : {df.columns[14:20]}\")\n",
        "print(f\"본인의 선호도 : {df.columns[20:26]}\")\n",
        "print(f\"상대방에 대한 본인의 평가 : {df.columns[26:32]}\")"
      ],
      "metadata": {
        "colab": {
          "base_uri": "https://localhost:8080/"
        },
        "id": "Wf1XJfZtbShE",
        "outputId": "05ce9e78-42fc-47fe-ad99-ffd748f3a72f"
      },
      "execution_count": 59,
      "outputs": [
        {
          "output_type": "stream",
          "name": "stdout",
          "text": [
            "상대방의 선호도 : Index(['pref_o_attractive', 'pref_o_sincere', 'pref_o_intelligence',\n",
            "       'pref_o_funny', 'pref_o_ambitious', 'pref_o_shared_interests'],\n",
            "      dtype='object')\n",
            "본인에 대한 상대방의 평가 : Index(['attractive_o', 'sincere_o', 'intelligence_o', 'funny_o', 'ambitous_o',\n",
            "       'shared_interests_o'],\n",
            "      dtype='object')\n",
            "본인의 선호도 : Index(['attractive_important', 'sincere_important', 'intellicence_important',\n",
            "       'funny_important', 'ambtition_important', 'shared_interests_important'],\n",
            "      dtype='object')\n",
            "상대방에 대한 본인의 평가 : Index(['attractive_partner', 'sincere_partner', 'intelligence_partner',\n",
            "       'funny_partner', 'ambition_partner', 'shared_interests_partner'],\n",
            "      dtype='object')\n"
          ]
        }
      ]
    },
    {
      "cell_type": "code",
      "source": [
        "# 선호도에 대한 변수들을 정의\n",
        "\n",
        "partner_imp = df.columns[8:14] # 상대방이 얼마나 중요하게 여기는지\n",
        "partner_rate_me = df.columns[14:20] # 나에 대한 상대방의 평가\n",
        "my_imp = df.columns[20:26] # 내가 얼마나 중요하게 여기는지\n",
        "my_rate_partner = df.columns[26:32] # 상대방에 대한 나의 평가"
      ],
      "metadata": {
        "id": "MJ1F6ocEbT9w"
      },
      "execution_count": 60,
      "outputs": []
    },
    {
      "cell_type": "code",
      "source": [
        "# imp & rate => 평가(score)용 변수 정의\n",
        "\n",
        "# 파트너가 나에 대해 중요도x평가 점수 : 최종점수\n",
        "new_label_partner = ['attractive_p',\n",
        "                     'sincere_p',\n",
        "                     'intelligence_p',\n",
        "                     'funny_p',\n",
        "                     'ambitous_p',\n",
        "                     'shared_interests_p']\n",
        "# 참가자가 파트너에 대해 중요도x평가 점수 : 최종점수\n",
        "new_label_me = ['attractive_p',\n",
        "                     'sincere_p',\n",
        "                     'intelligence_p',\n",
        "                     'funny_p',\n",
        "                     'ambitous_p',\n",
        "                     'shared_interests_p']"
      ],
      "metadata": {
        "id": "4BjFH5Xeb_MK"
      },
      "execution_count": 61,
      "outputs": []
    },
    {
      "cell_type": "code",
      "source": [
        "# 얼마나 중요한지, 평가 대상에 대한 점수\n",
        "# row -> importance : 중요도 열 이름, score : 평가점수 열 이름\n",
        "def rating(row, importance, score):\n",
        "    if (row[importance] == -99) or (row[score] == -99): return -99 # 둘 중에 하나라도 결측치일 경우 : -99 반환\n",
        "    return row[importance] * row[score] # 결측치 아닐 경우 : 중요도 X 평가점수 return"
      ],
      "metadata": {
        "id": "v62eQSxTcBOH"
      },
      "execution_count": 62,
      "outputs": []
    },
    {
      "cell_type": "code",
      "source": [
        "# zip으로 엮어줍니다. \n",
        "# (zip(평가점수 열이름, 중요도 열이름, 새로운 라벨 열이름))\n",
        "# 파트너가 나에게 하는 것\n",
        "\n",
        "for i, j, k in zip(new_label_partner, partner_imp, partner_rate_me):\n",
        "    print(f\"{i} & {j} & {k}\")"
      ],
      "metadata": {
        "colab": {
          "base_uri": "https://localhost:8080/"
        },
        "id": "jgMHjW1rdGrV",
        "outputId": "a95c1132-d39f-41ad-eb71-9508b0bea3eb"
      },
      "execution_count": 63,
      "outputs": [
        {
          "output_type": "stream",
          "name": "stdout",
          "text": [
            "attractive_p & pref_o_attractive & attractive_o\n",
            "sincere_p & pref_o_sincere & sincere_o\n",
            "intelligence_p & pref_o_intelligence & intelligence_o\n",
            "funny_p & pref_o_funny & funny_o\n",
            "ambitous_p & pref_o_ambitious & ambitous_o\n",
            "shared_interests_p & pref_o_shared_interests & shared_interests_o\n"
          ]
        }
      ]
    },
    {
      "cell_type": "code",
      "source": [
        "# zip으로 엮어줍니다. \n",
        "# (zip(평가점수 열이름, 중요도 열이름, 새로운 라벨 열이름))\n",
        "# 내가 파트너에게 하는 것\n",
        "\n",
        "for i, j, k in zip(new_label_me, my_imp, my_rate_partner):\n",
        "    print(f\"{i} & {j} & {k}\")"
      ],
      "metadata": {
        "colab": {
          "base_uri": "https://localhost:8080/"
        },
        "id": "UcqJPruTdyEp",
        "outputId": "dc7b92eb-90ea-4ffb-9558-58cad64fde52"
      },
      "execution_count": 64,
      "outputs": [
        {
          "output_type": "stream",
          "name": "stdout",
          "text": [
            "attractive_p & attractive_important & attractive_partner\n",
            "sincere_p & sincere_important & sincere_partner\n",
            "intelligence_p & intellicence_important & intelligence_partner\n",
            "funny_p & funny_important & funny_partner\n",
            "ambitous_p & ambtition_important & ambition_partner\n",
            "shared_interests_p & shared_interests_important & shared_interests_partner\n"
          ]
        }
      ]
    },
    {
      "cell_type": "code",
      "source": [
        "# 파트너가 나에게 느끼는 점수 (위에서 제작한 함수 사용)\n",
        "for i, j, k in zip(new_label_partner, partner_imp, partner_rate_me):\n",
        "\n",
        "    # print(f\"{i} & {j} & {k}\")\n",
        "\n",
        "    # i : 새롭게 만들, 파트너가 내게 느끼는 중요도x점수\n",
        "    # j : 파트너가 중요하게 여기는 정도 (importance)\n",
        "    # k ; 나에 대한 파트너의 평가 (score)\n",
        "\n",
        "    # apply 내부는 -> 변수를 1개만 제공 (row)\n",
        "\n",
        "    df[i] = df.apply(lambda row: rating(row, j, k) , axis=1)"
      ],
      "metadata": {
        "id": "KlUSTZ0MeDcj",
        "colab": {
          "base_uri": "https://localhost:8080/"
        },
        "outputId": "337c7e0a-e428-4a36-ba43-f7eeac171484"
      },
      "execution_count": 65,
      "outputs": [
        {
          "output_type": "stream",
          "name": "stderr",
          "text": [
            "<ipython-input-65-30fcb5bdc914>:12: SettingWithCopyWarning: \n",
            "A value is trying to be set on a copy of a slice from a DataFrame.\n",
            "Try using .loc[row_indexer,col_indexer] = value instead\n",
            "\n",
            "See the caveats in the documentation: https://pandas.pydata.org/pandas-docs/stable/user_guide/indexing.html#returning-a-view-versus-a-copy\n",
            "  df[i] = df.apply(lambda row: rating(row, j, k) , axis=1)\n"
          ]
        }
      ]
    },
    {
      "cell_type": "code",
      "source": [
        "# 내가 파트너에게 느끼는 점수\n",
        "for i, j, k in zip(new_label_me, my_imp, my_rate_partner):\n",
        "\n",
        "    # print(f\"{i} & {j} & {k}\")\n",
        "\n",
        "    # i : 새롭게 만들, 내가 파트너에게 느끼는 중요도x점수\n",
        "    # j : 내가 중요하게 여기는 정도 (importance)\n",
        "    # k ; 파트너에 대한 나의 평가 (score)\n",
        "\n",
        "    # apply 내부는 -> 변수를 1개만 제공 (row)\n",
        "    \n",
        "    df[i] = df.apply(lambda row: rating(row, j, k) , axis=1)"
      ],
      "metadata": {
        "id": "3nOlyDiHfE-D",
        "colab": {
          "base_uri": "https://localhost:8080/"
        },
        "outputId": "d6217231-d5c7-47b8-cc60-0172609b09f6"
      },
      "execution_count": 66,
      "outputs": [
        {
          "output_type": "stream",
          "name": "stderr",
          "text": [
            "<ipython-input-66-3dbc86184434>:12: SettingWithCopyWarning: \n",
            "A value is trying to be set on a copy of a slice from a DataFrame.\n",
            "Try using .loc[row_indexer,col_indexer] = value instead\n",
            "\n",
            "See the caveats in the documentation: https://pandas.pydata.org/pandas-docs/stable/user_guide/indexing.html#returning-a-view-versus-a-copy\n",
            "  df[i] = df.apply(lambda row: rating(row, j, k) , axis=1)\n"
          ]
        }
      ]
    },
    {
      "cell_type": "code",
      "source": [
        "df.head()"
      ],
      "metadata": {
        "colab": {
          "base_uri": "https://localhost:8080/",
          "height": 386
        },
        "id": "JN45ijjnfPi8",
        "outputId": "6e0be060-f2ae-4a1c-88e1-4952e06dbab7"
      },
      "execution_count": 67,
      "outputs": [
        {
          "output_type": "execute_result",
          "data": {
            "text/plain": [
              "   has_null  gender   age  age_o                                  race  \\\n",
              "0         0  female 21.00  27.00  Asian/PacificIslander/Asian-American   \n",
              "1         0  female 21.00  22.00  Asian/PacificIslander/Asian-American   \n",
              "2         1  female 21.00  22.00  Asian/PacificIslander/Asian-American   \n",
              "3         0  female 21.00  23.00  Asian/PacificIslander/Asian-American   \n",
              "4         0  female 21.00  24.00  Asian/PacificIslander/Asian-American   \n",
              "\n",
              "                                 race_o  importance_same_race  \\\n",
              "0           European/Caucasian-American                  2.00   \n",
              "1           European/Caucasian-American                  2.00   \n",
              "2  Asian/PacificIslander/Asian-American                  2.00   \n",
              "3           European/Caucasian-American                  2.00   \n",
              "4               Latino/HispanicAmerican                  2.00   \n",
              "\n",
              "   importance_same_religion  pref_o_attractive  pref_o_sincere  ...  age_gap  \\\n",
              "0                      4.00              35.00           20.00  ...     6.00   \n",
              "1                      4.00              60.00            0.00  ...     1.00   \n",
              "2                      4.00              19.00           18.00  ...     1.00   \n",
              "3                      4.00              30.00            5.00  ...     2.00   \n",
              "4                      4.00              30.00           10.00  ...     3.00   \n",
              "\n",
              "   age_gap_abs  same_race  same_race_point  attractive_p  sincere_p  \\\n",
              "0         6.00         -1            -2.00         90.00     180.00   \n",
              "1         1.00         -1            -2.00        105.00     160.00   \n",
              "2         1.00          1             2.00         75.00     160.00   \n",
              "3         2.00         -1            -2.00        105.00     120.00   \n",
              "4         3.00         -1            -2.00         75.00     120.00   \n",
              "\n",
              "   intelligence_p  funny_p  ambitous_p  shared_interests_p  \n",
              "0          140.00   105.00       90.00               75.00  \n",
              "1          140.00   120.00       75.00               90.00  \n",
              "2          180.00   120.00       75.00              105.00  \n",
              "3          160.00   105.00       90.00              120.00  \n",
              "4          140.00   105.00       90.00               90.00  \n",
              "\n",
              "[5 rows x 49 columns]"
            ],
            "text/html": [
              "\n",
              "  <div id=\"df-00d33eeb-8b51-4830-8749-48032b5d4a6f\">\n",
              "    <div class=\"colab-df-container\">\n",
              "      <div>\n",
              "<style scoped>\n",
              "    .dataframe tbody tr th:only-of-type {\n",
              "        vertical-align: middle;\n",
              "    }\n",
              "\n",
              "    .dataframe tbody tr th {\n",
              "        vertical-align: top;\n",
              "    }\n",
              "\n",
              "    .dataframe thead th {\n",
              "        text-align: right;\n",
              "    }\n",
              "</style>\n",
              "<table border=\"1\" class=\"dataframe\">\n",
              "  <thead>\n",
              "    <tr style=\"text-align: right;\">\n",
              "      <th></th>\n",
              "      <th>has_null</th>\n",
              "      <th>gender</th>\n",
              "      <th>age</th>\n",
              "      <th>age_o</th>\n",
              "      <th>race</th>\n",
              "      <th>race_o</th>\n",
              "      <th>importance_same_race</th>\n",
              "      <th>importance_same_religion</th>\n",
              "      <th>pref_o_attractive</th>\n",
              "      <th>pref_o_sincere</th>\n",
              "      <th>...</th>\n",
              "      <th>age_gap</th>\n",
              "      <th>age_gap_abs</th>\n",
              "      <th>same_race</th>\n",
              "      <th>same_race_point</th>\n",
              "      <th>attractive_p</th>\n",
              "      <th>sincere_p</th>\n",
              "      <th>intelligence_p</th>\n",
              "      <th>funny_p</th>\n",
              "      <th>ambitous_p</th>\n",
              "      <th>shared_interests_p</th>\n",
              "    </tr>\n",
              "  </thead>\n",
              "  <tbody>\n",
              "    <tr>\n",
              "      <th>0</th>\n",
              "      <td>0</td>\n",
              "      <td>female</td>\n",
              "      <td>21.00</td>\n",
              "      <td>27.00</td>\n",
              "      <td>Asian/PacificIslander/Asian-American</td>\n",
              "      <td>European/Caucasian-American</td>\n",
              "      <td>2.00</td>\n",
              "      <td>4.00</td>\n",
              "      <td>35.00</td>\n",
              "      <td>20.00</td>\n",
              "      <td>...</td>\n",
              "      <td>6.00</td>\n",
              "      <td>6.00</td>\n",
              "      <td>-1</td>\n",
              "      <td>-2.00</td>\n",
              "      <td>90.00</td>\n",
              "      <td>180.00</td>\n",
              "      <td>140.00</td>\n",
              "      <td>105.00</td>\n",
              "      <td>90.00</td>\n",
              "      <td>75.00</td>\n",
              "    </tr>\n",
              "    <tr>\n",
              "      <th>1</th>\n",
              "      <td>0</td>\n",
              "      <td>female</td>\n",
              "      <td>21.00</td>\n",
              "      <td>22.00</td>\n",
              "      <td>Asian/PacificIslander/Asian-American</td>\n",
              "      <td>European/Caucasian-American</td>\n",
              "      <td>2.00</td>\n",
              "      <td>4.00</td>\n",
              "      <td>60.00</td>\n",
              "      <td>0.00</td>\n",
              "      <td>...</td>\n",
              "      <td>1.00</td>\n",
              "      <td>1.00</td>\n",
              "      <td>-1</td>\n",
              "      <td>-2.00</td>\n",
              "      <td>105.00</td>\n",
              "      <td>160.00</td>\n",
              "      <td>140.00</td>\n",
              "      <td>120.00</td>\n",
              "      <td>75.00</td>\n",
              "      <td>90.00</td>\n",
              "    </tr>\n",
              "    <tr>\n",
              "      <th>2</th>\n",
              "      <td>1</td>\n",
              "      <td>female</td>\n",
              "      <td>21.00</td>\n",
              "      <td>22.00</td>\n",
              "      <td>Asian/PacificIslander/Asian-American</td>\n",
              "      <td>Asian/PacificIslander/Asian-American</td>\n",
              "      <td>2.00</td>\n",
              "      <td>4.00</td>\n",
              "      <td>19.00</td>\n",
              "      <td>18.00</td>\n",
              "      <td>...</td>\n",
              "      <td>1.00</td>\n",
              "      <td>1.00</td>\n",
              "      <td>1</td>\n",
              "      <td>2.00</td>\n",
              "      <td>75.00</td>\n",
              "      <td>160.00</td>\n",
              "      <td>180.00</td>\n",
              "      <td>120.00</td>\n",
              "      <td>75.00</td>\n",
              "      <td>105.00</td>\n",
              "    </tr>\n",
              "    <tr>\n",
              "      <th>3</th>\n",
              "      <td>0</td>\n",
              "      <td>female</td>\n",
              "      <td>21.00</td>\n",
              "      <td>23.00</td>\n",
              "      <td>Asian/PacificIslander/Asian-American</td>\n",
              "      <td>European/Caucasian-American</td>\n",
              "      <td>2.00</td>\n",
              "      <td>4.00</td>\n",
              "      <td>30.00</td>\n",
              "      <td>5.00</td>\n",
              "      <td>...</td>\n",
              "      <td>2.00</td>\n",
              "      <td>2.00</td>\n",
              "      <td>-1</td>\n",
              "      <td>-2.00</td>\n",
              "      <td>105.00</td>\n",
              "      <td>120.00</td>\n",
              "      <td>160.00</td>\n",
              "      <td>105.00</td>\n",
              "      <td>90.00</td>\n",
              "      <td>120.00</td>\n",
              "    </tr>\n",
              "    <tr>\n",
              "      <th>4</th>\n",
              "      <td>0</td>\n",
              "      <td>female</td>\n",
              "      <td>21.00</td>\n",
              "      <td>24.00</td>\n",
              "      <td>Asian/PacificIslander/Asian-American</td>\n",
              "      <td>Latino/HispanicAmerican</td>\n",
              "      <td>2.00</td>\n",
              "      <td>4.00</td>\n",
              "      <td>30.00</td>\n",
              "      <td>10.00</td>\n",
              "      <td>...</td>\n",
              "      <td>3.00</td>\n",
              "      <td>3.00</td>\n",
              "      <td>-1</td>\n",
              "      <td>-2.00</td>\n",
              "      <td>75.00</td>\n",
              "      <td>120.00</td>\n",
              "      <td>140.00</td>\n",
              "      <td>105.00</td>\n",
              "      <td>90.00</td>\n",
              "      <td>90.00</td>\n",
              "    </tr>\n",
              "  </tbody>\n",
              "</table>\n",
              "<p>5 rows × 49 columns</p>\n",
              "</div>\n",
              "      <button class=\"colab-df-convert\" onclick=\"convertToInteractive('df-00d33eeb-8b51-4830-8749-48032b5d4a6f')\"\n",
              "              title=\"Convert this dataframe to an interactive table.\"\n",
              "              style=\"display:none;\">\n",
              "        \n",
              "  <svg xmlns=\"http://www.w3.org/2000/svg\" height=\"24px\"viewBox=\"0 0 24 24\"\n",
              "       width=\"24px\">\n",
              "    <path d=\"M0 0h24v24H0V0z\" fill=\"none\"/>\n",
              "    <path d=\"M18.56 5.44l.94 2.06.94-2.06 2.06-.94-2.06-.94-.94-2.06-.94 2.06-2.06.94zm-11 1L8.5 8.5l.94-2.06 2.06-.94-2.06-.94L8.5 2.5l-.94 2.06-2.06.94zm10 10l.94 2.06.94-2.06 2.06-.94-2.06-.94-.94-2.06-.94 2.06-2.06.94z\"/><path d=\"M17.41 7.96l-1.37-1.37c-.4-.4-.92-.59-1.43-.59-.52 0-1.04.2-1.43.59L10.3 9.45l-7.72 7.72c-.78.78-.78 2.05 0 2.83L4 21.41c.39.39.9.59 1.41.59.51 0 1.02-.2 1.41-.59l7.78-7.78 2.81-2.81c.8-.78.8-2.07 0-2.86zM5.41 20L4 18.59l7.72-7.72 1.47 1.35L5.41 20z\"/>\n",
              "  </svg>\n",
              "      </button>\n",
              "      \n",
              "  <style>\n",
              "    .colab-df-container {\n",
              "      display:flex;\n",
              "      flex-wrap:wrap;\n",
              "      gap: 12px;\n",
              "    }\n",
              "\n",
              "    .colab-df-convert {\n",
              "      background-color: #E8F0FE;\n",
              "      border: none;\n",
              "      border-radius: 50%;\n",
              "      cursor: pointer;\n",
              "      display: none;\n",
              "      fill: #1967D2;\n",
              "      height: 32px;\n",
              "      padding: 0 0 0 0;\n",
              "      width: 32px;\n",
              "    }\n",
              "\n",
              "    .colab-df-convert:hover {\n",
              "      background-color: #E2EBFA;\n",
              "      box-shadow: 0px 1px 2px rgba(60, 64, 67, 0.3), 0px 1px 3px 1px rgba(60, 64, 67, 0.15);\n",
              "      fill: #174EA6;\n",
              "    }\n",
              "\n",
              "    [theme=dark] .colab-df-convert {\n",
              "      background-color: #3B4455;\n",
              "      fill: #D2E3FC;\n",
              "    }\n",
              "\n",
              "    [theme=dark] .colab-df-convert:hover {\n",
              "      background-color: #434B5C;\n",
              "      box-shadow: 0px 1px 3px 1px rgba(0, 0, 0, 0.15);\n",
              "      filter: drop-shadow(0px 1px 2px rgba(0, 0, 0, 0.3));\n",
              "      fill: #FFFFFF;\n",
              "    }\n",
              "  </style>\n",
              "\n",
              "      <script>\n",
              "        const buttonEl =\n",
              "          document.querySelector('#df-00d33eeb-8b51-4830-8749-48032b5d4a6f button.colab-df-convert');\n",
              "        buttonEl.style.display =\n",
              "          google.colab.kernel.accessAllowed ? 'block' : 'none';\n",
              "\n",
              "        async function convertToInteractive(key) {\n",
              "          const element = document.querySelector('#df-00d33eeb-8b51-4830-8749-48032b5d4a6f');\n",
              "          const dataTable =\n",
              "            await google.colab.kernel.invokeFunction('convertToInteractive',\n",
              "                                                     [key], {});\n",
              "          if (!dataTable) return;\n",
              "\n",
              "          const docLinkHtml = 'Like what you see? Visit the ' +\n",
              "            '<a target=\"_blank\" href=https://colab.research.google.com/notebooks/data_table.ipynb>data table notebook</a>'\n",
              "            + ' to learn more about interactive tables.';\n",
              "          element.innerHTML = '';\n",
              "          dataTable['output_type'] = 'display_data';\n",
              "          await google.colab.output.renderOutput(dataTable, element);\n",
              "          const docLink = document.createElement('div');\n",
              "          docLink.innerHTML = docLinkHtml;\n",
              "          element.appendChild(docLink);\n",
              "        }\n",
              "      </script>\n",
              "    </div>\n",
              "  </div>\n",
              "  "
            ]
          },
          "metadata": {},
          "execution_count": 67
        }
      ]
    },
    {
      "cell_type": "code",
      "source": [
        "df.columns"
      ],
      "metadata": {
        "colab": {
          "base_uri": "https://localhost:8080/"
        },
        "id": "uzbfbWs0fwRV",
        "outputId": "04dea036-d34b-48d3-c70d-939a218a51f0"
      },
      "execution_count": 68,
      "outputs": [
        {
          "output_type": "execute_result",
          "data": {
            "text/plain": [
              "Index(['has_null', 'gender', 'age', 'age_o', 'race', 'race_o',\n",
              "       'importance_same_race', 'importance_same_religion', 'pref_o_attractive',\n",
              "       'pref_o_sincere', 'pref_o_intelligence', 'pref_o_funny',\n",
              "       'pref_o_ambitious', 'pref_o_shared_interests', 'attractive_o',\n",
              "       'sincere_o', 'intelligence_o', 'funny_o', 'ambitous_o',\n",
              "       'shared_interests_o', 'attractive_important', 'sincere_important',\n",
              "       'intellicence_important', 'funny_important', 'ambtition_important',\n",
              "       'shared_interests_important', 'attractive_partner', 'sincere_partner',\n",
              "       'intelligence_partner', 'funny_partner', 'ambition_partner',\n",
              "       'shared_interests_partner', 'interests_correlate',\n",
              "       'expected_happy_with_sd_people', 'expected_num_interested_in_me',\n",
              "       'like', 'guess_prob_liked', 'met', 'match', 'age_gap', 'age_gap_abs',\n",
              "       'same_race', 'same_race_point', 'attractive_p', 'sincere_p',\n",
              "       'intelligence_p', 'funny_p', 'ambitous_p', 'shared_interests_p'],\n",
              "      dtype='object')"
            ]
          },
          "metadata": {},
          "execution_count": 68
        }
      ]
    },
    {
      "cell_type": "markdown",
      "source": [
        "## 🌊 범주형 변수 dummy 변환\n",
        "\n"
      ],
      "metadata": {
        "id": "LliIjtFYfxWj"
      }
    },
    {
      "cell_type": "code",
      "source": [
        "df = pd.get_dummies(\n",
        "    df, columns=df.describe(include='O').columns, drop_first=True)\n",
        "df"
      ],
      "metadata": {
        "colab": {
          "base_uri": "https://localhost:8080/",
          "height": 505
        },
        "id": "NpN1ECzVf00C",
        "outputId": "4fb9d6c1-749f-4416-aaa8-707cf51f62eb"
      },
      "execution_count": 69,
      "outputs": [
        {
          "output_type": "execute_result",
          "data": {
            "text/plain": [
              "      has_null   age  age_o  importance_same_race  importance_same_religion  \\\n",
              "0            0 21.00  27.00                  2.00                      4.00   \n",
              "1            0 21.00  22.00                  2.00                      4.00   \n",
              "2            1 21.00  22.00                  2.00                      4.00   \n",
              "3            0 21.00  23.00                  2.00                      4.00   \n",
              "4            0 21.00  24.00                  2.00                      4.00   \n",
              "...        ...   ...    ...                   ...                       ...   \n",
              "8372         1 25.00  24.00                  1.00                      1.00   \n",
              "8373         1 25.00  26.00                  1.00                      1.00   \n",
              "8374         1 25.00  24.00                  1.00                      1.00   \n",
              "8376         1 25.00  22.00                  1.00                      1.00   \n",
              "8377         1 25.00  22.00                  1.00                      1.00   \n",
              "\n",
              "      pref_o_attractive  pref_o_sincere  pref_o_intelligence  pref_o_funny  \\\n",
              "0                 35.00           20.00                20.00         20.00   \n",
              "1                 60.00            0.00                 0.00         40.00   \n",
              "2                 19.00           18.00                19.00         18.00   \n",
              "3                 30.00            5.00                15.00         40.00   \n",
              "4                 30.00           10.00                20.00         10.00   \n",
              "...                 ...             ...                  ...           ...   \n",
              "8372              10.00           15.00                30.00         20.00   \n",
              "8373              10.00           10.00                30.00         20.00   \n",
              "8374              50.00           20.00                10.00          5.00   \n",
              "8376              10.00           25.00                25.00         10.00   \n",
              "8377              20.00           20.00                10.00         15.00   \n",
              "\n",
              "      pref_o_ambitious  ...  shared_interests_p  gender_male  \\\n",
              "0                 0.00  ...               75.00            0   \n",
              "1                 0.00  ...               90.00            0   \n",
              "2                14.00  ...              105.00            0   \n",
              "3                 5.00  ...              120.00            0   \n",
              "4                10.00  ...               90.00            0   \n",
              "...                ...  ...                 ...          ...   \n",
              "8372             15.00  ...              -99.00            1   \n",
              "8373             10.00  ...              -99.00            1   \n",
              "8374             10.00  ...              -99.00            1   \n",
              "8376             10.00  ...                0.00            1   \n",
              "8377              5.00  ...                0.00            1   \n",
              "\n",
              "      race_Black/AfricanAmerican  race_European/Caucasian-American  \\\n",
              "0                              0                                 0   \n",
              "1                              0                                 0   \n",
              "2                              0                                 0   \n",
              "3                              0                                 0   \n",
              "4                              0                                 0   \n",
              "...                          ...                               ...   \n",
              "8372                           0                                 1   \n",
              "8373                           0                                 1   \n",
              "8374                           0                                 1   \n",
              "8376                           0                                 1   \n",
              "8377                           0                                 1   \n",
              "\n",
              "      race_Latino/HispanicAmerican  race_Other  race_o_Black/AfricanAmerican  \\\n",
              "0                                0           0                             0   \n",
              "1                                0           0                             0   \n",
              "2                                0           0                             0   \n",
              "3                                0           0                             0   \n",
              "4                                0           0                             0   \n",
              "...                            ...         ...                           ...   \n",
              "8372                             0           0                             0   \n",
              "8373                             0           0                             0   \n",
              "8374                             0           0                             0   \n",
              "8376                             0           0                             0   \n",
              "8377                             0           0                             0   \n",
              "\n",
              "      race_o_European/Caucasian-American  race_o_Latino/HispanicAmerican  \\\n",
              "0                                      1                               0   \n",
              "1                                      1                               0   \n",
              "2                                      0                               0   \n",
              "3                                      1                               0   \n",
              "4                                      0                               1   \n",
              "...                                  ...                             ...   \n",
              "8372                                   1                               0   \n",
              "8373                                   0                               1   \n",
              "8374                                   0                               0   \n",
              "8376                                   0                               0   \n",
              "8377                                   0                               0   \n",
              "\n",
              "      race_o_Other  \n",
              "0                0  \n",
              "1                0  \n",
              "2                0  \n",
              "3                0  \n",
              "4                0  \n",
              "...            ...  \n",
              "8372             0  \n",
              "8373             0  \n",
              "8374             1  \n",
              "8376             0  \n",
              "8377             0  \n",
              "\n",
              "[8130 rows x 55 columns]"
            ],
            "text/html": [
              "\n",
              "  <div id=\"df-09a90e6e-6bb3-4099-b3eb-ddf71da13e12\">\n",
              "    <div class=\"colab-df-container\">\n",
              "      <div>\n",
              "<style scoped>\n",
              "    .dataframe tbody tr th:only-of-type {\n",
              "        vertical-align: middle;\n",
              "    }\n",
              "\n",
              "    .dataframe tbody tr th {\n",
              "        vertical-align: top;\n",
              "    }\n",
              "\n",
              "    .dataframe thead th {\n",
              "        text-align: right;\n",
              "    }\n",
              "</style>\n",
              "<table border=\"1\" class=\"dataframe\">\n",
              "  <thead>\n",
              "    <tr style=\"text-align: right;\">\n",
              "      <th></th>\n",
              "      <th>has_null</th>\n",
              "      <th>age</th>\n",
              "      <th>age_o</th>\n",
              "      <th>importance_same_race</th>\n",
              "      <th>importance_same_religion</th>\n",
              "      <th>pref_o_attractive</th>\n",
              "      <th>pref_o_sincere</th>\n",
              "      <th>pref_o_intelligence</th>\n",
              "      <th>pref_o_funny</th>\n",
              "      <th>pref_o_ambitious</th>\n",
              "      <th>...</th>\n",
              "      <th>shared_interests_p</th>\n",
              "      <th>gender_male</th>\n",
              "      <th>race_Black/AfricanAmerican</th>\n",
              "      <th>race_European/Caucasian-American</th>\n",
              "      <th>race_Latino/HispanicAmerican</th>\n",
              "      <th>race_Other</th>\n",
              "      <th>race_o_Black/AfricanAmerican</th>\n",
              "      <th>race_o_European/Caucasian-American</th>\n",
              "      <th>race_o_Latino/HispanicAmerican</th>\n",
              "      <th>race_o_Other</th>\n",
              "    </tr>\n",
              "  </thead>\n",
              "  <tbody>\n",
              "    <tr>\n",
              "      <th>0</th>\n",
              "      <td>0</td>\n",
              "      <td>21.00</td>\n",
              "      <td>27.00</td>\n",
              "      <td>2.00</td>\n",
              "      <td>4.00</td>\n",
              "      <td>35.00</td>\n",
              "      <td>20.00</td>\n",
              "      <td>20.00</td>\n",
              "      <td>20.00</td>\n",
              "      <td>0.00</td>\n",
              "      <td>...</td>\n",
              "      <td>75.00</td>\n",
              "      <td>0</td>\n",
              "      <td>0</td>\n",
              "      <td>0</td>\n",
              "      <td>0</td>\n",
              "      <td>0</td>\n",
              "      <td>0</td>\n",
              "      <td>1</td>\n",
              "      <td>0</td>\n",
              "      <td>0</td>\n",
              "    </tr>\n",
              "    <tr>\n",
              "      <th>1</th>\n",
              "      <td>0</td>\n",
              "      <td>21.00</td>\n",
              "      <td>22.00</td>\n",
              "      <td>2.00</td>\n",
              "      <td>4.00</td>\n",
              "      <td>60.00</td>\n",
              "      <td>0.00</td>\n",
              "      <td>0.00</td>\n",
              "      <td>40.00</td>\n",
              "      <td>0.00</td>\n",
              "      <td>...</td>\n",
              "      <td>90.00</td>\n",
              "      <td>0</td>\n",
              "      <td>0</td>\n",
              "      <td>0</td>\n",
              "      <td>0</td>\n",
              "      <td>0</td>\n",
              "      <td>0</td>\n",
              "      <td>1</td>\n",
              "      <td>0</td>\n",
              "      <td>0</td>\n",
              "    </tr>\n",
              "    <tr>\n",
              "      <th>2</th>\n",
              "      <td>1</td>\n",
              "      <td>21.00</td>\n",
              "      <td>22.00</td>\n",
              "      <td>2.00</td>\n",
              "      <td>4.00</td>\n",
              "      <td>19.00</td>\n",
              "      <td>18.00</td>\n",
              "      <td>19.00</td>\n",
              "      <td>18.00</td>\n",
              "      <td>14.00</td>\n",
              "      <td>...</td>\n",
              "      <td>105.00</td>\n",
              "      <td>0</td>\n",
              "      <td>0</td>\n",
              "      <td>0</td>\n",
              "      <td>0</td>\n",
              "      <td>0</td>\n",
              "      <td>0</td>\n",
              "      <td>0</td>\n",
              "      <td>0</td>\n",
              "      <td>0</td>\n",
              "    </tr>\n",
              "    <tr>\n",
              "      <th>3</th>\n",
              "      <td>0</td>\n",
              "      <td>21.00</td>\n",
              "      <td>23.00</td>\n",
              "      <td>2.00</td>\n",
              "      <td>4.00</td>\n",
              "      <td>30.00</td>\n",
              "      <td>5.00</td>\n",
              "      <td>15.00</td>\n",
              "      <td>40.00</td>\n",
              "      <td>5.00</td>\n",
              "      <td>...</td>\n",
              "      <td>120.00</td>\n",
              "      <td>0</td>\n",
              "      <td>0</td>\n",
              "      <td>0</td>\n",
              "      <td>0</td>\n",
              "      <td>0</td>\n",
              "      <td>0</td>\n",
              "      <td>1</td>\n",
              "      <td>0</td>\n",
              "      <td>0</td>\n",
              "    </tr>\n",
              "    <tr>\n",
              "      <th>4</th>\n",
              "      <td>0</td>\n",
              "      <td>21.00</td>\n",
              "      <td>24.00</td>\n",
              "      <td>2.00</td>\n",
              "      <td>4.00</td>\n",
              "      <td>30.00</td>\n",
              "      <td>10.00</td>\n",
              "      <td>20.00</td>\n",
              "      <td>10.00</td>\n",
              "      <td>10.00</td>\n",
              "      <td>...</td>\n",
              "      <td>90.00</td>\n",
              "      <td>0</td>\n",
              "      <td>0</td>\n",
              "      <td>0</td>\n",
              "      <td>0</td>\n",
              "      <td>0</td>\n",
              "      <td>0</td>\n",
              "      <td>0</td>\n",
              "      <td>1</td>\n",
              "      <td>0</td>\n",
              "    </tr>\n",
              "    <tr>\n",
              "      <th>...</th>\n",
              "      <td>...</td>\n",
              "      <td>...</td>\n",
              "      <td>...</td>\n",
              "      <td>...</td>\n",
              "      <td>...</td>\n",
              "      <td>...</td>\n",
              "      <td>...</td>\n",
              "      <td>...</td>\n",
              "      <td>...</td>\n",
              "      <td>...</td>\n",
              "      <td>...</td>\n",
              "      <td>...</td>\n",
              "      <td>...</td>\n",
              "      <td>...</td>\n",
              "      <td>...</td>\n",
              "      <td>...</td>\n",
              "      <td>...</td>\n",
              "      <td>...</td>\n",
              "      <td>...</td>\n",
              "      <td>...</td>\n",
              "      <td>...</td>\n",
              "    </tr>\n",
              "    <tr>\n",
              "      <th>8372</th>\n",
              "      <td>1</td>\n",
              "      <td>25.00</td>\n",
              "      <td>24.00</td>\n",
              "      <td>1.00</td>\n",
              "      <td>1.00</td>\n",
              "      <td>10.00</td>\n",
              "      <td>15.00</td>\n",
              "      <td>30.00</td>\n",
              "      <td>20.00</td>\n",
              "      <td>15.00</td>\n",
              "      <td>...</td>\n",
              "      <td>-99.00</td>\n",
              "      <td>1</td>\n",
              "      <td>0</td>\n",
              "      <td>1</td>\n",
              "      <td>0</td>\n",
              "      <td>0</td>\n",
              "      <td>0</td>\n",
              "      <td>1</td>\n",
              "      <td>0</td>\n",
              "      <td>0</td>\n",
              "    </tr>\n",
              "    <tr>\n",
              "      <th>8373</th>\n",
              "      <td>1</td>\n",
              "      <td>25.00</td>\n",
              "      <td>26.00</td>\n",
              "      <td>1.00</td>\n",
              "      <td>1.00</td>\n",
              "      <td>10.00</td>\n",
              "      <td>10.00</td>\n",
              "      <td>30.00</td>\n",
              "      <td>20.00</td>\n",
              "      <td>10.00</td>\n",
              "      <td>...</td>\n",
              "      <td>-99.00</td>\n",
              "      <td>1</td>\n",
              "      <td>0</td>\n",
              "      <td>1</td>\n",
              "      <td>0</td>\n",
              "      <td>0</td>\n",
              "      <td>0</td>\n",
              "      <td>0</td>\n",
              "      <td>1</td>\n",
              "      <td>0</td>\n",
              "    </tr>\n",
              "    <tr>\n",
              "      <th>8374</th>\n",
              "      <td>1</td>\n",
              "      <td>25.00</td>\n",
              "      <td>24.00</td>\n",
              "      <td>1.00</td>\n",
              "      <td>1.00</td>\n",
              "      <td>50.00</td>\n",
              "      <td>20.00</td>\n",
              "      <td>10.00</td>\n",
              "      <td>5.00</td>\n",
              "      <td>10.00</td>\n",
              "      <td>...</td>\n",
              "      <td>-99.00</td>\n",
              "      <td>1</td>\n",
              "      <td>0</td>\n",
              "      <td>1</td>\n",
              "      <td>0</td>\n",
              "      <td>0</td>\n",
              "      <td>0</td>\n",
              "      <td>0</td>\n",
              "      <td>0</td>\n",
              "      <td>1</td>\n",
              "    </tr>\n",
              "    <tr>\n",
              "      <th>8376</th>\n",
              "      <td>1</td>\n",
              "      <td>25.00</td>\n",
              "      <td>22.00</td>\n",
              "      <td>1.00</td>\n",
              "      <td>1.00</td>\n",
              "      <td>10.00</td>\n",
              "      <td>25.00</td>\n",
              "      <td>25.00</td>\n",
              "      <td>10.00</td>\n",
              "      <td>10.00</td>\n",
              "      <td>...</td>\n",
              "      <td>0.00</td>\n",
              "      <td>1</td>\n",
              "      <td>0</td>\n",
              "      <td>1</td>\n",
              "      <td>0</td>\n",
              "      <td>0</td>\n",
              "      <td>0</td>\n",
              "      <td>0</td>\n",
              "      <td>0</td>\n",
              "      <td>0</td>\n",
              "    </tr>\n",
              "    <tr>\n",
              "      <th>8377</th>\n",
              "      <td>1</td>\n",
              "      <td>25.00</td>\n",
              "      <td>22.00</td>\n",
              "      <td>1.00</td>\n",
              "      <td>1.00</td>\n",
              "      <td>20.00</td>\n",
              "      <td>20.00</td>\n",
              "      <td>10.00</td>\n",
              "      <td>15.00</td>\n",
              "      <td>5.00</td>\n",
              "      <td>...</td>\n",
              "      <td>0.00</td>\n",
              "      <td>1</td>\n",
              "      <td>0</td>\n",
              "      <td>1</td>\n",
              "      <td>0</td>\n",
              "      <td>0</td>\n",
              "      <td>0</td>\n",
              "      <td>0</td>\n",
              "      <td>0</td>\n",
              "      <td>0</td>\n",
              "    </tr>\n",
              "  </tbody>\n",
              "</table>\n",
              "<p>8130 rows × 55 columns</p>\n",
              "</div>\n",
              "      <button class=\"colab-df-convert\" onclick=\"convertToInteractive('df-09a90e6e-6bb3-4099-b3eb-ddf71da13e12')\"\n",
              "              title=\"Convert this dataframe to an interactive table.\"\n",
              "              style=\"display:none;\">\n",
              "        \n",
              "  <svg xmlns=\"http://www.w3.org/2000/svg\" height=\"24px\"viewBox=\"0 0 24 24\"\n",
              "       width=\"24px\">\n",
              "    <path d=\"M0 0h24v24H0V0z\" fill=\"none\"/>\n",
              "    <path d=\"M18.56 5.44l.94 2.06.94-2.06 2.06-.94-2.06-.94-.94-2.06-.94 2.06-2.06.94zm-11 1L8.5 8.5l.94-2.06 2.06-.94-2.06-.94L8.5 2.5l-.94 2.06-2.06.94zm10 10l.94 2.06.94-2.06 2.06-.94-2.06-.94-.94-2.06-.94 2.06-2.06.94z\"/><path d=\"M17.41 7.96l-1.37-1.37c-.4-.4-.92-.59-1.43-.59-.52 0-1.04.2-1.43.59L10.3 9.45l-7.72 7.72c-.78.78-.78 2.05 0 2.83L4 21.41c.39.39.9.59 1.41.59.51 0 1.02-.2 1.41-.59l7.78-7.78 2.81-2.81c.8-.78.8-2.07 0-2.86zM5.41 20L4 18.59l7.72-7.72 1.47 1.35L5.41 20z\"/>\n",
              "  </svg>\n",
              "      </button>\n",
              "      \n",
              "  <style>\n",
              "    .colab-df-container {\n",
              "      display:flex;\n",
              "      flex-wrap:wrap;\n",
              "      gap: 12px;\n",
              "    }\n",
              "\n",
              "    .colab-df-convert {\n",
              "      background-color: #E8F0FE;\n",
              "      border: none;\n",
              "      border-radius: 50%;\n",
              "      cursor: pointer;\n",
              "      display: none;\n",
              "      fill: #1967D2;\n",
              "      height: 32px;\n",
              "      padding: 0 0 0 0;\n",
              "      width: 32px;\n",
              "    }\n",
              "\n",
              "    .colab-df-convert:hover {\n",
              "      background-color: #E2EBFA;\n",
              "      box-shadow: 0px 1px 2px rgba(60, 64, 67, 0.3), 0px 1px 3px 1px rgba(60, 64, 67, 0.15);\n",
              "      fill: #174EA6;\n",
              "    }\n",
              "\n",
              "    [theme=dark] .colab-df-convert {\n",
              "      background-color: #3B4455;\n",
              "      fill: #D2E3FC;\n",
              "    }\n",
              "\n",
              "    [theme=dark] .colab-df-convert:hover {\n",
              "      background-color: #434B5C;\n",
              "      box-shadow: 0px 1px 3px 1px rgba(0, 0, 0, 0.15);\n",
              "      filter: drop-shadow(0px 1px 2px rgba(0, 0, 0, 0.3));\n",
              "      fill: #FFFFFF;\n",
              "    }\n",
              "  </style>\n",
              "\n",
              "      <script>\n",
              "        const buttonEl =\n",
              "          document.querySelector('#df-09a90e6e-6bb3-4099-b3eb-ddf71da13e12 button.colab-df-convert');\n",
              "        buttonEl.style.display =\n",
              "          google.colab.kernel.accessAllowed ? 'block' : 'none';\n",
              "\n",
              "        async function convertToInteractive(key) {\n",
              "          const element = document.querySelector('#df-09a90e6e-6bb3-4099-b3eb-ddf71da13e12');\n",
              "          const dataTable =\n",
              "            await google.colab.kernel.invokeFunction('convertToInteractive',\n",
              "                                                     [key], {});\n",
              "          if (!dataTable) return;\n",
              "\n",
              "          const docLinkHtml = 'Like what you see? Visit the ' +\n",
              "            '<a target=\"_blank\" href=https://colab.research.google.com/notebooks/data_table.ipynb>data table notebook</a>'\n",
              "            + ' to learn more about interactive tables.';\n",
              "          element.innerHTML = '';\n",
              "          dataTable['output_type'] = 'display_data';\n",
              "          await google.colab.output.renderOutput(dataTable, element);\n",
              "          const docLink = document.createElement('div');\n",
              "          docLink.innerHTML = docLinkHtml;\n",
              "          element.appendChild(docLink);\n",
              "        }\n",
              "      </script>\n",
              "    </div>\n",
              "  </div>\n",
              "  "
            ]
          },
          "metadata": {},
          "execution_count": 69
        }
      ]
    },
    {
      "cell_type": "code",
      "source": [
        "df.info()"
      ],
      "metadata": {
        "colab": {
          "base_uri": "https://localhost:8080/"
        },
        "id": "9Dxy8ds5f1Bf",
        "outputId": "517313a2-8b9c-4f20-a8bd-b7516b38914e"
      },
      "execution_count": 70,
      "outputs": [
        {
          "output_type": "stream",
          "name": "stdout",
          "text": [
            "<class 'pandas.core.frame.DataFrame'>\n",
            "Int64Index: 8130 entries, 0 to 8377\n",
            "Data columns (total 55 columns):\n",
            " #   Column                              Non-Null Count  Dtype  \n",
            "---  ------                              --------------  -----  \n",
            " 0   has_null                            8130 non-null   int64  \n",
            " 1   age                                 8130 non-null   float64\n",
            " 2   age_o                               8130 non-null   float64\n",
            " 3   importance_same_race                8130 non-null   float64\n",
            " 4   importance_same_religion            8130 non-null   float64\n",
            " 5   pref_o_attractive                   8130 non-null   float64\n",
            " 6   pref_o_sincere                      8130 non-null   float64\n",
            " 7   pref_o_intelligence                 8130 non-null   float64\n",
            " 8   pref_o_funny                        8130 non-null   float64\n",
            " 9   pref_o_ambitious                    8130 non-null   float64\n",
            " 10  pref_o_shared_interests             8130 non-null   float64\n",
            " 11  attractive_o                        8130 non-null   float64\n",
            " 12  sincere_o                           8130 non-null   float64\n",
            " 13  intelligence_o                      8130 non-null   float64\n",
            " 14  funny_o                             8130 non-null   float64\n",
            " 15  ambitous_o                          8130 non-null   float64\n",
            " 16  shared_interests_o                  8130 non-null   float64\n",
            " 17  attractive_important                8130 non-null   float64\n",
            " 18  sincere_important                   8130 non-null   float64\n",
            " 19  intellicence_important              8130 non-null   float64\n",
            " 20  funny_important                     8130 non-null   float64\n",
            " 21  ambtition_important                 8130 non-null   float64\n",
            " 22  shared_interests_important          8130 non-null   float64\n",
            " 23  attractive_partner                  8130 non-null   float64\n",
            " 24  sincere_partner                     8130 non-null   float64\n",
            " 25  intelligence_partner                8130 non-null   float64\n",
            " 26  funny_partner                       8130 non-null   float64\n",
            " 27  ambition_partner                    8130 non-null   float64\n",
            " 28  shared_interests_partner            8130 non-null   float64\n",
            " 29  interests_correlate                 8130 non-null   float64\n",
            " 30  expected_happy_with_sd_people       8130 non-null   float64\n",
            " 31  expected_num_interested_in_me       8130 non-null   float64\n",
            " 32  like                                8130 non-null   float64\n",
            " 33  guess_prob_liked                    8130 non-null   float64\n",
            " 34  met                                 8130 non-null   float64\n",
            " 35  match                               8130 non-null   int64  \n",
            " 36  age_gap                             8130 non-null   float64\n",
            " 37  age_gap_abs                         8130 non-null   float64\n",
            " 38  same_race                           8130 non-null   int64  \n",
            " 39  same_race_point                     8130 non-null   float64\n",
            " 40  attractive_p                        8130 non-null   float64\n",
            " 41  sincere_p                           8130 non-null   float64\n",
            " 42  intelligence_p                      8130 non-null   float64\n",
            " 43  funny_p                             8130 non-null   float64\n",
            " 44  ambitous_p                          8130 non-null   float64\n",
            " 45  shared_interests_p                  8130 non-null   float64\n",
            " 46  gender_male                         8130 non-null   uint8  \n",
            " 47  race_Black/AfricanAmerican          8130 non-null   uint8  \n",
            " 48  race_European/Caucasian-American    8130 non-null   uint8  \n",
            " 49  race_Latino/HispanicAmerican        8130 non-null   uint8  \n",
            " 50  race_Other                          8130 non-null   uint8  \n",
            " 51  race_o_Black/AfricanAmerican        8130 non-null   uint8  \n",
            " 52  race_o_European/Caucasian-American  8130 non-null   uint8  \n",
            " 53  race_o_Latino/HispanicAmerican      8130 non-null   uint8  \n",
            " 54  race_o_Other                        8130 non-null   uint8  \n",
            "dtypes: float64(43), int64(3), uint8(9)\n",
            "memory usage: 3.0 MB\n"
          ]
        }
      ]
    },
    {
      "cell_type": "markdown",
      "source": [
        "# 🌏모델링 & 예측 평가"
      ],
      "metadata": {
        "id": "ztXnDTlzh4St"
      }
    },
    {
      "cell_type": "code",
      "source": [
        "from sklearn.model_selection import train_test_split\n",
        "\n",
        "X = df.drop('match', axis = 1)\n",
        "y = df['match']\n",
        "\n",
        "X_train, X_test, y_train, y_test = train_test_split(X, y , test_size = 0.2, random_state = 230)"
      ],
      "metadata": {
        "id": "_SQnwF0GiBxb"
      },
      "execution_count": 71,
      "outputs": []
    },
    {
      "cell_type": "code",
      "source": [
        "# xgboost 호출\n",
        "\n",
        "import xgboost as xgb"
      ],
      "metadata": {
        "id": "hzKz6Q8NiRbB"
      },
      "execution_count": 72,
      "outputs": []
    },
    {
      "cell_type": "code",
      "source": [
        "model = xgb.XGBClassifier(\n",
        "    n_estimators=500, # 결정트리 갯수\n",
        "    max_depth=5, # 각 트리의 최대 깊이\n",
        "    random_state=23,\n",
        "    n_jobs=-1) # cpu 참여\n",
        "model.fit(X_train, y_train)\n",
        "\n",
        "train_pred = model.predict(X_train)\n",
        "test_pred = model.predict(X_test)"
      ],
      "metadata": {
        "id": "KfWpsgSaiVKO"
      },
      "execution_count": 73,
      "outputs": []
    },
    {
      "cell_type": "code",
      "source": [
        "# 학습율\n",
        "accuracy_score(y_train, train_pred), # 99점"
      ],
      "metadata": {
        "colab": {
          "base_uri": "https://localhost:8080/"
        },
        "id": "wJhodwqKianX",
        "outputId": "68fd155c-f0fd-4a4a-d074-ab8b7d554e97"
      },
      "execution_count": 74,
      "outputs": [
        {
          "output_type": "execute_result",
          "data": {
            "text/plain": [
              "(0.9998462484624846,)"
            ]
          },
          "metadata": {},
          "execution_count": 74
        }
      ]
    },
    {
      "cell_type": "code",
      "source": [
        "# 시험율\n",
        "accuracy_score(y_test, test_pred) # 84점"
      ],
      "metadata": {
        "colab": {
          "base_uri": "https://localhost:8080/"
        },
        "id": "T56jfSlNjxDS",
        "outputId": "988e8ffb-d662-4c5f-bab9-76a7c4a2369e"
      },
      "execution_count": 75,
      "outputs": [
        {
          "output_type": "execute_result",
          "data": {
            "text/plain": [
              "0.8499384993849939"
            ]
          },
          "metadata": {},
          "execution_count": 75
        }
      ]
    },
    {
      "cell_type": "markdown",
      "source": [
        "# 💦 혼동행렬 제작"
      ],
      "metadata": {
        "id": "0WkTNEU9nogD"
      }
    },
    {
      "cell_type": "code",
      "source": [
        "from sklearn.metrics import confusion_matrix\n",
        "\n",
        "# 오른쪽 위 : 1종 오류 - 실제 틀린데 (0) 맞다고 예측 (1) - 68\n",
        "# 왼쪽 아래 : 2종 오류 - 실제 맞는데 (1) 틀리다고 예측 (0) - 147\n",
        "print(confusion_matrix(y_test, test_pred))\n",
        "cf_matrix = confusion_matrix(y_test, test_pred)\n",
        "cf_matrix\n",
        "group_names = ['TN','FP','FN','TP']\n",
        "group_counts = [\"{0:0.0f}\".format(value) for value in\n",
        "                cf_matrix.flatten()]\n",
        "group_percentages = [\"{0:.2%}\".format(value) for value in\n",
        "                     cf_matrix.flatten()/np.sum(cf_matrix)]\n",
        "labels = [f\"{v1}\\n{v2}\\n{v3}\" for v1, v2, v3 in\n",
        "          zip(group_names,group_counts,group_percentages)]\n",
        "labels = np.asarray(labels).reshape(2,2)\n",
        "sns.heatmap(cf_matrix, annot=labels, fmt='', cmap='coolwarm')\n",
        "plt.ylabel('True')\n",
        "plt.xlabel('Predicted')\n",
        "plt.show()\n",
        "# TP(양성을 양성으로 판단)\n",
        "# FN(양성을 음성으로 판단) -> 2종 오류 (맞는데 틀리다고)\n",
        "# FP(음성을 양성으로 판단) -> 1종 오류 (틀린데 맞다고)\n",
        "# TN(음성을 음성으로 판단) "
      ],
      "metadata": {
        "colab": {
          "base_uri": "https://localhost:8080/",
          "height": 315
        },
        "id": "EJCBiTNknk1I",
        "outputId": "c50f8079-6ce8-45c8-d20a-e6b34a10823c"
      },
      "execution_count": 76,
      "outputs": [
        {
          "output_type": "stream",
          "name": "stdout",
          "text": [
            "[[1269   58]\n",
            " [ 186  113]]\n"
          ]
        },
        {
          "output_type": "display_data",
          "data": {
            "text/plain": [
              "<Figure size 432x288 with 2 Axes>"
            ],
            "image/png": "[encoded data removed]"
          },
          "metadata": {
            "needs_background": "light"
          }
        }
      ]
    },
    {
      "cell_type": "code",
      "source": [],
      "metadata": {
        "id": "DBB_pyjAnk3C"
      },
      "execution_count": 76,
      "outputs": []
    },
    {
      "cell_type": "markdown",
      "source": [
        "# 📉 분류 리포트 (Classification Report)"
      ],
      "metadata": {
        "id": "ERgcQ6HcmuOr"
      }
    },
    {
      "cell_type": "code",
      "source": [
        "from sklearn.metrics import classification_report"
      ],
      "metadata": {
        "id": "Qs1GzTwgm61V"
      },
      "execution_count": 77,
      "outputs": []
    },
    {
      "cell_type": "code",
      "source": [
        "print(classification_report(y_test, test_pred))"
      ],
      "metadata": {
        "colab": {
          "base_uri": "https://localhost:8080/"
        },
        "id": "_eF08p76m9yJ",
        "outputId": "e2e996da-0dd7-48bb-8cda-ceb85cce55d0"
      },
      "execution_count": 78,
      "outputs": [
        {
          "output_type": "stream",
          "name": "stdout",
          "text": [
            "              precision    recall  f1-score   support\n",
            "\n",
            "           0       0.87      0.96      0.91      1327\n",
            "           1       0.66      0.38      0.48       299\n",
            "\n",
            "    accuracy                           0.85      1626\n",
            "   macro avg       0.77      0.67      0.70      1626\n",
            "weighted avg       0.83      0.85      0.83      1626\n",
            "\n"
          ]
        }
      ]
    },
    {
      "cell_type": "code",
      "source": [
        "# 학습률 : learning_rate\n",
        "# max_depth, subsample, nestimators\n",
        "# dictionary\n",
        "parameter = {\n",
        "    'learning_rate': [0.01, 0.1, 0.3], # 학습에 쓰이는 매개변수를 조절해서 최소 오차 허용을 조작 -> 보폭 수정\n",
        "    'max_depth': [5, 7, 10], # 트리의 깊이 제한 (오버피팅)\n",
        "    'subsample': [0.5, 0.7, 1], # 학습할 때 데이터 전체 쓰는 게 아니라, subsample 비율에 따라서 부분만 추출\n",
        "    'n_estimators': [300, 500, 1000] # 3의 4승인 81개\n",
        "}"
      ],
      "metadata": {
        "id": "i5pi-aVSq7Qt"
      },
      "execution_count": 79,
      "outputs": []
    },
    {
      "cell_type": "code",
      "source": [
        "# 그리드 서치 패키지\n",
        "# 호출\n",
        "\n",
        "from sklearn.model_selection import GridSearchCV"
      ],
      "metadata": {
        "id": "UyjHhBwJrgia"
      },
      "execution_count": 80,
      "outputs": []
    },
    {
      "cell_type": "code",
      "source": [
        "model = xgb.XGBClassifier()"
      ],
      "metadata": {
        "id": "qp9-93R02COd"
      },
      "execution_count": 81,
      "outputs": []
    },
    {
      "cell_type": "code",
      "source": [
        "# 모델, 패러미터 dictionary, n_jobs(최대로), scoring='f1', cv=5\n",
        "\n",
        "# cv = cross validation : kfold와 동일한 folding(교차검증) 기능입니다.\n",
        "gs_model = GridSearchCV(\n",
        "    # n_jobs : CPU 개수 (-1 : 최대로 사용 colab 2개)\n",
        "    # scoring : grid별로 모델이 만들어지는 것으로, 해당 모델 간의 비교를 진행\n",
        "    # cv : 얼마나 나눠서 평균치를 구해줄거냐 (Kfold에서의 K개)\n",
        "    model, parameter, n_jobs=-1, scoring='f1', cv=5\n",
        ")"
      ],
      "metadata": {
        "id": "rfqGpIgyrm7l"
      },
      "execution_count": 82,
      "outputs": []
    },
    {
      "cell_type": "code",
      "source": [
        "# 주의 (시간 다수 소요)\n",
        "gs_model.fit(X_train, y_train)"
      ],
      "metadata": {
        "id": "r8x65AZ1szBe",
        "colab": {
          "base_uri": "https://localhost:8080/",
          "height": 338
        },
        "outputId": "9d133251-3e79-40b4-c206-04f8d88d67a0"
      },
      "execution_count": 83,
      "outputs": [
        {
          "output_type": "error",
          "ename": "KeyboardInterrupt",
          "evalue": "ignored",
          "traceback": [
            "\u001b[0;31m---------------------------------------------------------------------------\u001b[0m",
            "\u001b[0;31mKeyboardInterrupt\u001b[0m                         Traceback (most recent call last)",
            "\u001b[0;32m<ipython-input-83-8b4f19573ff1>\u001b[0m in \u001b[0;36m<module>\u001b[0;34m\u001b[0m\n\u001b[1;32m      1\u001b[0m \u001b[0;31m# 주의 (시간 다수 소요)\u001b[0m\u001b[0;34m\u001b[0m\u001b[0;34m\u001b[0m\u001b[0;34m\u001b[0m\u001b[0m\n\u001b[0;32m----> 2\u001b[0;31m \u001b[0mgs_model\u001b[0m\u001b[0;34m.\u001b[0m\u001b[0mfit\u001b[0m\u001b[0;34m(\u001b[0m\u001b[0mX_train\u001b[0m\u001b[0;34m,\u001b[0m \u001b[0my_train\u001b[0m\u001b[0;34m)\u001b[0m\u001b[0;34m\u001b[0m\u001b[0;34m\u001b[0m\u001b[0m\n\u001b[0m",
            "\u001b[0;32m/usr/local/lib/python3.8/dist-packages/sklearn/model_selection/_search.py\u001b[0m in \u001b[0;36mfit\u001b[0;34m(self, X, y, groups, **fit_params)\u001b[0m\n\u001b[1;32m    889\u001b[0m                 \u001b[0;32mreturn\u001b[0m \u001b[0mresults\u001b[0m\u001b[0;34m\u001b[0m\u001b[0;34m\u001b[0m\u001b[0m\n\u001b[1;32m    890\u001b[0m \u001b[0;34m\u001b[0m\u001b[0m\n\u001b[0;32m--> 891\u001b[0;31m             \u001b[0mself\u001b[0m\u001b[0;34m.\u001b[0m\u001b[0m_run_search\u001b[0m\u001b[0;34m(\u001b[0m\u001b[0mevaluate_candidates\u001b[0m\u001b[0;34m)\u001b[0m\u001b[0;34m\u001b[0m\u001b[0;34m\u001b[0m\u001b[0m\n\u001b[0m\u001b[1;32m    892\u001b[0m \u001b[0;34m\u001b[0m\u001b[0m\n\u001b[1;32m    893\u001b[0m             \u001b[0;31m# multimetric is determined here because in the case of a callable\u001b[0m\u001b[0;34m\u001b[0m\u001b[0;34m\u001b[0m\u001b[0;34m\u001b[0m\u001b[0m\n",
            "\u001b[0;32m/usr/local/lib/python3.8/dist-packages/sklearn/model_selection/_search.py\u001b[0m in \u001b[0;36m_run_search\u001b[0;34m(self, evaluate_candidates)\u001b[0m\n\u001b[1;32m   1390\u001b[0m     \u001b[0;32mdef\u001b[0m \u001b[0m_run_search\u001b[0m\u001b[0;34m(\u001b[0m\u001b[0mself\u001b[0m\u001b[0;34m,\u001b[0m \u001b[0mevaluate_candidates\u001b[0m\u001b[0;34m)\u001b[0m\u001b[0;34m:\u001b[0m\u001b[0;34m\u001b[0m\u001b[0;34m\u001b[0m\u001b[0m\n\u001b[1;32m   1391\u001b[0m         \u001b[0;34m\"\"\"Search all candidates in param_grid\"\"\"\u001b[0m\u001b[0;34m\u001b[0m\u001b[0;34m\u001b[0m\u001b[0m\n\u001b[0;32m-> 1392\u001b[0;31m         \u001b[0mevaluate_candidates\u001b[0m\u001b[0;34m(\u001b[0m\u001b[0mParameterGrid\u001b[0m\u001b[0;34m(\u001b[0m\u001b[0mself\u001b[0m\u001b[0;34m.\u001b[0m\u001b[0mparam_grid\u001b[0m\u001b[0;34m)\u001b[0m\u001b[0;34m)\u001b[0m\u001b[0;34m\u001b[0m\u001b[0;34m\u001b[0m\u001b[0m\n\u001b[0m\u001b[1;32m   1393\u001b[0m \u001b[0;34m\u001b[0m\u001b[0m\n\u001b[1;32m   1394\u001b[0m \u001b[0;34m\u001b[0m\u001b[0m\n",
            "\u001b[0;32m/usr/local/lib/python3.8/dist-packages/sklearn/model_selection/_search.py\u001b[0m in \u001b[0;36mevaluate_candidates\u001b[0;34m(candidate_params, cv, more_results)\u001b[0m\n\u001b[1;32m    836\u001b[0m                     )\n\u001b[1;32m    837\u001b[0m \u001b[0;34m\u001b[0m\u001b[0m\n\u001b[0;32m--> 838\u001b[0;31m                 out = parallel(\n\u001b[0m\u001b[1;32m    839\u001b[0m                     delayed(_fit_and_score)(\n\u001b[1;32m    840\u001b[0m                         \u001b[0mclone\u001b[0m\u001b[0;34m(\u001b[0m\u001b[0mbase_estimator\u001b[0m\u001b[0;34m)\u001b[0m\u001b[0;34m,\u001b[0m\u001b[0;34m\u001b[0m\u001b[0;34m\u001b[0m\u001b[0m\n",
            "\u001b[0;32m/usr/local/lib/python3.8/dist-packages/joblib/parallel.py\u001b[0m in \u001b[0;36m__call__\u001b[0;34m(self, iterable)\u001b[0m\n\u001b[1;32m   1096\u001b[0m \u001b[0;34m\u001b[0m\u001b[0m\n\u001b[1;32m   1097\u001b[0m             \u001b[0;32mwith\u001b[0m \u001b[0mself\u001b[0m\u001b[0;34m.\u001b[0m\u001b[0m_backend\u001b[0m\u001b[0;34m.\u001b[0m\u001b[0mretrieval_context\u001b[0m\u001b[0;34m(\u001b[0m\u001b[0;34m)\u001b[0m\u001b[0;34m:\u001b[0m\u001b[0;34m\u001b[0m\u001b[0;34m\u001b[0m\u001b[0m\n\u001b[0;32m-> 1098\u001b[0;31m                 \u001b[0mself\u001b[0m\u001b[0;34m.\u001b[0m\u001b[0mretrieve\u001b[0m\u001b[0;34m(\u001b[0m\u001b[0;34m)\u001b[0m\u001b[0;34m\u001b[0m\u001b[0;34m\u001b[0m\u001b[0m\n\u001b[0m\u001b[1;32m   1099\u001b[0m             \u001b[0;31m# Make sure that we get a last message telling us we are done\u001b[0m\u001b[0;34m\u001b[0m\u001b[0;34m\u001b[0m\u001b[0;34m\u001b[0m\u001b[0m\n\u001b[1;32m   1100\u001b[0m             \u001b[0melapsed_time\u001b[0m \u001b[0;34m=\u001b[0m \u001b[0mtime\u001b[0m\u001b[0;34m.\u001b[0m\u001b[0mtime\u001b[0m\u001b[0;34m(\u001b[0m\u001b[0;34m)\u001b[0m \u001b[0;34m-\u001b[0m \u001b[0mself\u001b[0m\u001b[0;34m.\u001b[0m\u001b[0m_start_time\u001b[0m\u001b[0;34m\u001b[0m\u001b[0;34m\u001b[0m\u001b[0m\n",
            "\u001b[0;32m/usr/local/lib/python3.8/dist-packages/joblib/parallel.py\u001b[0m in \u001b[0;36mretrieve\u001b[0;34m(self)\u001b[0m\n\u001b[1;32m    973\u001b[0m             \u001b[0;32mtry\u001b[0m\u001b[0;34m:\u001b[0m\u001b[0;34m\u001b[0m\u001b[0;34m\u001b[0m\u001b[0m\n\u001b[1;32m    974\u001b[0m                 \u001b[0;32mif\u001b[0m \u001b[0mgetattr\u001b[0m\u001b[0;34m(\u001b[0m\u001b[0mself\u001b[0m\u001b[0;34m.\u001b[0m\u001b[0m_backend\u001b[0m\u001b[0;34m,\u001b[0m \u001b[0;34m'supports_timeout'\u001b[0m\u001b[0;34m,\u001b[0m \u001b[0;32mFalse\u001b[0m\u001b[0;34m)\u001b[0m\u001b[0;34m:\u001b[0m\u001b[0;34m\u001b[0m\u001b[0;34m\u001b[0m\u001b[0m\n\u001b[0;32m--> 975\u001b[0;31m                     \u001b[0mself\u001b[0m\u001b[0;34m.\u001b[0m\u001b[0m_output\u001b[0m\u001b[0;34m.\u001b[0m\u001b[0mextend\u001b[0m\u001b[0;34m(\u001b[0m\u001b[0mjob\u001b[0m\u001b[0;34m.\u001b[0m\u001b[0mget\u001b[0m\u001b[0;34m(\u001b[0m\u001b[0mtimeout\u001b[0m\u001b[0;34m=\u001b[0m\u001b[0mself\u001b[0m\u001b[0;34m.\u001b[0m\u001b[0mtimeout\u001b[0m\u001b[0;34m)\u001b[0m\u001b[0;34m)\u001b[0m\u001b[0;34m\u001b[0m\u001b[0;34m\u001b[0m\u001b[0m\n\u001b[0m\u001b[1;32m    976\u001b[0m                 \u001b[0;32melse\u001b[0m\u001b[0;34m:\u001b[0m\u001b[0;34m\u001b[0m\u001b[0;34m\u001b[0m\u001b[0m\n\u001b[1;32m    977\u001b[0m                     \u001b[0mself\u001b[0m\u001b[0;34m.\u001b[0m\u001b[0m_output\u001b[0m\u001b[0;34m.\u001b[0m\u001b[0mextend\u001b[0m\u001b[0;34m(\u001b[0m\u001b[0mjob\u001b[0m\u001b[0;34m.\u001b[0m\u001b[0mget\u001b[0m\u001b[0;34m(\u001b[0m\u001b[0;34m)\u001b[0m\u001b[0;34m)\u001b[0m\u001b[0;34m\u001b[0m\u001b[0;34m\u001b[0m\u001b[0m\n",
            "\u001b[0;32m/usr/local/lib/python3.8/dist-packages/joblib/_parallel_backends.py\u001b[0m in \u001b[0;36mwrap_future_result\u001b[0;34m(future, timeout)\u001b[0m\n\u001b[1;32m    565\u001b[0m         AsyncResults.get from multiprocessing.\"\"\"\n\u001b[1;32m    566\u001b[0m         \u001b[0;32mtry\u001b[0m\u001b[0;34m:\u001b[0m\u001b[0;34m\u001b[0m\u001b[0;34m\u001b[0m\u001b[0m\n\u001b[0;32m--> 567\u001b[0;31m             \u001b[0;32mreturn\u001b[0m \u001b[0mfuture\u001b[0m\u001b[0;34m.\u001b[0m\u001b[0mresult\u001b[0m\u001b[0;34m(\u001b[0m\u001b[0mtimeout\u001b[0m\u001b[0;34m=\u001b[0m\u001b[0mtimeout\u001b[0m\u001b[0;34m)\u001b[0m\u001b[0;34m\u001b[0m\u001b[0;34m\u001b[0m\u001b[0m\n\u001b[0m\u001b[1;32m    568\u001b[0m         \u001b[0;32mexcept\u001b[0m \u001b[0mCfTimeoutError\u001b[0m \u001b[0;32mas\u001b[0m \u001b[0me\u001b[0m\u001b[0;34m:\u001b[0m\u001b[0;34m\u001b[0m\u001b[0;34m\u001b[0m\u001b[0m\n\u001b[1;32m    569\u001b[0m             \u001b[0;32mraise\u001b[0m \u001b[0mTimeoutError\u001b[0m \u001b[0;32mfrom\u001b[0m \u001b[0me\u001b[0m\u001b[0;34m\u001b[0m\u001b[0;34m\u001b[0m\u001b[0m\n",
            "\u001b[0;32m/usr/lib/python3.8/concurrent/futures/_base.py\u001b[0m in \u001b[0;36mresult\u001b[0;34m(self, timeout)\u001b[0m\n\u001b[1;32m    437\u001b[0m                     \u001b[0;32mreturn\u001b[0m \u001b[0mself\u001b[0m\u001b[0;34m.\u001b[0m\u001b[0m__get_result\u001b[0m\u001b[0;34m(\u001b[0m\u001b[0;34m)\u001b[0m\u001b[0;34m\u001b[0m\u001b[0;34m\u001b[0m\u001b[0m\n\u001b[1;32m    438\u001b[0m \u001b[0;34m\u001b[0m\u001b[0m\n\u001b[0;32m--> 439\u001b[0;31m                 \u001b[0mself\u001b[0m\u001b[0;34m.\u001b[0m\u001b[0m_condition\u001b[0m\u001b[0;34m.\u001b[0m\u001b[0mwait\u001b[0m\u001b[0;34m(\u001b[0m\u001b[0mtimeout\u001b[0m\u001b[0;34m)\u001b[0m\u001b[0;34m\u001b[0m\u001b[0;34m\u001b[0m\u001b[0m\n\u001b[0m\u001b[1;32m    440\u001b[0m \u001b[0;34m\u001b[0m\u001b[0m\n\u001b[1;32m    441\u001b[0m                 \u001b[0;32mif\u001b[0m \u001b[0mself\u001b[0m\u001b[0;34m.\u001b[0m\u001b[0m_state\u001b[0m \u001b[0;32min\u001b[0m \u001b[0;34m[\u001b[0m\u001b[0mCANCELLED\u001b[0m\u001b[0;34m,\u001b[0m \u001b[0mCANCELLED_AND_NOTIFIED\u001b[0m\u001b[0;34m]\u001b[0m\u001b[0;34m:\u001b[0m\u001b[0;34m\u001b[0m\u001b[0;34m\u001b[0m\u001b[0m\n",
            "\u001b[0;32m/usr/lib/python3.8/threading.py\u001b[0m in \u001b[0;36mwait\u001b[0;34m(self, timeout)\u001b[0m\n\u001b[1;32m    300\u001b[0m         \u001b[0;32mtry\u001b[0m\u001b[0;34m:\u001b[0m    \u001b[0;31m# restore state no matter what (e.g., KeyboardInterrupt)\u001b[0m\u001b[0;34m\u001b[0m\u001b[0;34m\u001b[0m\u001b[0m\n\u001b[1;32m    301\u001b[0m             \u001b[0;32mif\u001b[0m \u001b[0mtimeout\u001b[0m \u001b[0;32mis\u001b[0m \u001b[0;32mNone\u001b[0m\u001b[0;34m:\u001b[0m\u001b[0;34m\u001b[0m\u001b[0;34m\u001b[0m\u001b[0m\n\u001b[0;32m--> 302\u001b[0;31m                 \u001b[0mwaiter\u001b[0m\u001b[0;34m.\u001b[0m\u001b[0macquire\u001b[0m\u001b[0;34m(\u001b[0m\u001b[0;34m)\u001b[0m\u001b[0;34m\u001b[0m\u001b[0;34m\u001b[0m\u001b[0m\n\u001b[0m\u001b[1;32m    303\u001b[0m                 \u001b[0mgotit\u001b[0m \u001b[0;34m=\u001b[0m \u001b[0;32mTrue\u001b[0m\u001b[0;34m\u001b[0m\u001b[0;34m\u001b[0m\u001b[0m\n\u001b[1;32m    304\u001b[0m             \u001b[0;32melse\u001b[0m\u001b[0;34m:\u001b[0m\u001b[0;34m\u001b[0m\u001b[0;34m\u001b[0m\u001b[0m\n",
            "\u001b[0;31mKeyboardInterrupt\u001b[0m: "
          ]
        }
      ]
    },
    {
      "cell_type": "code",
      "source": [
        "gs_model.fit(X_train, y_train)"
      ],
      "metadata": {
        "id": "D8AEXMX-15tZ"
      },
      "execution_count": null,
      "outputs": []
    },
    {
      "cell_type": "code",
      "source": [
        "# 학습률 : learning_rate\n",
        "# max_depth, subsample, nestimators\n",
        "# dictionary\n",
        "# parameter = {\n",
        "#     'learning_rate': [0.01, 0.1, 0.3], # 학습에 쓰이는 매개변수를 조절해서 최소 오차 허용을 조작 -> 보폭 수정\n",
        "#     'max_depth': [5, 7, 10], # 트리의 깊이 제한 (오버피팅)\n",
        "#     'subsample': [0.5, 0.7, 1], # 학습할 때 데이터 전체 쓰는 게 아니라, subsample 비율에 따라서 부분만 추출\n",
        "#     'n_estimators': [300, 500, 1000] # 트리 개수 3^4 = 81\n",
        "# }\n",
        "parameter = {\n",
        "    'learning_rate': [0.3],\n",
        "    'max_depth': [5],\n",
        "    'subsample': [0.5],\n",
        "    'n_estimators': [200]\n",
        "}"
      ],
      "metadata": {
        "id": "FYjwhEu02F4_"
      },
      "execution_count": 107,
      "outputs": []
    },
    {
      "cell_type": "code",
      "source": [
        "model = xgb.XGBClassifier()"
      ],
      "metadata": {
        "id": "HCEF4X6016nl"
      },
      "execution_count": 108,
      "outputs": []
    },
    {
      "cell_type": "code",
      "source": [
        "# 모델, 패러미터 dict, n_jobs, scoring='f1', cv=5\n",
        "# cv = kfold -> folding\n",
        "# Cross Validation\n",
        "gs_model = GridSearchCV(\n",
        "    # n_jobs : CPU 개수 (-1 : 최대로.. colab 2개)\n",
        "    # scoring : grid별로 모델이 만들어지는 셈 => 모델 간의 비교를? \n",
        "    # cv : 얼마나 나눠서 평균치를 구해줄거냐 (Kfold에서의 k)\n",
        "    model, parameter, n_jobs=-1, scoring='f1', cv=5\n",
        ")"
      ],
      "metadata": {
        "id": "rssVY3bx16q5"
      },
      "execution_count": 109,
      "outputs": []
    },
    {
      "cell_type": "code",
      "source": [
        "gs_model.fit(X_train, y_train)"
      ],
      "metadata": {
        "colab": {
          "base_uri": "https://localhost:8080/"
        },
        "id": "dq6NpcHk3wwF",
        "outputId": "b15613c8-138c-4e93-fff8-dc5cf9339a01"
      },
      "execution_count": 110,
      "outputs": [
        {
          "output_type": "execute_result",
          "data": {
            "text/plain": [
              "GridSearchCV(cv=5, estimator=XGBClassifier(), n_jobs=-1,\n",
              "             param_grid={'learning_rate': [0.3], 'max_depth': [5],\n",
              "                         'n_estimators': [200], 'subsample': [0.5]},\n",
              "             scoring='f1')"
            ]
          },
          "metadata": {},
          "execution_count": 110
        }
      ]
    },
    {
      "cell_type": "code",
      "source": [
        "gs_model.best_score_ # 최적합 점수"
      ],
      "metadata": {
        "colab": {
          "base_uri": "https://localhost:8080/"
        },
        "id": "ivysXwuI3xiP",
        "outputId": "46d5cd13-8e9a-4528-9bb8-2df2fb9a6eb7"
      },
      "execution_count": 96,
      "outputs": [
        {
          "output_type": "execute_result",
          "data": {
            "text/plain": [
              "0.49264186930391196"
            ]
          },
          "metadata": {},
          "execution_count": 96
        }
      ]
    },
    {
      "cell_type": "code",
      "source": [
        "gs_model.best_params_ # 최적합 패러미터"
      ],
      "metadata": {
        "colab": {
          "base_uri": "https://localhost:8080/"
        },
        "id": "sn9R6Oo933Yj",
        "outputId": "b9ac2f47-6083-47d1-f8aa-b2e51db02479"
      },
      "execution_count": 97,
      "outputs": [
        {
          "output_type": "execute_result",
          "data": {
            "text/plain": [
              "{'learning_rate': 0.3, 'max_depth': 3, 'n_estimators': 100, 'subsample': 0.5}"
            ]
          },
          "metadata": {},
          "execution_count": 97
        }
      ]
    },
    {
      "cell_type": "code",
      "source": [
        "pred = gs_model.predict(X_test)"
      ],
      "metadata": {
        "id": "nnjpzWq333_N"
      },
      "execution_count": 98,
      "outputs": []
    },
    {
      "cell_type": "code",
      "source": [
        "print(f\"accuracy_score : {accuracy_score(y_test, pred)}\")\n",
        "print(classification_report(y_test, pred))"
      ],
      "metadata": {
        "colab": {
          "base_uri": "https://localhost:8080/"
        },
        "id": "B4Ni-6o237b6",
        "outputId": "5a83abd6-160c-41d3-bd45-1830475889bc"
      },
      "execution_count": 111,
      "outputs": [
        {
          "output_type": "stream",
          "name": "stdout",
          "text": [
            "accuracy_score : 0.8437884378843789\n",
            "              precision    recall  f1-score   support\n",
            "\n",
            "           0       0.88      0.94      0.91      1327\n",
            "           1       0.61      0.41      0.49       299\n",
            "\n",
            "    accuracy                           0.84      1626\n",
            "   macro avg       0.74      0.68      0.70      1626\n",
            "weighted avg       0.83      0.84      0.83      1626\n",
            "\n"
          ]
        }
      ]
    },
    {
      "cell_type": "markdown",
      "source": [
        "# 중요 변수 확인"
      ],
      "metadata": {
        "id": "Aii6J7_g38Db"
      }
    },
    {
      "cell_type": "code",
      "source": [
        "model = xgb.XGBClassifier(learning=0.3, max_depth=5,\n",
        "                          n_estimators=1000, subsample=0.5, random_state=23)\n",
        "model.fit(X_train, y_train)"
      ],
      "metadata": {
        "colab": {
          "base_uri": "https://localhost:8080/"
        },
        "id": "RSzVxudW4NrL",
        "outputId": "d536e0c6-000c-48a4-97b7-dcd0e28a36d3"
      },
      "execution_count": 94,
      "outputs": [
        {
          "output_type": "execute_result",
          "data": {
            "text/plain": [
              "XGBClassifier(learning=0.3, max_depth=5, n_estimators=1000, random_state=23,\n",
              "              subsample=0.5)"
            ]
          },
          "metadata": {},
          "execution_count": 94
        }
      ]
    },
    {
      "cell_type": "code",
      "source": [
        "# 중요 변수\n",
        "# xgboost -> feature_importances_\n",
        "model.feature_importances_"
      ],
      "metadata": {
        "colab": {
          "base_uri": "https://localhost:8080/"
        },
        "id": "vHjEwhPk4Oa2",
        "outputId": "efee1630-5a29-47f5-91f8-fc727f9511a5"
      },
      "execution_count": 95,
      "outputs": [
        {
          "output_type": "execute_result",
          "data": {
            "text/plain": [
              "array([0.01760021, 0.01501449, 0.01416286, 0.01533528, 0.01488405,\n",
              "       0.01654684, 0.01581635, 0.01767105, 0.01498504, 0.01438092,\n",
              "       0.01560507, 0.03943677, 0.01510202, 0.01585863, 0.03620599,\n",
              "       0.0146331 , 0.0242062 , 0.01704355, 0.01568424, 0.01994622,\n",
              "       0.01570059, 0.01600581, 0.01635921, 0.02759568, 0.01421915,\n",
              "       0.01508113, 0.01949399, 0.01354421, 0.01864126, 0.01382447,\n",
              "       0.01541893, 0.01769265, 0.05776444, 0.02518668, 0.02217493,\n",
              "       0.0162079 , 0.01450639, 0.01088743, 0.01445954, 0.01503858,\n",
              "       0.01386388, 0.01536773, 0.01598035, 0.01474136, 0.01534016,\n",
              "       0.01636288, 0.02520617, 0.01525045, 0.02762747, 0.0266438 ,\n",
              "       0.01414295, 0.01416163, 0.01832073, 0.01706861], dtype=float32)"
            ]
          },
          "metadata": {},
          "execution_count": 95
        }
      ]
    },
    {
      "cell_type": "code",
      "source": [
        "feature_imp = pd.DataFrame({\n",
        "    'features': X_train.columns,\n",
        "    'values': model.feature_importances_,\n",
        "})"
      ],
      "metadata": {
        "id": "I1E41g654N2B"
      },
      "execution_count": 100,
      "outputs": []
    },
    {
      "cell_type": "code",
      "source": [
        "pd.options.display.float_format = '{:.6f}'.format\n",
        "feature_imp.head()"
      ],
      "metadata": {
        "colab": {
          "base_uri": "https://localhost:8080/",
          "height": 206
        },
        "id": "ycGKvA_Y4N3W",
        "outputId": "08a36750-fb82-4b2a-8cff-a77b7170fec2"
      },
      "execution_count": 101,
      "outputs": [
        {
          "output_type": "execute_result",
          "data": {
            "text/plain": [
              "                   features   values\n",
              "0                  has_null 0.017600\n",
              "1                       age 0.015014\n",
              "2                     age_o 0.014163\n",
              "3      importance_same_race 0.015335\n",
              "4  importance_same_religion 0.014884"
            ],
            "text/html": [
              "\n",
              "  <div id=\"df-0b7a06ec-b039-4548-bce9-9e5e2233a40e\">\n",
              "    <div class=\"colab-df-container\">\n",
              "      <div>\n",
              "<style scoped>\n",
              "    .dataframe tbody tr th:only-of-type {\n",
              "        vertical-align: middle;\n",
              "    }\n",
              "\n",
              "    .dataframe tbody tr th {\n",
              "        vertical-align: top;\n",
              "    }\n",
              "\n",
              "    .dataframe thead th {\n",
              "        text-align: right;\n",
              "    }\n",
              "</style>\n",
              "<table border=\"1\" class=\"dataframe\">\n",
              "  <thead>\n",
              "    <tr style=\"text-align: right;\">\n",
              "      <th></th>\n",
              "      <th>features</th>\n",
              "      <th>values</th>\n",
              "    </tr>\n",
              "  </thead>\n",
              "  <tbody>\n",
              "    <tr>\n",
              "      <th>0</th>\n",
              "      <td>has_null</td>\n",
              "      <td>0.017600</td>\n",
              "    </tr>\n",
              "    <tr>\n",
              "      <th>1</th>\n",
              "      <td>age</td>\n",
              "      <td>0.015014</td>\n",
              "    </tr>\n",
              "    <tr>\n",
              "      <th>2</th>\n",
              "      <td>age_o</td>\n",
              "      <td>0.014163</td>\n",
              "    </tr>\n",
              "    <tr>\n",
              "      <th>3</th>\n",
              "      <td>importance_same_race</td>\n",
              "      <td>0.015335</td>\n",
              "    </tr>\n",
              "    <tr>\n",
              "      <th>4</th>\n",
              "      <td>importance_same_religion</td>\n",
              "      <td>0.014884</td>\n",
              "    </tr>\n",
              "  </tbody>\n",
              "</table>\n",
              "</div>\n",
              "      <button class=\"colab-df-convert\" onclick=\"convertToInteractive('df-0b7a06ec-b039-4548-bce9-9e5e2233a40e')\"\n",
              "              title=\"Convert this dataframe to an interactive table.\"\n",
              "              style=\"display:none;\">\n",
              "        \n",
              "  <svg xmlns=\"http://www.w3.org/2000/svg\" height=\"24px\"viewBox=\"0 0 24 24\"\n",
              "       width=\"24px\">\n",
              "    <path d=\"M0 0h24v24H0V0z\" fill=\"none\"/>\n",
              "    <path d=\"M18.56 5.44l.94 2.06.94-2.06 2.06-.94-2.06-.94-.94-2.06-.94 2.06-2.06.94zm-11 1L8.5 8.5l.94-2.06 2.06-.94-2.06-.94L8.5 2.5l-.94 2.06-2.06.94zm10 10l.94 2.06.94-2.06 2.06-.94-2.06-.94-.94-2.06-.94 2.06-2.06.94z\"/><path d=\"M17.41 7.96l-1.37-1.37c-.4-.4-.92-.59-1.43-.59-.52 0-1.04.2-1.43.59L10.3 9.45l-7.72 7.72c-.78.78-.78 2.05 0 2.83L4 21.41c.39.39.9.59 1.41.59.51 0 1.02-.2 1.41-.59l7.78-7.78 2.81-2.81c.8-.78.8-2.07 0-2.86zM5.41 20L4 18.59l7.72-7.72 1.47 1.35L5.41 20z\"/>\n",
              "  </svg>\n",
              "      </button>\n",
              "      \n",
              "  <style>\n",
              "    .colab-df-container {\n",
              "      display:flex;\n",
              "      flex-wrap:wrap;\n",
              "      gap: 12px;\n",
              "    }\n",
              "\n",
              "    .colab-df-convert {\n",
              "      background-color: #E8F0FE;\n",
              "      border: none;\n",
              "      border-radius: 50%;\n",
              "      cursor: pointer;\n",
              "      display: none;\n",
              "      fill: #1967D2;\n",
              "      height: 32px;\n",
              "      padding: 0 0 0 0;\n",
              "      width: 32px;\n",
              "    }\n",
              "\n",
              "    .colab-df-convert:hover {\n",
              "      background-color: #E2EBFA;\n",
              "      box-shadow: 0px 1px 2px rgba(60, 64, 67, 0.3), 0px 1px 3px 1px rgba(60, 64, 67, 0.15);\n",
              "      fill: #174EA6;\n",
              "    }\n",
              "\n",
              "    [theme=dark] .colab-df-convert {\n",
              "      background-color: #3B4455;\n",
              "      fill: #D2E3FC;\n",
              "    }\n",
              "\n",
              "    [theme=dark] .colab-df-convert:hover {\n",
              "      background-color: #434B5C;\n",
              "      box-shadow: 0px 1px 3px 1px rgba(0, 0, 0, 0.15);\n",
              "      filter: drop-shadow(0px 1px 2px rgba(0, 0, 0, 0.3));\n",
              "      fill: #FFFFFF;\n",
              "    }\n",
              "  </style>\n",
              "\n",
              "      <script>\n",
              "        const buttonEl =\n",
              "          document.querySelector('#df-0b7a06ec-b039-4548-bce9-9e5e2233a40e button.colab-df-convert');\n",
              "        buttonEl.style.display =\n",
              "          google.colab.kernel.accessAllowed ? 'block' : 'none';\n",
              "\n",
              "        async function convertToInteractive(key) {\n",
              "          const element = document.querySelector('#df-0b7a06ec-b039-4548-bce9-9e5e2233a40e');\n",
              "          const dataTable =\n",
              "            await google.colab.kernel.invokeFunction('convertToInteractive',\n",
              "                                                     [key], {});\n",
              "          if (!dataTable) return;\n",
              "\n",
              "          const docLinkHtml = 'Like what you see? Visit the ' +\n",
              "            '<a target=\"_blank\" href=https://colab.research.google.com/notebooks/data_table.ipynb>data table notebook</a>'\n",
              "            + ' to learn more about interactive tables.';\n",
              "          element.innerHTML = '';\n",
              "          dataTable['output_type'] = 'display_data';\n",
              "          await google.colab.output.renderOutput(dataTable, element);\n",
              "          const docLink = document.createElement('div');\n",
              "          docLink.innerHTML = docLinkHtml;\n",
              "          element.appendChild(docLink);\n",
              "        }\n",
              "      </script>\n",
              "    </div>\n",
              "  </div>\n",
              "  "
            ]
          },
          "metadata": {},
          "execution_count": 101
        }
      ]
    },
    {
      "cell_type": "code",
      "source": [
        "feature_imp.sort_values(by='values', ascending=False)"
      ],
      "metadata": {
        "colab": {
          "base_uri": "https://localhost:8080/",
          "height": 1000
        },
        "id": "oGSDIPMI4N5d",
        "outputId": "49a2acc8-0a99-42b6-a0fd-4938dd62647d"
      },
      "execution_count": 102,
      "outputs": [
        {
          "output_type": "execute_result",
          "data": {
            "text/plain": [
              "                              features   values\n",
              "32                                like 0.057764\n",
              "11                        attractive_o 0.039437\n",
              "14                             funny_o 0.036206\n",
              "48        race_Latino/HispanicAmerican 0.027627\n",
              "23                  attractive_partner 0.027596\n",
              "49                          race_Other 0.026644\n",
              "46          race_Black/AfricanAmerican 0.025206\n",
              "33                    guess_prob_liked 0.025187\n",
              "16                  shared_interests_o 0.024206\n",
              "34                                 met 0.022175\n",
              "19              intellicence_important 0.019946\n",
              "26                       funny_partner 0.019494\n",
              "28            shared_interests_partner 0.018641\n",
              "52      race_o_Latino/HispanicAmerican 0.018321\n",
              "31       expected_num_interested_in_me 0.017693\n",
              "7                  pref_o_intelligence 0.017671\n",
              "0                             has_null 0.017600\n",
              "53                        race_o_Other 0.017069\n",
              "17                attractive_important 0.017044\n",
              "5                    pref_o_attractive 0.016547\n",
              "45                         gender_male 0.016363\n",
              "22          shared_interests_important 0.016359\n",
              "35                             age_gap 0.016208\n",
              "21                 ambtition_important 0.016006\n",
              "42                             funny_p 0.015980\n",
              "13                      intelligence_o 0.015859\n",
              "6                       pref_o_sincere 0.015816\n",
              "20                     funny_important 0.015701\n",
              "18                   sincere_important 0.015684\n",
              "10             pref_o_shared_interests 0.015605\n",
              "30       expected_happy_with_sd_people 0.015419\n",
              "41                      intelligence_p 0.015368\n",
              "44                  shared_interests_p 0.015340\n",
              "3                 importance_same_race 0.015335\n",
              "47    race_European/Caucasian-American 0.015250\n",
              "12                           sincere_o 0.015102\n",
              "25                intelligence_partner 0.015081\n",
              "39                        attractive_p 0.015039\n",
              "1                                  age 0.015014\n",
              "8                         pref_o_funny 0.014985\n",
              "4             importance_same_religion 0.014884\n",
              "43                          ambitous_p 0.014741\n",
              "15                          ambitous_o 0.014633\n",
              "36                         age_gap_abs 0.014506\n",
              "38                     same_race_point 0.014460\n",
              "9                     pref_o_ambitious 0.014381\n",
              "24                     sincere_partner 0.014219\n",
              "2                                age_o 0.014163\n",
              "51  race_o_European/Caucasian-American 0.014162\n",
              "50        race_o_Black/AfricanAmerican 0.014143\n",
              "40                           sincere_p 0.013864\n",
              "29                 interests_correlate 0.013824\n",
              "27                    ambition_partner 0.013544\n",
              "37                           same_race 0.010887"
            ],
            "text/html": [
              "\n",
              "  <div id=\"df-2197f450-dfec-4430-9955-a1c48088dc9e\">\n",
              "    <div class=\"colab-df-container\">\n",
              "      <div>\n",
              "<style scoped>\n",
              "    .dataframe tbody tr th:only-of-type {\n",
              "        vertical-align: middle;\n",
              "    }\n",
              "\n",
              "    .dataframe tbody tr th {\n",
              "        vertical-align: top;\n",
              "    }\n",
              "\n",
              "    .dataframe thead th {\n",
              "        text-align: right;\n",
              "    }\n",
              "</style>\n",
              "<table border=\"1\" class=\"dataframe\">\n",
              "  <thead>\n",
              "    <tr style=\"text-align: right;\">\n",
              "      <th></th>\n",
              "      <th>features</th>\n",
              "      <th>values</th>\n",
              "    </tr>\n",
              "  </thead>\n",
              "  <tbody>\n",
              "    <tr>\n",
              "      <th>32</th>\n",
              "      <td>like</td>\n",
              "      <td>0.057764</td>\n",
              "    </tr>\n",
              "    <tr>\n",
              "      <th>11</th>\n",
              "      <td>attractive_o</td>\n",
              "      <td>0.039437</td>\n",
              "    </tr>\n",
              "    <tr>\n",
              "      <th>14</th>\n",
              "      <td>funny_o</td>\n",
              "      <td>0.036206</td>\n",
              "    </tr>\n",
              "    <tr>\n",
              "      <th>48</th>\n",
              "      <td>race_Latino/HispanicAmerican</td>\n",
              "      <td>0.027627</td>\n",
              "    </tr>\n",
              "    <tr>\n",
              "      <th>23</th>\n",
              "      <td>attractive_partner</td>\n",
              "      <td>0.027596</td>\n",
              "    </tr>\n",
              "    <tr>\n",
              "      <th>49</th>\n",
              "      <td>race_Other</td>\n",
              "      <td>0.026644</td>\n",
              "    </tr>\n",
              "    <tr>\n",
              "      <th>46</th>\n",
              "      <td>race_Black/AfricanAmerican</td>\n",
              "      <td>0.025206</td>\n",
              "    </tr>\n",
              "    <tr>\n",
              "      <th>33</th>\n",
              "      <td>guess_prob_liked</td>\n",
              "      <td>0.025187</td>\n",
              "    </tr>\n",
              "    <tr>\n",
              "      <th>16</th>\n",
              "      <td>shared_interests_o</td>\n",
              "      <td>0.024206</td>\n",
              "    </tr>\n",
              "    <tr>\n",
              "      <th>34</th>\n",
              "      <td>met</td>\n",
              "      <td>0.022175</td>\n",
              "    </tr>\n",
              "    <tr>\n",
              "      <th>19</th>\n",
              "      <td>intellicence_important</td>\n",
              "      <td>0.019946</td>\n",
              "    </tr>\n",
              "    <tr>\n",
              "      <th>26</th>\n",
              "      <td>funny_partner</td>\n",
              "      <td>0.019494</td>\n",
              "    </tr>\n",
              "    <tr>\n",
              "      <th>28</th>\n",
              "      <td>shared_interests_partner</td>\n",
              "      <td>0.018641</td>\n",
              "    </tr>\n",
              "    <tr>\n",
              "      <th>52</th>\n",
              "      <td>race_o_Latino/HispanicAmerican</td>\n",
              "      <td>0.018321</td>\n",
              "    </tr>\n",
              "    <tr>\n",
              "      <th>31</th>\n",
              "      <td>expected_num_interested_in_me</td>\n",
              "      <td>0.017693</td>\n",
              "    </tr>\n",
              "    <tr>\n",
              "      <th>7</th>\n",
              "      <td>pref_o_intelligence</td>\n",
              "      <td>0.017671</td>\n",
              "    </tr>\n",
              "    <tr>\n",
              "      <th>0</th>\n",
              "      <td>has_null</td>\n",
              "      <td>0.017600</td>\n",
              "    </tr>\n",
              "    <tr>\n",
              "      <th>53</th>\n",
              "      <td>race_o_Other</td>\n",
              "      <td>0.017069</td>\n",
              "    </tr>\n",
              "    <tr>\n",
              "      <th>17</th>\n",
              "      <td>attractive_important</td>\n",
              "      <td>0.017044</td>\n",
              "    </tr>\n",
              "    <tr>\n",
              "      <th>5</th>\n",
              "      <td>pref_o_attractive</td>\n",
              "      <td>0.016547</td>\n",
              "    </tr>\n",
              "    <tr>\n",
              "      <th>45</th>\n",
              "      <td>gender_male</td>\n",
              "      <td>0.016363</td>\n",
              "    </tr>\n",
              "    <tr>\n",
              "      <th>22</th>\n",
              "      <td>shared_interests_important</td>\n",
              "      <td>0.016359</td>\n",
              "    </tr>\n",
              "    <tr>\n",
              "      <th>35</th>\n",
              "      <td>age_gap</td>\n",
              "      <td>0.016208</td>\n",
              "    </tr>\n",
              "    <tr>\n",
              "      <th>21</th>\n",
              "      <td>ambtition_important</td>\n",
              "      <td>0.016006</td>\n",
              "    </tr>\n",
              "    <tr>\n",
              "      <th>42</th>\n",
              "      <td>funny_p</td>\n",
              "      <td>0.015980</td>\n",
              "    </tr>\n",
              "    <tr>\n",
              "      <th>13</th>\n",
              "      <td>intelligence_o</td>\n",
              "      <td>0.015859</td>\n",
              "    </tr>\n",
              "    <tr>\n",
              "      <th>6</th>\n",
              "      <td>pref_o_sincere</td>\n",
              "      <td>0.015816</td>\n",
              "    </tr>\n",
              "    <tr>\n",
              "      <th>20</th>\n",
              "      <td>funny_important</td>\n",
              "      <td>0.015701</td>\n",
              "    </tr>\n",
              "    <tr>\n",
              "      <th>18</th>\n",
              "      <td>sincere_important</td>\n",
              "      <td>0.015684</td>\n",
              "    </tr>\n",
              "    <tr>\n",
              "      <th>10</th>\n",
              "      <td>pref_o_shared_interests</td>\n",
              "      <td>0.015605</td>\n",
              "    </tr>\n",
              "    <tr>\n",
              "      <th>30</th>\n",
              "      <td>expected_happy_with_sd_people</td>\n",
              "      <td>0.015419</td>\n",
              "    </tr>\n",
              "    <tr>\n",
              "      <th>41</th>\n",
              "      <td>intelligence_p</td>\n",
              "      <td>0.015368</td>\n",
              "    </tr>\n",
              "    <tr>\n",
              "      <th>44</th>\n",
              "      <td>shared_interests_p</td>\n",
              "      <td>0.015340</td>\n",
              "    </tr>\n",
              "    <tr>\n",
              "      <th>3</th>\n",
              "      <td>importance_same_race</td>\n",
              "      <td>0.015335</td>\n",
              "    </tr>\n",
              "    <tr>\n",
              "      <th>47</th>\n",
              "      <td>race_European/Caucasian-American</td>\n",
              "      <td>0.015250</td>\n",
              "    </tr>\n",
              "    <tr>\n",
              "      <th>12</th>\n",
              "      <td>sincere_o</td>\n",
              "      <td>0.015102</td>\n",
              "    </tr>\n",
              "    <tr>\n",
              "      <th>25</th>\n",
              "      <td>intelligence_partner</td>\n",
              "      <td>0.015081</td>\n",
              "    </tr>\n",
              "    <tr>\n",
              "      <th>39</th>\n",
              "      <td>attractive_p</td>\n",
              "      <td>0.015039</td>\n",
              "    </tr>\n",
              "    <tr>\n",
              "      <th>1</th>\n",
              "      <td>age</td>\n",
              "      <td>0.015014</td>\n",
              "    </tr>\n",
              "    <tr>\n",
              "      <th>8</th>\n",
              "      <td>pref_o_funny</td>\n",
              "      <td>0.014985</td>\n",
              "    </tr>\n",
              "    <tr>\n",
              "      <th>4</th>\n",
              "      <td>importance_same_religion</td>\n",
              "      <td>0.014884</td>\n",
              "    </tr>\n",
              "    <tr>\n",
              "      <th>43</th>\n",
              "      <td>ambitous_p</td>\n",
              "      <td>0.014741</td>\n",
              "    </tr>\n",
              "    <tr>\n",
              "      <th>15</th>\n",
              "      <td>ambitous_o</td>\n",
              "      <td>0.014633</td>\n",
              "    </tr>\n",
              "    <tr>\n",
              "      <th>36</th>\n",
              "      <td>age_gap_abs</td>\n",
              "      <td>0.014506</td>\n",
              "    </tr>\n",
              "    <tr>\n",
              "      <th>38</th>\n",
              "      <td>same_race_point</td>\n",
              "      <td>0.014460</td>\n",
              "    </tr>\n",
              "    <tr>\n",
              "      <th>9</th>\n",
              "      <td>pref_o_ambitious</td>\n",
              "      <td>0.014381</td>\n",
              "    </tr>\n",
              "    <tr>\n",
              "      <th>24</th>\n",
              "      <td>sincere_partner</td>\n",
              "      <td>0.014219</td>\n",
              "    </tr>\n",
              "    <tr>\n",
              "      <th>2</th>\n",
              "      <td>age_o</td>\n",
              "      <td>0.014163</td>\n",
              "    </tr>\n",
              "    <tr>\n",
              "      <th>51</th>\n",
              "      <td>race_o_European/Caucasian-American</td>\n",
              "      <td>0.014162</td>\n",
              "    </tr>\n",
              "    <tr>\n",
              "      <th>50</th>\n",
              "      <td>race_o_Black/AfricanAmerican</td>\n",
              "      <td>0.014143</td>\n",
              "    </tr>\n",
              "    <tr>\n",
              "      <th>40</th>\n",
              "      <td>sincere_p</td>\n",
              "      <td>0.013864</td>\n",
              "    </tr>\n",
              "    <tr>\n",
              "      <th>29</th>\n",
              "      <td>interests_correlate</td>\n",
              "      <td>0.013824</td>\n",
              "    </tr>\n",
              "    <tr>\n",
              "      <th>27</th>\n",
              "      <td>ambition_partner</td>\n",
              "      <td>0.013544</td>\n",
              "    </tr>\n",
              "    <tr>\n",
              "      <th>37</th>\n",
              "      <td>same_race</td>\n",
              "      <td>0.010887</td>\n",
              "    </tr>\n",
              "  </tbody>\n",
              "</table>\n",
              "</div>\n",
              "      <button class=\"colab-df-convert\" onclick=\"convertToInteractive('df-2197f450-dfec-4430-9955-a1c48088dc9e')\"\n",
              "              title=\"Convert this dataframe to an interactive table.\"\n",
              "              style=\"display:none;\">\n",
              "        \n",
              "  <svg xmlns=\"http://www.w3.org/2000/svg\" height=\"24px\"viewBox=\"0 0 24 24\"\n",
              "       width=\"24px\">\n",
              "    <path d=\"M0 0h24v24H0V0z\" fill=\"none\"/>\n",
              "    <path d=\"M18.56 5.44l.94 2.06.94-2.06 2.06-.94-2.06-.94-.94-2.06-.94 2.06-2.06.94zm-11 1L8.5 8.5l.94-2.06 2.06-.94-2.06-.94L8.5 2.5l-.94 2.06-2.06.94zm10 10l.94 2.06.94-2.06 2.06-.94-2.06-.94-.94-2.06-.94 2.06-2.06.94z\"/><path d=\"M17.41 7.96l-1.37-1.37c-.4-.4-.92-.59-1.43-.59-.52 0-1.04.2-1.43.59L10.3 9.45l-7.72 7.72c-.78.78-.78 2.05 0 2.83L4 21.41c.39.39.9.59 1.41.59.51 0 1.02-.2 1.41-.59l7.78-7.78 2.81-2.81c.8-.78.8-2.07 0-2.86zM5.41 20L4 18.59l7.72-7.72 1.47 1.35L5.41 20z\"/>\n",
              "  </svg>\n",
              "      </button>\n",
              "      \n",
              "  <style>\n",
              "    .colab-df-container {\n",
              "      display:flex;\n",
              "      flex-wrap:wrap;\n",
              "      gap: 12px;\n",
              "    }\n",
              "\n",
              "    .colab-df-convert {\n",
              "      background-color: #E8F0FE;\n",
              "      border: none;\n",
              "      border-radius: 50%;\n",
              "      cursor: pointer;\n",
              "      display: none;\n",
              "      fill: #1967D2;\n",
              "      height: 32px;\n",
              "      padding: 0 0 0 0;\n",
              "      width: 32px;\n",
              "    }\n",
              "\n",
              "    .colab-df-convert:hover {\n",
              "      background-color: #E2EBFA;\n",
              "      box-shadow: 0px 1px 2px rgba(60, 64, 67, 0.3), 0px 1px 3px 1px rgba(60, 64, 67, 0.15);\n",
              "      fill: #174EA6;\n",
              "    }\n",
              "\n",
              "    [theme=dark] .colab-df-convert {\n",
              "      background-color: #3B4455;\n",
              "      fill: #D2E3FC;\n",
              "    }\n",
              "\n",
              "    [theme=dark] .colab-df-convert:hover {\n",
              "      background-color: #434B5C;\n",
              "      box-shadow: 0px 1px 3px 1px rgba(0, 0, 0, 0.15);\n",
              "      filter: drop-shadow(0px 1px 2px rgba(0, 0, 0, 0.3));\n",
              "      fill: #FFFFFF;\n",
              "    }\n",
              "  </style>\n",
              "\n",
              "      <script>\n",
              "        const buttonEl =\n",
              "          document.querySelector('#df-2197f450-dfec-4430-9955-a1c48088dc9e button.colab-df-convert');\n",
              "        buttonEl.style.display =\n",
              "          google.colab.kernel.accessAllowed ? 'block' : 'none';\n",
              "\n",
              "        async function convertToInteractive(key) {\n",
              "          const element = document.querySelector('#df-2197f450-dfec-4430-9955-a1c48088dc9e');\n",
              "          const dataTable =\n",
              "            await google.colab.kernel.invokeFunction('convertToInteractive',\n",
              "                                                     [key], {});\n",
              "          if (!dataTable) return;\n",
              "\n",
              "          const docLinkHtml = 'Like what you see? Visit the ' +\n",
              "            '<a target=\"_blank\" href=https://colab.research.google.com/notebooks/data_table.ipynb>data table notebook</a>'\n",
              "            + ' to learn more about interactive tables.';\n",
              "          element.innerHTML = '';\n",
              "          dataTable['output_type'] = 'display_data';\n",
              "          await google.colab.output.renderOutput(dataTable, element);\n",
              "          const docLink = document.createElement('div');\n",
              "          docLink.innerHTML = docLinkHtml;\n",
              "          element.appendChild(docLink);\n",
              "        }\n",
              "      </script>\n",
              "    </div>\n",
              "  </div>\n",
              "  "
            ]
          },
          "metadata": {},
          "execution_count": 102
        }
      ]
    },
    {
      "cell_type": "code",
      "source": [
        "# 선호 영향도의 시각화\n",
        "plt.figure(figsize=(20, 10))\n",
        "sns.barplot(x='values', y='features',\n",
        "            data= feature_imp.sort_values(by='values', ascending=False))"
      ],
      "metadata": {
        "colab": {
          "base_uri": "https://localhost:8080/",
          "height": 613
        },
        "id": "6rDejFbU4224",
        "outputId": "d54d5244-f5e7-4bd4-83e7-3bd30b547428"
      },
      "execution_count": 105,
      "outputs": [
        {
          "output_type": "execute_result",
          "data": {
            "text/plain": [
              "<matplotlib.axes._subplots.AxesSubplot at 0x7f152ef451f0>"
            ]
          },
          "metadata": {},
          "execution_count": 105
        },
        {
          "output_type": "display_data",
          "data": {
            "text/plain": [
              "<Figure size 1440x720 with 1 Axes>"
            ],
            "image/png": "[encoded data removed]"
          },
          "metadata": {
            "needs_background": "light"
          }
        }
      ]
    },
    {
      "cell_type": "code",
      "source": [
        "# 상위 10개의 영향도 높은 변수들\n",
        "plt.figure(figsize=(20, 10))\n",
        "sns.barplot(x='values', y='features',\n",
        "            data= feature_imp.sort_values(by='values', ascending=False).head(10))\n",
        "plt.show()\n"
      ],
      "metadata": {
        "colab": {
          "base_uri": "https://localhost:8080/",
          "height": 606
        },
        "id": "UMUnP0uX5I5y",
        "outputId": "28c49835-1a19-4b80-985b-862e6a07b943"
      },
      "execution_count": 106,
      "outputs": [
        {
          "output_type": "display_data",
          "data": {
            "text/plain": [
              "<Figure size 1440x720 with 1 Axes>"
            ],
            "image/png": "[encoded data removed]"
          },
          "metadata": {
            "needs_background": "light"
          }
        }
      ]
    },
    {
      "cell_type": "code",
      "source": [],
      "metadata": {
        "id": "JeAoGvF05Xh6"
      },
      "execution_count": null,
      "outputs": []
    }
  ]
}
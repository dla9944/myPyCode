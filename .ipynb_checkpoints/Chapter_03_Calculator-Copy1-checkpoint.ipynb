{
 "cells": [
  {
   "cell_type": "markdown",
   "id": "30a95384",
   "metadata": {},
   "source": [
    "# 3.1 간단한 사칙 연산"
   ]
  },
  {
   "cell_type": "markdown",
   "id": "a60a9fd6",
   "metadata": {},
   "source": [
    "### 덧셈과 뺄셈, 곱셈과 나눗셈"
   ]
  },
  {
   "cell_type": "code",
   "execution_count": 2,
   "id": "d6cf54a7",
   "metadata": {},
   "outputs": [
    {
     "data": {
      "text/plain": [
       "2"
      ]
     },
     "execution_count": 2,
     "metadata": {},
     "output_type": "execute_result"
    }
   ],
   "source": [
    "1+1"
   ]
  },
  {
   "cell_type": "code",
   "execution_count": 3,
   "id": "44756abb",
   "metadata": {},
   "outputs": [
    {
     "data": {
      "text/plain": [
       "3"
      ]
     },
     "execution_count": 3,
     "metadata": {},
     "output_type": "execute_result"
    }
   ],
   "source": [
    "5-2"
   ]
  },
  {
   "cell_type": "code",
   "execution_count": 4,
   "id": "9ea73b6f",
   "metadata": {},
   "outputs": [
    {
     "data": {
      "text/plain": [
       "30"
      ]
     },
     "execution_count": 4,
     "metadata": {},
     "output_type": "execute_result"
    }
   ],
   "source": [
    "15*2"
   ]
  },
  {
   "cell_type": "code",
   "execution_count": 5,
   "id": "bb696976",
   "metadata": {},
   "outputs": [
    {
     "data": {
      "text/plain": [
       "5.0"
      ]
     },
     "execution_count": 5,
     "metadata": {},
     "output_type": "execute_result"
    }
   ],
   "source": [
    "10/2"
   ]
  },
  {
   "cell_type": "markdown",
   "id": "f0b3d02e",
   "metadata": {},
   "source": [
    "# # 정수와 실수\n",
    "\n",
    "###파이썬은 나눗셈을 시작하면, 나머지가 있던 없든 실수로 표현합니다.\n",
    "\n",
    "정수 : 자연수와 음수, 0 = int\n",
    "실수 : 유리수와 무리수 = float"
   ]
  },
  {
   "cell_type": "code",
   "execution_count": 7,
   "id": "518ee044",
   "metadata": {},
   "outputs": [
    {
     "data": {
      "text/plain": [
       "6.5"
      ]
     },
     "execution_count": 7,
     "metadata": {},
     "output_type": "execute_result"
    }
   ],
   "source": [
    "1.2 + 5.3"
   ]
  },
  {
   "cell_type": "code",
   "execution_count": 9,
   "id": "49a6f484",
   "metadata": {},
   "outputs": [
    {
     "data": {
      "text/plain": [
       "-1.5"
      ]
     },
     "execution_count": 9,
     "metadata": {},
     "output_type": "execute_result"
    }
   ],
   "source": [
    "3.5 - 5.0"
   ]
  },
  {
   "cell_type": "code",
   "execution_count": 10,
   "id": "3c2ce33d",
   "metadata": {},
   "outputs": [
    {
     "data": {
      "text/plain": [
       "2.8"
      ]
     },
     "execution_count": 10,
     "metadata": {},
     "output_type": "execute_result"
    }
   ],
   "source": [
    "1.4 * 2"
   ]
  },
  {
   "cell_type": "code",
   "execution_count": 11,
   "id": "4345bbe7",
   "metadata": {},
   "outputs": [
    {
     "data": {
      "text/plain": [
       "2.5"
      ]
     },
     "execution_count": 11,
     "metadata": {},
     "output_type": "execute_result"
    }
   ],
   "source": [
    "5 / 2"
   ]
  },
  {
   "cell_type": "markdown",
   "id": "164284e3",
   "metadata": {},
   "source": [
    "# 복잡한 연산 \n",
    "\n",
    "##연산 규칙 : 괄호 > 지수 > 곱셈과나눗셈 > 덧셈과 뺄셈\n"
   ]
  },
  {
   "cell_type": "code",
   "execution_count": 12,
   "id": "d0c31863",
   "metadata": {},
   "outputs": [
    {
     "data": {
      "text/plain": [
       "14"
      ]
     },
     "execution_count": 12,
     "metadata": {},
     "output_type": "execute_result"
    }
   ],
   "source": [
    "2 + 3 * 4"
   ]
  },
  {
   "cell_type": "code",
   "execution_count": 17,
   "id": "8d3281cf",
   "metadata": {},
   "outputs": [
    {
     "data": {
      "text/plain": [
       "1.5"
      ]
     },
     "execution_count": 17,
     "metadata": {},
     "output_type": "execute_result"
    }
   ],
   "source": [
    "3 / 2 * (7 - 5) / 2"
   ]
  },
  {
   "cell_type": "code",
   "execution_count": 14,
   "id": "1f72893f",
   "metadata": {},
   "outputs": [
    {
     "data": {
      "text/plain": [
       "8.0"
      ]
     },
     "execution_count": 14,
     "metadata": {},
     "output_type": "execute_result"
    }
   ],
   "source": [
    "10 / 5 + (5-2) * 2"
   ]
  },
  {
   "cell_type": "code",
   "execution_count": 16,
   "id": "a89b906b",
   "metadata": {},
   "outputs": [
    {
     "data": {
      "text/plain": [
       "11"
      ]
     },
     "execution_count": 16,
     "metadata": {},
     "output_type": "execute_result"
    }
   ],
   "source": [
    "(5 * 4 - 15) + ((5 - 2) * (9 - 7))"
   ]
  },
  {
   "cell_type": "markdown",
   "id": "d0de18e8",
   "metadata": {},
   "source": [
    "# 타입\n",
    "\n",
    "#함수 : 기능을 수행하도록 작성된 코드의 묶음\n",
    "#함수명(인자)의 형식으로 이용\n",
    "\n",
    "##시작과 끝을 알려주기 위해 \"()\"를 사용"
   ]
  },
  {
   "cell_type": "code",
   "execution_count": 18,
   "id": "35b1ec16",
   "metadata": {},
   "outputs": [
    {
     "data": {
      "text/plain": [
       "int"
      ]
     },
     "execution_count": 18,
     "metadata": {},
     "output_type": "execute_result"
    }
   ],
   "source": [
    "type(3)"
   ]
  },
  {
   "cell_type": "code",
   "execution_count": 19,
   "id": "a7926716",
   "metadata": {},
   "outputs": [
    {
     "data": {
      "text/plain": [
       "float"
      ]
     },
     "execution_count": 19,
     "metadata": {},
     "output_type": "execute_result"
    }
   ],
   "source": [
    "type(3.0)"
   ]
  },
  {
   "cell_type": "code",
   "execution_count": 21,
   "id": "2304a6e0",
   "metadata": {},
   "outputs": [
    {
     "data": {
      "text/plain": [
       "str"
      ]
     },
     "execution_count": 21,
     "metadata": {},
     "output_type": "execute_result"
    }
   ],
   "source": [
    "type(\"실수\")"
   ]
  },
  {
   "cell_type": "markdown",
   "id": "c01ef15a",
   "metadata": {},
   "source": [
    "# 3.2 거듭 제곱과 나머지\n",
    "\n",
    "거듭제곱 (지수)\n",
    "\n",
    "거듭제곱 연산자 = **"
   ]
  },
  {
   "cell_type": "code",
   "execution_count": 24,
   "id": "eb2e7677",
   "metadata": {},
   "outputs": [
    {
     "data": {
      "text/plain": [
       "32"
      ]
     },
     "execution_count": 24,
     "metadata": {},
     "output_type": "execute_result"
    }
   ],
   "source": [
    "2 * 2 * 2 * 2 * 2"
   ]
  },
  {
   "cell_type": "code",
   "execution_count": 25,
   "id": "fd36f223",
   "metadata": {
    "scrolled": true
   },
   "outputs": [
    {
     "data": {
      "text/plain": [
       "32"
      ]
     },
     "execution_count": 25,
     "metadata": {},
     "output_type": "execute_result"
    }
   ],
   "source": [
    "2**5 "
   ]
  },
  {
   "cell_type": "markdown",
   "id": "b9f6942c",
   "metadata": {},
   "source": [
    "실수도 거듭제곱이 가능하다"
   ]
  },
  {
   "cell_type": "code",
   "execution_count": 26,
   "id": "e5b99665",
   "metadata": {},
   "outputs": [
    {
     "data": {
      "text/plain": [
       "2.25"
      ]
     },
     "execution_count": 26,
     "metadata": {},
     "output_type": "execute_result"
    }
   ],
   "source": [
    "1.5**2"
   ]
  },
  {
   "cell_type": "markdown",
   "id": "db20d0a7",
   "metadata": {},
   "source": [
    "지수가 정수가 아니어도 가능"
   ]
  },
  {
   "cell_type": "code",
   "execution_count": 27,
   "id": "9f630b44",
   "metadata": {},
   "outputs": [
    {
     "data": {
      "text/plain": [
       "1.4142135623730951"
      ]
     },
     "execution_count": 27,
     "metadata": {},
     "output_type": "execute_result"
    }
   ],
   "source": [
    "2**(1/2)"
   ]
  },
  {
   "cell_type": "code",
   "execution_count": 28,
   "id": "b21afb3f",
   "metadata": {},
   "outputs": [
    {
     "data": {
      "text/plain": [
       "1.2599210498948732"
      ]
     },
     "execution_count": 28,
     "metadata": {},
     "output_type": "execute_result"
    }
   ],
   "source": [
    "2**(1/3)"
   ]
  },
  {
   "cell_type": "markdown",
   "id": "f450f613",
   "metadata": {},
   "source": []
  },
  {
   "cell_type": "code",
   "execution_count": null,
   "id": "7d73beaa",
   "metadata": {},
   "outputs": [],
   "source": []
  },
  {
   "cell_type": "code",
   "execution_count": null,
   "id": "284581fb",
   "metadata": {},
   "outputs": [],
   "source": []
  },
  {
   "cell_type": "code",
   "execution_count": null,
   "id": "1071b56a",
   "metadata": {},
   "outputs": [],
   "source": []
  },
  {
   "cell_type": "code",
   "execution_count": null,
   "id": "4711cecb",
   "metadata": {},
   "outputs": [],
   "source": []
  }
 ],
 "metadata": {
  "kernelspec": {
   "display_name": "Python 3 (ipykernel)",
   "language": "python",
   "name": "python3"
  },
  "language_info": {
   "codemirror_mode": {
    "name": "ipython",
    "version": 3
   },
   "file_extension": ".py",
   "mimetype": "text/x-python",
   "name": "python",
   "nbconvert_exporter": "python",
   "pygments_lexer": "ipython3",
   "version": "3.9.13"
  }
 },
 "nbformat": 4,
 "nbformat_minor": 5
}

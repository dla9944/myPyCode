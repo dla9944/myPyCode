{
 "cells": [
  {
   "cell_type": "markdown",
   "id": "e67d000f",
   "metadata": {},
   "source": [
    "# 6장 입력과 출력 "
   ]
  },
  {
   "cell_type": "markdown",
   "id": "2dab8047",
   "metadata": {},
   "source": [
    "## 6.1 화면 출력"
   ]
  },
  {
   "cell_type": "code",
   "execution_count": null,
   "id": "51f372dd",
   "metadata": {},
   "outputs": [],
   "source": [
    "print(\"hello pytion!!\")"
   ]
  },
  {
   "cell_type": "markdown",
   "id": "6cc6af1f",
   "metadata": {},
   "source": [
    "문자열 여러개를 연결하여 출력 (자동으로 공백 발생)"
   ]
  },
  {
   "cell_type": "code",
   "execution_count": null,
   "id": "195db6ec",
   "metadata": {},
   "outputs": [],
   "source": [
    "print(\"Best\",\"Python\",\"book\")"
   ]
  },
  {
   "cell_type": "markdown",
   "id": "e885fea8",
   "metadata": {},
   "source": [
    "###### sep 활용 (공백 대신 다른 문자열)"
   ]
  },
  {
   "cell_type": "code",
   "execution_count": null,
   "id": "e4c827c5",
   "metadata": {},
   "outputs": [],
   "source": [
    "print(\"Best\",\"python\",\"book\", sep = \"-\")"
   ]
  },
  {
   "cell_type": "markdown",
   "id": "73338ae9",
   "metadata": {},
   "source": [
    "빈칸없이 문자를 연결할 때는 + 사용 (빈칸 내지 공백도 메모리 1을 잡아먹습니다)"
   ]
  },
  {
   "cell_type": "code",
   "execution_count": null,
   "id": "6c246f04",
   "metadata": {},
   "outputs": [],
   "source": [
    "print(\"abcd\" + \"efg\")"
   ]
  },
  {
   "cell_type": "markdown",
   "id": "91bc4913",
   "metadata": {},
   "source": [
    "콤마와 + 같이 사용 (콤마는 띄어쓰기 지원, +는 미지원)"
   ]
  },
  {
   "cell_type": "code",
   "execution_count": null,
   "id": "a75e6fe8",
   "metadata": {},
   "outputs": [],
   "source": [
    "print(\"best\", \"of best\"+\" python\",\"book\"+\":\", \"This Book\")"
   ]
  },
  {
   "cell_type": "markdown",
   "id": "4944689b",
   "metadata": {},
   "source": [
    "변수에 저장된 내용을 출력할 때 (이전 사용)"
   ]
  },
  {
   "cell_type": "code",
   "execution_count": null,
   "id": "ef899672",
   "metadata": {},
   "outputs": [],
   "source": [
    "x = 10\n",
    "print(x)"
   ]
  },
  {
   "cell_type": "markdown",
   "id": "4a9d94ff",
   "metadata": {},
   "source": [
    "문자열과 숫자를 함께 출력 (오타를 잡기 위해서는 정확하게 체크가 필요합니다)"
   ]
  },
  {
   "cell_type": "code",
   "execution_count": null,
   "id": "4ff7329a",
   "metadata": {},
   "outputs": [],
   "source": [
    "name = \"T'chala\"\n",
    "ID_num = 789\n",
    "print(\"Name:\",name +\",\", \"ID_num:\",ID_num)"
   ]
  },
  {
   "cell_type": "markdown",
   "id": "a0207135",
   "metadata": {},
   "source": [
    "여러줄로 출력하기 (개행문자 \\n)"
   ]
  },
  {
   "cell_type": "code",
   "execution_count": null,
   "id": "0490f8df",
   "metadata": {},
   "outputs": [],
   "source": [
    "print(\"T'chala is my friend. \\nHe is Korean\")"
   ]
  },
  {
   "cell_type": "markdown",
   "id": "74f7668c",
   "metadata": {},
   "source": [
    "줄바꿈"
   ]
  },
  {
   "cell_type": "code",
   "execution_count": null,
   "id": "fbdb3103",
   "metadata": {},
   "outputs": [],
   "source": [
    "print(\"T'chala is my friend.\\n\\nHe is Wakandain\")"
   ]
  },
  {
   "cell_type": "markdown",
   "id": "0fc8110c",
   "metadata": {},
   "source": [
    "줄을 바꾸지 않고 출력"
   ]
  },
  {
   "cell_type": "code",
   "execution_count": null,
   "id": "5de76524",
   "metadata": {},
   "outputs": [],
   "source": [
    "print(\"Welcome to\")\n",
    "print(\"Wakanda !\")"
   ]
  },
  {
   "cell_type": "markdown",
   "id": "243b9f55",
   "metadata": {},
   "source": [
    "두 줄로 출력된 결과를 한줄로 출력하기 (end)"
   ]
  },
  {
   "cell_type": "code",
   "execution_count": null,
   "id": "48f36ccd",
   "metadata": {},
   "outputs": [],
   "source": [
    "print(\"Welcome to \", end = \"\")\n",
    "print(\"Wakanda !\")"
   ]
  },
  {
   "cell_type": "markdown",
   "id": "52a0e720",
   "metadata": {},
   "source": [
    "# 형식 지정 출력"
   ]
  },
  {
   "cell_type": "markdown",
   "id": "f52c4340",
   "metadata": {},
   "source": [
    "## 형식 지정 출력 "
   ]
  },
  {
   "cell_type": "markdown",
   "id": "e31d0fe5",
   "metadata": {},
   "source": [
    "### 나머지 연산자(%)를 이용한 형식 및 위치 지정\n",
    "\n",
    "나머지 연산자를 이용한 데이터의 출력형식과 위치를 지정하는 기본구조\n",
    "\n",
    "print(\"&type\"%data)\n",
    "\n",
    "print(\"%type%type\"%(data1,data2))"
   ]
  },
  {
   "cell_type": "code",
   "execution_count": null,
   "id": "fe49be4d",
   "metadata": {},
   "outputs": [],
   "source": [
    "name = \"광재\"\n",
    "print(\"%s는 나의 친구입니다.\" % name)"
   ]
  },
  {
   "cell_type": "code",
   "execution_count": null,
   "id": "793cbb5e",
   "metadata": {},
   "outputs": [],
   "source": [
    "r = \"반지름\"  # 변수 r에 정수 데이터 할당\n",
    "PI = 3.14159265357979  # 변수 PI에 실수 데이터 할당\n",
    "print(\"반지름 : %s, 원주율: %f\" % (r, PI))  # 지정된 위치에 데이터 출력 (%d = dash(10진법), %f = float(실수))"
   ]
  },
  {
   "cell_type": "markdown",
   "id": "40df7bda",
   "metadata": {},
   "source": [
    "### 형식 지정 문자열에서 출력 위치 지정"
   ]
  },
  {
   "cell_type": "markdown",
   "id": "e3f9f6af",
   "metadata": {},
   "source": [
    "string.format을 이용하는 형식지정 문자열의 기본 구조\n",
    "\n",
    "print(\"{0},{1},{2}......{n}\"format(data_0,data_1,data_2,...., data_n)"
   ]
  },
  {
   "cell_type": "code",
   "execution_count": null,
   "id": "dee8a48c",
   "metadata": {},
   "outputs": [],
   "source": [
    "animal_0 = \"cat\"\n",
    "animal_1 = \"dog\"\n",
    "animal_2 = \"horse\"\n",
    "\n",
    "print(\"animal:{}\".format(animal_0))\n",
    "print(\"animal:{},{},{}\".format(animal_0,animal_1,animal_2))"
   ]
  },
  {
   "cell_type": "markdown",
   "id": "f944a3b6",
   "metadata": {},
   "source": [
    "##### 출력 위치 변경"
   ]
  },
  {
   "cell_type": "code",
   "execution_count": null,
   "id": "a936e045",
   "metadata": {},
   "outputs": [],
   "source": [
    "print(\"animal:{1},{2},{0}\".format(animal_0,animal_1,animal_2))"
   ]
  },
  {
   "cell_type": "markdown",
   "id": "6d303282",
   "metadata": {},
   "source": [
    "##### 순차적으로 데이터 순서를 지정하려면 생략가능"
   ]
  },
  {
   "cell_type": "code",
   "execution_count": null,
   "id": "f90a95e2",
   "metadata": {},
   "outputs": [],
   "source": [
    "print(\"animal:{},{},{}\".format(animal_0,animal_1,animal_2))"
   ]
  },
  {
   "cell_type": "markdown",
   "id": "86955bcc",
   "metadata": {},
   "source": [
    "##### 정수나 실수도 출력가능"
   ]
  },
  {
   "cell_type": "markdown",
   "id": "9d5e8f72",
   "metadata": {},
   "source": [
    "문자열을 변수에 대입한 후 변수를 불러서 출력 실수의 경우 17자리까지 표현되며 반올림 되어 출력된다."
   ]
  },
  {
   "cell_type": "code",
   "execution_count": null,
   "id": "beffa105",
   "metadata": {},
   "outputs": [],
   "source": [
    "name = \"T'chala\"\n",
    "age = 100\n",
    "a = 0.121212121212121212121212121212121212\n",
    "string = \"string : {}. integer number : {}, floating number : {}\"\n",
    "print(string.format (name, age, a))"
   ]
  },
  {
   "cell_type": "markdown",
   "id": "7fd8f5a3",
   "metadata": {},
   "source": [
    "### 형식 지정 문자열에서 숫자 출력 형식 지정"
   ]
  },
  {
   "cell_type": "markdown",
   "id": "75b496dc",
   "metadata": {},
   "source": [
    "데이터가 숫자일 경우 {N:'출력형식'을 지정하여 다양한 형태로 출력이 가능}"
   ]
  },
  {
   "cell_type": "code",
   "execution_count": null,
   "id": "8bc8e9a9",
   "metadata": {},
   "outputs": [],
   "source": [
    "a = 0.123456789123456789\n",
    "print(\"{0:.1f}, {0:.2f}\".format(a))  # 소수점 . 아래로 숫자를 입력하면 몇 자리수까지 반환이 가능"
   ]
  },
  {
   "cell_type": "code",
   "execution_count": 16,
   "id": "61526b1e",
   "metadata": {},
   "outputs": [
    {
     "name": "stdout",
     "output_type": "stream",
     "text": [
      "0.123,0.1235\n"
     ]
    }
   ],
   "source": [
    "a = 0.1234567890\n",
    "print('{0:.3f},{0:.4f}'.format(a))"
   ]
  },
  {
   "cell_type": "markdown",
   "id": "fc59a090",
   "metadata": {},
   "source": [
    "# 6.1 키보드 입력"
   ]
  },
  {
   "cell_type": "markdown",
   "id": "8375ceb6",
   "metadata": {},
   "source": [
    "### data = input(\"문자열\")"
   ]
  },
  {
   "cell_type": "code",
   "execution_count": null,
   "id": "b8a49462",
   "metadata": {},
   "outputs": [],
   "source": [
    "yourName = input(\"당신의 이름은?\")\n",
    "print(\"당신은 {}이군요.\".format(yourName))"
   ]
  },
  {
   "cell_type": "code",
   "execution_count": null,
   "id": "deedf8ae",
   "metadata": {},
   "outputs": [],
   "source": [
    "yourname = input(\"what_is_your_name? \")\n",
    "print(\"so, you are a {}\".format(yourname))"
   ]
  },
  {
   "cell_type": "code",
   "execution_count": 5,
   "id": "4c2df30a",
   "metadata": {},
   "outputs": [
    {
     "name": "stdout",
     "output_type": "stream",
     "text": [
      "what_is_your_fighting_skill?judo\n",
      "wow, you can fight like judo\n"
     ]
    }
   ],
   "source": [
    "fight_skill = input(\"what_is_your_fighting_skill?\")\n",
    "print(\"wow, you can fight like {}\".format(fight_skill))"
   ]
  },
  {
   "cell_type": "markdown",
   "id": "20b27a96",
   "metadata": {},
   "source": [
    "숫자를 입력한 예"
   ]
  },
  {
   "cell_type": "code",
   "execution_count": null,
   "id": "010af25f",
   "metadata": {},
   "outputs": [],
   "source": [
    "num = input(\"나이를 입력하세요:\")\n",
    "print(\"당신의 나이는 {} 이군요.\".format(num))"
   ]
  },
  {
   "cell_type": "code",
   "execution_count": null,
   "id": "631ebda5",
   "metadata": {},
   "outputs": [],
   "source": [
    "num = input('나이를 입력하세요: ')\n",
    "print('당신의 나이는 {} 이군요.'.format(num))"
   ]
  },
  {
   "cell_type": "markdown",
   "id": "c05060ba",
   "metadata": {},
   "source": [
    "숫자를 연산에 이용하기 위해서는 변환해야 함"
   ]
  },
  {
   "cell_type": "code",
   "execution_count": null,
   "id": "da248e20",
   "metadata": {},
   "outputs": [],
   "source": [
    "a = input(\"what is square's side length? \")\n",
    "area = float(a) **2\n",
    "print(\"square area is {} then\".format(area))"
   ]
  },
  {
   "cell_type": "markdown",
   "id": "ba3ffef6",
   "metadata": {},
   "source": [
    "실수의 경우 (정수인지 실수인지 모르는 경우 실수로 처리하는 것이 좋음)"
   ]
  },
  {
   "cell_type": "code",
   "execution_count": 14,
   "id": "ae67eeee",
   "metadata": {},
   "outputs": [
    {
     "name": "stdout",
     "output_type": "stream",
     "text": [
      "정사각형 한 변의 길이는?: 1.9\n",
      "정사각형의 넓이는: 3.61\n"
     ]
    }
   ],
   "source": [
    "b = input(\"정사각형 한 변의 길이는?: \")\n",
    "area = float(b)**2\n",
    "print(\"정사각형의 넓이는: {}\".format(area))"
   ]
  },
  {
   "cell_type": "markdown",
   "id": "7c3be95f",
   "metadata": {},
   "source": [
    "# 6.3 파일 읽고 쓰기"
   ]
  },
  {
   "cell_type": "markdown",
   "id": "6d640425",
   "metadata": {},
   "source": [
    "#### 출력결과를 화면이 아니라 파일로 출력하거나 읽어야 할 경우"
   ]
  },
  {
   "cell_type": "markdown",
   "id": "0992dcdb",
   "metadata": {},
   "source": [
    "### 파일 열기"
   ]
  },
  {
   "cell_type": "markdown",
   "id": "a4229e56",
   "metadata": {},
   "source": [
    "내장 함수인 open()을 이용해 파일을 열어야 한다.\n",
    "\n",
    "\n"
   ]
  },
  {
   "cell_type": "code",
   "execution_count": null,
   "id": "69cdde96",
   "metadata": {},
   "outputs": [],
   "source": []
  }
 ],
 "metadata": {
  "kernelspec": {
   "display_name": "Python 3 (ipykernel)",
   "language": "python",
   "name": "python3"
  },
  "language_info": {
   "codemirror_mode": {
    "name": "ipython",
    "version": 3
   },
   "file_extension": ".py",
   "mimetype": "text/x-python",
   "name": "python",
   "nbconvert_exporter": "python",
   "pygments_lexer": "ipython3",
   "version": "3.9.13"
  }
 },
 "nbformat": 4,
 "nbformat_minor": 5
}
